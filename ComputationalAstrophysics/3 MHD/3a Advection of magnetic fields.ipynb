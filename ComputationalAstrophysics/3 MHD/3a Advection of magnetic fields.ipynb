{
 "cells": [
  {
   "cell_type": "markdown",
   "metadata": {},
   "source": [
    "# Introduction\n",
    "\n",
    "The evolution of the magnetic field is governed by the induction equation. In the MHD approximation, it can be written as\n",
    "\n",
    "\\begin{equation}\n",
    "\\frac{\\partial \\bf B}{\\partial t} = \\nabla \\times \\left( \\bf v \\times B \\right)\\,,\n",
    "\\end{equation}\n",
    "\n",
    "where ${\\bf v}$ is the velocity of the fluid and ${\\bf B}$ is the magnetic field. The velocity evolution is coupled that of the magnetic field via the Lorentz force ($\\propto \\nabla\\times {{\\bf B} \\times {\\bf B}}$). For simplicity, assume that ${\\bf B}$ does not affect ${\\bf v}$, so we can prescribe ${\\bf v}$ externally. This is usually called the \"kinematic\" regime, where the momentum equation is solved decoupled from the induction equation (or just provides an external velocity field). Note that even in this regime, ${\\bf v}$ is, in general, a function of time and the three spatial coordinates.\n",
    "\n",
    "Induction equation is not a conservative equation. To illustrate this, let us expand the R.H.S. of the induction equation:\n",
    "\n",
    "\\begin{equation}\n",
    "\\nabla \\times \\left( \\bf v \\times B \\right) = {\\bf v} \\left( \\nabla \\cdot {\\bf B} \\right) - {\\bf B} \\left( \\nabla \\cdot {\\bf v} \\right) + \\left({\\bf B} \\cdot \\nabla\\right) {\\bf v} -   \\left({\\bf v} \\cdot \\nabla\\right) {\\bf B}   \\,.\\\n",
    "\\end{equation}\n",
    "\n",
    "Since $\\nabla \\cdot B = 0$, the first term vanishes. Thus, the induction equation reads\n",
    "\n",
    "\\begin{equation}\n",
    "\\frac{D{\\bf B}}{Dt} = \\frac{\\partial \\bf B}{\\partial t} + \\left({\\bf v} \\cdot \\nabla\\right) {\\bf B} = \\left({\\bf B} \\cdot \\nabla\\right) {\\bf v} - {\\bf B} \\left( \\nabla \\cdot {\\bf v} \\right)\\,, \n",
    "\\end{equation}\n",
    "\n",
    "where $D/Dt = \\partial_t + {\\bf v}\\cdot \\nabla$ is the material derivative. \n",
    "\n",
    "As written above, the induction equation implies that the magnetic field is not conserved along fluid lines. It is not conserved because of source terms related to compression ($\\nabla . {\\bf v}\\neq 0$) and velocity gradients along the magnetic field ($\\left({\\bf B}\\cdot \\nabla\\right) {\\bf v}$). This last term, when coupled to the Lorentz force leads to Alfvén waves.\n",
    "\n",
    "Also, an update of the magnetic field must satisfy the solenoidal condition. This condition is clearly met analytically, but developing a numerical solver that does conserve $\\nabla\\cdot B$ imposes additional complications. \n",
    "\n",
    "The form of the induction equation combined with (i) the solenoidal constraint and (ii) a new family of waves that appear when coupling it with the momentum equation, makes it a challenging problem. \n",
    "However, some insight can be obtained by studying particular configurations where the induction gets simple."
   ]
  },
  {
   "cell_type": "markdown",
   "metadata": {},
   "source": [
    "\n",
    "-------\n",
    "# Advection of magnetic fields"
   ]
  },
  {
   "cell_type": "markdown",
   "metadata": {},
   "source": [
    "# Case 1 - ${\\bf B} = B {\\bf e}_z$ and ${\\bf v} = v_x {\\bf e}_x + v_y {\\bf e}_y$ in a 2D sheet ($\\partial_z = 0$)\n",
    "\n",
    "- Assumptions: Let us consider a velocity field orthogonal to the magnetic field. Without loss of generality, we rotate the frame of reference such that ${\\bf B} = B_z(x,y) {\\bf e}_z$ and ${\\bf v} = v_x(x,y) {\\bf e}_x + v_y(x,y) {\\bf e}_y$.\n",
    "\n",
    "\n",
    "- Induction equation: Under the assumptions above, the term ${\\bf v\\cdot \\nabla {\\bf B}}$ vanishes, and the induction equation becomes\n",
    "\n",
    "\\begin{equation}\n",
    "\\frac{\\partial B_z}{\\partial t} + {\\bf v} \\cdot \\nabla{B_z} = - {B_z} \\nabla \\cdot {\\bf v}\\,,\n",
    "\\end{equation}\n",
    "\n",
    "which can be written in conservative form:\n",
    "\n",
    "\\begin{equation}\n",
    "\\frac{\\partial B_z}{\\partial t} + \\nabla \\cdot \\left( B_z {\\bf v}\\right) = 0\\,.\n",
    "\\end{equation}\n",
    "\n",
    "So, the magnetic field is passively advected by the velocity field. It behaves as the density in the continuity equation, so it can be solved using the solvers you already know.\n",
    "\n",
    "\n",
    "- Solenoidal constraint: For any given time, the magnetic field is of the form:\n",
    "\n",
    "\\begin{equation}\n",
    "{\\bf B}(x,y,t) = B_z(x,y,t) {\\bf e}_z, \n",
    "\\end{equation}\n",
    "\n",
    "so, its divergence is:\n",
    "\n",
    "\\begin{equation}\n",
    "\\nabla \\cdot {\\bf B} = \\partial_z \\left( {B_z}(x,y,t)\\right) = 0\\,,\n",
    "\\end{equation}\n",
    "\n",
    "which is a property independent of the method used to update the field.\n",
    "\n",
    "### Task 1:\n",
    "\n",
    "#### Implement an advection scheme (1D or 2D) and advect a magnetic field perpendicular to a given velocity field."
   ]
  },
  {
   "cell_type": "code",
   "execution_count": null,
   "metadata": {
    "tags": []
   },
   "outputs": [],
   "source": [
    "# ..."
   ]
  },
  {
   "cell_type": "markdown",
   "metadata": {},
   "source": [
    "------------\n",
    "# Case 2 - ${\\bf B} = B_x {\\bf e}_x + B_y {\\bf e}_y$ and ${\\bf v} = v_x {\\bf e}_x + v_y {\\bf e}_y$ in a 2D sheet ($\\partial_z = 0)$"
   ]
  },
  {
   "cell_type": "markdown",
   "metadata": {},
   "source": [
    "- Asumptions: Consider a 2D velocity and magnetic fields such that ${\\bf B} = B_x(x,y) {\\bf e}_x + B_y(x,y) {\\bf e}_y$ and ${\\bf v} = v_x(x,y) {\\bf e}_x + v_y(x,y) {\\bf e}_y$. Assume the problem to be 2D, so $\\partial_z = 0$. \n",
    "\n",
    "\n",
    "- Induction equation: Under the assumptions above, the induction equation reads better in terms of the vector potential ${\\bf A}$ (such that ${\\bf B} = \\nabla \\times {\\bf A}$), which, because of the form of ${\\bf B}$, only has component along the $z$ direction (i.e., ${\\bf A} = A {\\bf e}_z$). In this case, the induction equation reads\n",
    "\n",
    "    \\begin{align}\n",
    "        \\partial_t \\left(\\nabla \\times {\\bf A}\\right) + \\nabla \\times \\left[\\left(\\nabla \\times {\\bf A}\\right) \\times {\\bf v}\\right] &= 0 \\nonumber \\\\\n",
    "    \\nabla \\times \\left[ \\partial_t {\\bf A} + \\left(\\nabla \\times {\\bf A}\\right) \\times {\\bf v} \\right] &= 0 \\nonumber \\\\\n",
    "    \\nabla \\times \\left[ \\left(\\partial_t A + {\\bf v}\\cdot \\nabla A\\right) {\\bf e}_z \\right] &= 0 \\nonumber \n",
    "    \\end{align}\n",
    "\n",
    "    The term in brackets is clearly the gradient of some scalar potential, i.e.:\n",
    "\n",
    "    \\begin{equation}\n",
    "    \\partial_t A + {\\bf v}\\cdot \\nabla A = \\partial_z \\phi \n",
    "    \\end{equation}\n",
    "    However, since the problem is 2D, the R.H.S. is zero, implying\n",
    "\n",
    "    \\begin{equation}\n",
    "    \\frac{D A}{Dt} = \\frac{\\partial A}{\\partial t} + {\\bf v}\\cdot \\nabla A = 0\\,.\n",
    "    \\end{equation}\n",
    "    Thus, the vector potential is strictly conserved along the streamlines of the fluid.\n",
    "\n",
    "    Once we solve the equation for the potential, the magnetic field is:\n",
    "\n",
    "\\begin{equation}\n",
    "{\\bf B} = \\frac{\\partial A}{\\partial y} {\\bf e}_x - \\frac{\\partial A}{\\partial x} {\\bf e}_y\\,.\n",
    "\\end{equation}\n",
    "\n",
    "- Solenoidal constraint: Since we solve for the scalar potential, the solenoidal property of the magnetic field is automatically satisfied.\n"
   ]
  },
  {
   "cell_type": "markdown",
   "metadata": {},
   "source": [
    "\n",
    "### Simple discretization of the transport equation and numerical solution\n",
    "\n",
    "The equation we want to solve is:\n",
    "\n",
    "\\begin{equation}\n",
    "\\partial_t A + {\\bf v} \\cdot \\nabla A = 0\\,.\n",
    "\\end{equation}\n",
    "\n",
    "This equation is equivalent to:\n",
    "\\begin{equation}\n",
    "\\frac{DA}{Dt} = 0\\,,\n",
    "\\end{equation}\n",
    "i.e., A is conserved quantity along the flow lines.\n",
    "\n",
    "\n",
    "The simplest thing is to use operator splitting + finite differences, and write:\n",
    "\n",
    "\\begin{align}\n",
    "A^{n+1} - A^{n} = \\frac{v_i \\Delta t}{\\Delta x} \\left(A_{i+1/2}^{n+1/2} - A_{i-1/2}^{n+1/2} \\right) = 0\\,.\n",
    "\\end{align}\n",
    "\n",
    "So, the crucial step is to determine good representations of $A_{i\\pm1/2}^{n+1/2}$. For simplicity, we provide a very simple first-order upwind (diffusive) method, however, higher order methods can be implemented."
   ]
  },
  {
   "cell_type": "markdown",
   "metadata": {},
   "source": [
    "--------\n",
    "### Task 2: Create a 2D mesh that will constitute the domain of the problem\n",
    "You may use the code below, which constitutes a partial solution, as a starting point."
   ]
  },
  {
   "cell_type": "code",
   "execution_count": null,
   "metadata": {},
   "outputs": [],
   "source": [
    "import numpy as np\n",
    "import matplotlib.pyplot as plt\n",
    "#Some customization\n",
    "plt.rcParams['figure.figsize'] = (5, 5)\n",
    "plt.rcParams['image.origin'] = 'lower'"
   ]
  },
  {
   "cell_type": "code",
   "execution_count": null,
   "metadata": {},
   "outputs": [],
   "source": [
    "class Mesh():\n",
    "    \"\"\"\n",
    "    Class to store the domain of the problem\n",
    "    \"\"\"\n",
    "    def __init__(self,xmin,xmax,ymin,ymax,nx,ny):\n",
    "        \n",
    "        # Parameters\n",
    "        self.xmin = xmin\n",
    "        self.xmax = xmax\n",
    "        self.ymin = ymin\n",
    "        self.ymax = ymax\n",
    "        self.nx   = nx\n",
    "        self.ny   = ny\n",
    "        self.extent = [xmin,xmax,ymin,ymax] #Useful for imshow\n",
    "\n",
    "        # The mesh is created here....\n",
    "        x    = ...\n",
    "        y    = ...\n",
    "        self.dx   = ...\n",
    "        self.dy   = ...\n",
    "            \n",
    "        #This is the 2D mesh\n",
    "        self.x,self.y = np.meshgrid(x,y)\n",
    "\n",
    "mesh = Mesh(-0.5,0.5,-0.5,0.5,200,200) #This is how we use the mesh class"
   ]
  },
  {
   "cell_type": "markdown",
   "metadata": {},
   "source": [
    "-----------------\n",
    "### Task 3: Initialize the external velocity field ${\\bf v}$ on the mesh and plot it\n",
    "\n",
    "The test problem suggested is to initialize a rotating region and magnetic lines parallel to the y-axis. This test is similar to the well-known (full MHD) rotor test.\n",
    "\n",
    "The test consists in definining a rotating region centered at $x_0=y_0=0$, described by:\n",
    "\n",
    "\\begin{align}\n",
    "v_x &= \\left\\{\n",
    "\\begin{array}{cl}\n",
    "  -v_\\theta\\sin{\\theta} & r \\leq r_1 \\\\\n",
    "  -f(r)v_\\theta\\sin{\\theta} & r_1 < r < r_2 \\\\\n",
    "  0 & r \\geq r_2\\\\\n",
    "\\end{array}\\right. \\nonumber \\\\\n",
    "v_y &= \\left\\{\n",
    "\\begin{array}{cl}\n",
    "  v_\\theta\\cos{\\theta} & r \\leq r_1 \\\\\n",
    "  f(r)v_\\theta\\cos{\\theta} & r_1 < r < r_2 \\\\\n",
    "  0 & r \\geq r_2\\\\\n",
    "\\end{array}\\right. \\nonumber\n",
    "\\end{align}\n",
    "\n",
    "with $r=\\sqrt{x^2+y^2}$, $\\tan{\\theta} = y/x$, $v_{\\theta} = \\Omega_0 r$, and the smoothing function $f(r)=(r_2-r)/(r_2-r_1)$. $\\Omega_0$ is the angular frequency of the rotating region.\n",
    "\n",
    "#### Suggested parameters for the mesh:\n",
    "\n",
    "$x_{\\rm min} = -0.5$, $x_{\\rm max} =  0.5$, \n",
    "\n",
    "$y_{\\rm min} = -0.5$, $y_{\\rm max} =  0.5$ \n",
    "\n",
    "$\\Omega_0 = 1.0$ \n",
    "\n",
    "$r_1 = 0.3$, $r_2 = 1.1 r_1$"
   ]
  },
  {
   "cell_type": "code",
   "execution_count": null,
   "metadata": {},
   "outputs": [],
   "source": [
    "def velocity_field(mesh, r1, omega0):\n",
    "    \n",
    "    \"\"\"\n",
    "    Returns the velocity field\n",
    "    \"\"\"\n",
    "    \n",
    "    r2      = 1.1*r1 # Smoothing (10%)\n",
    "\n",
    "    # Definitions\n",
    "    r     = ... # Polar radius \n",
    "    theta = ... # Polar angle\n",
    "    vphi  = ... # Azimuthal velocity\n",
    "    f     = ... # Smoothing function\n",
    "\n",
    "    # Velocity arrays\n",
    "    vx   = np.zeros(mesh.x.shape)\n",
    "    vy   = np.zeros(mesh.x.shape)\n",
    "\n",
    "    # Initialize the velocity field\n",
    "    vx[r<r2] = ... \n",
    "    vy[r<r2] = ...\n",
    "    vx[r<r1] = ...\n",
    "    vy[r<r1] = ...\n",
    "    \n",
    "    return vx, vy\n",
    "\n",
    "# Parameters\n",
    "omega_0 = 10.0   # Angular frequency of the spinning region\n",
    "r1      = 0.3    # Radius of the spinning region\n",
    "\n",
    "mesh = Mesh(-0.5,0.5,-0.5,0.5,200,200)\n",
    "vx, vy = velocity_field(mesh,0.3,10.0)"
   ]
  },
  {
   "cell_type": "code",
   "execution_count": null,
   "metadata": {},
   "outputs": [],
   "source": [
    "plt.figure(figsize=(10,5))\n",
    "\n",
    "plt.subplot(1,2,1)\n",
    "plt.title(\"vx\")\n",
    "\n",
    "plt.subplot(1,2,2)\n",
    "plt.title(\"vy\")\n",
    "plt.show()"
   ]
  },
  {
   "cell_type": "markdown",
   "metadata": {},
   "source": [
    "---------\n",
    "### Task 4: \n",
    "\n",
    "#### 4a) Plot streamlines of the velocity field on top of each component of the velocity field (Tip: use streamplot() from matplotlib). \n",
    "\n",
    "#### 4b) Does the plot make sense? Explain what you observe."
   ]
  },
  {
   "cell_type": "code",
   "execution_count": null,
   "metadata": {},
   "outputs": [],
   "source": [
    "plt.figure(figsize=(10,5))\n",
    "\n",
    "plt.subplot(1,2,1)\n",
    "plt.title(\"vx\")\n",
    "...\n",
    "\n",
    "plt.subplot(1,2,2)\n",
    "plt.title(\"vy\")\n",
    "...\n",
    "\n",
    "plt.show()"
   ]
  },
  {
   "cell_type": "markdown",
   "metadata": {},
   "source": [
    "### Task 5: Initial magnetic field\n",
    "\n",
    "#### 5a) Initialize a constant magnetic field parallel to the y-axis (i.e., $B_x = 0$) using the vector potential.\n",
    "\n",
    "Help: Since, in the simple problem under consideration ${\\bf B} = \\partial_y A {\\bf e}_x - \\partial_x A {\\bf e}_y$, if $B_x$ = 0, the potential vector does not depend on $y$. Furthermore, since $B_y$ is constant, the vector potential satisfies:\n",
    "\n",
    "\\begin{equation}\n",
    "\\partial_x A = c\n",
    "\\end{equation}\n",
    "\n",
    "which implies that the potential vector is of the form:\n",
    "\n",
    "\\begin{equation}\n",
    " A(x) = cx + A_0\n",
    "\\end{equation}\n",
    "\n",
    "#### Take c=1, A_0=0, and initialize the vector potential"
   ]
  },
  {
   "cell_type": "code",
   "execution_count": null,
   "metadata": {},
   "outputs": [],
   "source": [
    "Ainit = ...\n",
    "plt.imshow(Ainit,extent=mesh.extent)"
   ]
  },
  {
   "cell_type": "markdown",
   "metadata": {},
   "source": [
    "### Task 6: Magnetic lines\n",
    "\n",
    "Magnetic lines can be plotted with the same function used to plot the streamlines of the velocity field (streamplot()), however, it requires obtaining ${\\bf B}$ from $A_z$, which involves derivatives. In the simple problem under consideration, however, it is actually very simple to plot the magentic lines.\n",
    "\n",
    "By definition, magnetic lines are tangent to the magnetic vector (similarly, streamlines are tangent to the velocity vector field).\n",
    "\n",
    "Let's do the following calculation:\n",
    "\n",
    "\\begin{equation}\n",
    "{\\bf B} \\cdot \\nabla A_z = \\left(\\partial_y A_z {\\bf e}_x - \\partial_x A_z {\\bf e}_y \\right) \\cdot \\left( \\partial_x A_z {\\bf e}_x + \\partial_y A_z {\\bf e}_y\\right) = \\partial_y A_z \\partial_x A_z -\\partial_x A_z \\partial_y A_z = 0\n",
    "\\end{equation}\n",
    "\n",
    "It shows shows that ${\\bf B}$ is perpendicular to $\\nabla A_z$. Isocontours of $A_z$ are perpendincular to $\\nabla A_z$, so they must be parallel to ${\\bf B}$. We then conclude that isocontours of $A_z$ are magentic lines.\n",
    "\n",
    "#### 6a) Compute the magnetic field from the vector potential and plot magnetic lines of the initial condition using streamplot().\n",
    "\n",
    "#### 6b) Plot magnetic lines of the initial condition as isocontours of $A_z$.\n",
    "\n",
    "#### 6c) Why does streamplot swap the sign of one magnetic line at the begining of the plot? Tip: Is the initial condition periodic in the X direction?"
   ]
  },
  {
   "cell_type": "code",
   "execution_count": null,
   "metadata": {},
   "outputs": [],
   "source": [
    "plt.figure(figsize=(10,5))\n",
    "\n",
    "#We calculate the magnetic field from A (bx = d_y A, by = -d_x A)\n",
    "bx = ...\n",
    "by = ...\n",
    "\n",
    "plt.subplot(1,2,1)\n",
    "plt.title(\"Magnetic lines using streamplot\")\n",
    "...\n",
    "\n",
    "plt.subplot(1,2,2)\n",
    "plt.title(\"Magnetic lines as isocontours of A\")\n",
    "...\n",
    "\n",
    "plt.show()"
   ]
  },
  {
   "cell_type": "markdown",
   "metadata": {},
   "source": [
    "### Task 7: Evolve the induction equation to find $A(t)$"
   ]
  },
  {
   "cell_type": "code",
   "execution_count": null,
   "metadata": {},
   "outputs": [],
   "source": [
    "class Transport():\n",
    "    \"\"\"\n",
    "    This is the class we use to transport the vector potential\n",
    "    \"\"\"\n",
    "    def advect(self,dt,axis):\n",
    "        \"\"\"\n",
    "        1st order scheme \"Donor cell\"\n",
    "        \"\"\"\n",
    "    \n",
    "        if axis == 0:\n",
    "            v = self.vy\n",
    "            delta = self.mesh.dy\n",
    "\n",
    "        if axis == 1:\n",
    "            v = self.vx\n",
    "            delta = self.mesh.dx\n",
    "    \n",
    "        pv = np.where(v>0)\n",
    "        nv = np.where(v<=0)\n",
    "\n",
    "        Am = np.roll(self.A, +1, axis=axis)\n",
    "        Ap = np.roll(self.A, -1, axis=axis)\n",
    "\n",
    "        self.A[pv] -= dt/delta*v[pv]*(self.A[pv]-Am[pv])\n",
    "        self.A[nv] -= dt/delta*v[nv]*(Ap[nv]-self.A[nv])\n",
    "    \n",
    "    def __init__(self,mesh,vx,vy,A):\n",
    "\n",
    "        #CFL condition\n",
    "        self.dt = 0.5*np.sqrt(mesh.dx**2+mesh.dy**2)/np.max(np.sqrt(vx**2+vy**2))\n",
    "        \n",
    "        self.mesh = mesh\n",
    "        self.vx = vx\n",
    "        self.vy = vy\n",
    "        self.A  = np.copy(A)\n",
    "        \n",
    "    def update(self,total_time):\n",
    "\n",
    "        time = 0\n",
    "        while(time < total_time):\n",
    "        \n",
    "            # We check we are beyond the requested output_time\n",
    "            if time+self.dt > total_time:\n",
    "                effective_dt = total_time-time\n",
    "            else:\n",
    "                effective_dt = self.dt\n",
    "        \n",
    "            # Simple operator split (first transport along X, then along Y)\n",
    "            self.advect(effective_dt,axis=1)\n",
    "            self.advect(effective_dt,axis=0)\n",
    "            \n",
    "            time += effective_dt"
   ]
  },
  {
   "cell_type": "markdown",
   "metadata": {},
   "source": [
    "#### Example of use"
   ]
  },
  {
   "cell_type": "code",
   "execution_count": null,
   "metadata": {},
   "outputs": [],
   "source": [
    "mesh  = Mesh(-0.5,0.5,-0.5,0.5,100,100)     # We create the mesh\n",
    "vx,vy = velocity_field(mesh, 0.3, 10.0)     # We initialize a velocity field\n",
    "A     = mesh.x                              # Initial condition for the vector potential\n",
    "\n",
    "transport = Transport(mesh,vx,vy,A)         # Instantiate the Transport class\n",
    "\n",
    "# Plot the initial condition\n",
    "time = 0.0\n",
    "plt.contour(transport.mesh.x,transport.mesh.y,transport.A,10,colors='k',linestyles='solid')\n",
    "plt.title(\"time {:f}\".format(time))\n",
    "plt.show()\n",
    "\n",
    "# Advance the induction equation\n",
    "dt     = 0.01   # Integration step (Note that it is usually larger than the CFL condion)\n",
    "nsteps = 2      # Number of Integration steps\n",
    "\n",
    "for i in range(nsteps):\n",
    "    transport.update(dt)\n",
    "    \n",
    "    # Plot the evolution of the magnetic lines\n",
    "    time += dt\n",
    "    plt.contour(transport.mesh.x,transport.mesh.y,transport.A,10,colors='k',linestyles='solid')\n",
    "    plt.title(\"time {:f}\".format(time))\n",
    "    plt.show()"
   ]
  },
  {
   "cell_type": "markdown",
   "metadata": {},
   "source": [
    "### Reconnection due to finite numerical resistivity\n",
    "\n",
    "#### 7a) Use $\\Omega_0 = 10$, $nx=ny=100$ and evolve $A$ by steps $\\Delta t = 0.1$ until reaching a final time $t = 0.5$. For each step, plot the magentic line associated with the isocontours $A = 0$. \n",
    "\n",
    "\n",
    "    - What happens with the magnetic line? Is this what you expected from theoretical arguments?\n",
    "    - Increase the number of grid-points to 400x400, what changes? Is this expected? Explain"
   ]
  },
  {
   "cell_type": "code",
   "execution_count": null,
   "metadata": {},
   "outputs": [],
   "source": [
    "..."
   ]
  },
  {
   "cell_type": "markdown",
   "metadata": {},
   "source": [
    "### Field expulsion due to numerical resitivity\n",
    "\n",
    "We will study the steady-state solution of the system.\n",
    "\n",
    "#### 7b) Use $n_x=n_y=200$ to evolve $A$ for a time $t=20$ by steps $\\Delta t = 5$.  For each $\\Delta t$, plot 20 magnetic lines in the range A=(-0.5,0.5).\n",
    "    \n",
    "Note that in steady-state, our problem reads:\n",
    "\\begin{equation}\n",
    "{\\bf v}\\cdot \\nabla A_z = 0\n",
    "\\end{equation}\n",
    "However, magnetic lines are isocontours of A:\n",
    "\\begin{equation}\n",
    "{\\bf B}\\cdot \\nabla A_z = 0\n",
    "\\end{equation}\n",
    "so, in steady-state, ${\\bf B}$ and ${\\bf v}$ are parallel. Does the steady-state numerical solution show that?\n",
    "\n",
    "#### 7c) For t=20, plot the streamlines on top of the magnetic lines. What happened with the magnetic field in the rotating region? Explain."
   ]
  },
  {
   "cell_type": "code",
   "execution_count": null,
   "metadata": {
    "tags": []
   },
   "outputs": [],
   "source": [
    "..."
   ]
  },
  {
   "cell_type": "markdown",
   "metadata": {
    "tags": []
   },
   "source": [
    "### __Absalon turn-in__"
   ]
  },
  {
   "cell_type": "markdown",
   "metadata": {
    "tags": []
   },
   "source": [
    "This exercise is a little bit different from past exercises by having a number of smaller tasks embedded in to the notebook. Once you have answered -- inline -- please remember to clean it up and copy your solution down beyond this cell. Upload your notebook together with a pdf of the notebook as a solution to the exercise"
   ]
  }
 ],
 "metadata": {
  "kernelspec": {
   "display_name": "Python 3 (ipykernel)",
   "language": "python",
   "name": "python3"
  },
  "language_info": {
   "codemirror_mode": {
    "name": "ipython",
    "version": 3
   },
   "file_extension": ".py",
   "mimetype": "text/x-python",
   "name": "python",
   "nbconvert_exporter": "python",
   "pygments_lexer": "ipython3",
   "version": "3.9.13"
  }
 },
 "nbformat": 4,
 "nbformat_minor": 4
}
