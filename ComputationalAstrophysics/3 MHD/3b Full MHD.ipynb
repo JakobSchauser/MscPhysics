{
 "cells": [
  {
   "cell_type": "markdown",
   "metadata": {},
   "source": [
    "In this notebook, we will solve the full MHD equations, where the induction equation is coupled to the momentum equation via the Lorentz Force. You are going to use a numerical code that uses a combination of operator splitting, upwind methods, and method of characteristics-constrained transport for MHD."
   ]
  },
  {
   "cell_type": "markdown",
   "metadata": {
    "tags": []
   },
   "source": [
    "# Solving the MHD equations using numerical tools - Introduction to FARGO3D"
   ]
  },
  {
   "cell_type": "markdown",
   "metadata": {},
   "source": [
    "#### Preparations"
   ]
  },
  {
   "cell_type": "markdown",
   "metadata": {},
   "source": [
    "First we need to create a temporary folder in the virtual machine file system, because the ERDA filesystem where you normally store your files is extremely slow, and not well-suited for compiling large code bases."
   ]
  },
  {
   "cell_type": "code",
   "execution_count": null,
   "metadata": {},
   "outputs": [],
   "source": [
    "import os\n",
    "import shutil"
   ]
  },
  {
   "cell_type": "code",
   "execution_count": null,
   "metadata": {},
   "outputs": [],
   "source": [
    "# Get the current working directory\n",
    "cwd = os.getcwd()\n",
    "# Go to home folder, which is in the temporary filesystem of the virtual machine\n",
    "home = '/home/jovyan'\n",
    "os.chdir(home)"
   ]
  },
  {
   "cell_type": "markdown",
   "metadata": {},
   "source": [
    "#### Cloning the code from a git repository"
   ]
  },
  {
   "cell_type": "markdown",
   "metadata": {},
   "source": [
    "First, download the code from its git repository"
   ]
  },
  {
   "cell_type": "code",
   "execution_count": null,
   "metadata": {},
   "outputs": [],
   "source": [
    "!git clone https://bitbucket.org/fargo3d/public.git fargo3d\n",
    "fargo_folder = os.getcwd()+'/fargo3d'"
   ]
  },
  {
   "cell_type": "markdown",
   "metadata": {},
   "source": [
    "Next, we need to compile the source files. We will compile the code with an MHD setup called Orszag-Tang Vortex test (Orszag & Tang 1979)."
   ]
  },
  {
   "cell_type": "markdown",
   "metadata": {},
   "source": [
    "#### Building the code (compilation)"
   ]
  },
  {
   "cell_type": "code",
   "execution_count": null,
   "metadata": {},
   "outputs": [],
   "source": [
    "os.chdir(fargo_folder)\n",
    "!make clean\n",
    "!make SETUP=otvortex >& log_compile #This is the Orszag-Tang Vortex test"
   ]
  },
  {
   "cell_type": "markdown",
   "metadata": {},
   "source": [
    "### Running the code (evolve the MHD equations)"
   ]
  },
  {
   "cell_type": "markdown",
   "metadata": {},
   "source": [
    "Next, let's run the code from the code directory"
   ]
  },
  {
   "cell_type": "code",
   "execution_count": null,
   "metadata": {},
   "outputs": [],
   "source": [
    "os.chdir(cwd) # change to exercise folder"
   ]
  },
  {
   "cell_type": "code",
   "execution_count": null,
   "metadata": {},
   "outputs": [],
   "source": [
    "os.system('rm -rf fargo3d setups std') # make sure nothing left-over from old runs is present\n",
    "os.system('cp -f \"'+fargo_folder+'/fargo3d\" \"'+cwd+'\"')   # get executable\n",
    "os.system('cp -rf \"'+fargo_folder+'/setups\" \"'+cwd+'\"')   # get setups\n",
    "os.system('cp -rf \"'+fargo_folder+'/std\" \"'+cwd+'\"')      # extra config files"
   ]
  },
  {
   "cell_type": "code",
   "execution_count": null,
   "metadata": {},
   "outputs": [],
   "source": [
    "!./fargo3d -o \"ny=128, nz=128, dt=0.05, ntot=10, outputdir=outputs/otvortex\" setups/otvortex/otvortex.par"
   ]
  },
  {
   "cell_type": "markdown",
   "metadata": {},
   "source": [
    "Let's explore the output directory"
   ]
  },
  {
   "cell_type": "code",
   "execution_count": null,
   "metadata": {},
   "outputs": [],
   "source": [
    "ls outputs/otvortex/"
   ]
  },
  {
   "cell_type": "markdown",
   "metadata": {},
   "source": [
    "The domain of the mesh is stored in the files:\n",
    "- domain_x.dat\n",
    "- domain_y.dat (it contains 6 ghost zones (3 at the beginning + 3 at the end, used for boundaries)\n",
    "- domain_z.dat (it contains 6 ghost zones (3 at the beginning + 3 at the end, used for boundaries)\n",
    "\n",
    "The hydrodynamics fields are: \n",
    "- gasdens%.dat\n",
    "- gasvx%.dat \n",
    "- gasvy%.dat \n",
    "- gasvz%.dat\n",
    "\n",
    "The magnetic fields are: \n",
    "- bx%.dat \n",
    "- by%.dat \n",
    "- bz%.dat\n",
    "\n",
    "Setup related files are in \"fargo3d/setups/otvortex/\""
   ]
  },
  {
   "cell_type": "markdown",
   "metadata": {},
   "source": [
    "The MHD algorithm is in fargo3d/src/mhd.c"
   ]
  },
  {
   "cell_type": "code",
   "execution_count": null,
   "metadata": {},
   "outputs": [],
   "source": [
    "os.system('cat \"'+fargo_folder+'/src/mhd.c\"')"
   ]
  },
  {
   "cell_type": "markdown",
   "metadata": {},
   "source": [
    "### Let's plot some data"
   ]
  },
  {
   "cell_type": "code",
   "execution_count": null,
   "metadata": {},
   "outputs": [],
   "source": [
    "import numpy as np\n",
    "import matplotlib.pyplot as plt\n",
    "#Some customization\n",
    "plt.rcParams['figure.figsize'] = (5, 5)\n",
    "plt.rcParams['image.origin']   = 'lower'"
   ]
  },
  {
   "cell_type": "markdown",
   "metadata": {},
   "source": [
    "We first create a class that will be useful to obtain the parameters used for each run."
   ]
  },
  {
   "cell_type": "code",
   "execution_count": null,
   "metadata": {},
   "outputs": [],
   "source": [
    "class Parameters():\n",
    "    \"\"\"\n",
    "    Class for reading the simulation parameters (taken from utils/python/parameters.py).\n",
    "    input: string -> name of the parfile, normally variables.par\n",
    "    \"\"\"\n",
    "    def __init__(self, directory=''):\n",
    "        if len(directory) > 1:\n",
    "            if directory[-1] != '/':\n",
    "                directory += '/'\n",
    "        try:\n",
    "            params = open(directory+\"variables.par\",'r') #Opening the parfile\n",
    "        except IOError:                  # Error checker.\n",
    "            print(\"Check your directory.\")\n",
    "            return\n",
    "        lines = params.readlines()     # Reading the parfile\n",
    "        params.close()                 # Closing the parfile\n",
    "        par = {}                       # Allocating a dictionary\n",
    "        for line in lines:             # Iterating over the parfile\n",
    "            name, value = line.split() # Spliting the name and the value (first blank)\n",
    "            try:\n",
    "                float(value)           # First trying with float\n",
    "            except ValueError:         # If it is not float\n",
    "                try:\n",
    "                    int(value)         #                   we try with integer\n",
    "                except ValueError:     # If it is not integer, we know it is string\n",
    "                    value = '\"' + value + '\"'\n",
    "            par[name] = value          # Filling the dictionary\n",
    "        for name in par:               # Iterating over the dictionary\n",
    "            exec(\"self.\"+name.lower()+\"=\"+par[name]) # Making the atributes at runtime\n",
    "            \n",
    "def get_data(fieldname,n,params):\n",
    "    \"\"\"\n",
    "    We load some scalar field (e.g., density, vx, Bx, etc...)\n",
    "    and make it 2D (because for this exercise all our fields are 2D).\n",
    "    \"\"\"\n",
    "    return np.fromfile(params.outputdir+fieldname+str(n)+\".dat\").reshape(params.nz,params.ny)    "
   ]
  },
  {
   "cell_type": "markdown",
   "metadata": {},
   "source": [
    "Example of use"
   ]
  },
  {
   "cell_type": "code",
   "execution_count": null,
   "metadata": {},
   "outputs": [],
   "source": [
    "params = Parameters(\"outputs/otvortex/\")\n",
    "\n",
    "# In the notebook, if you now write params and press tab, \n",
    "# the autocompletion will show you all the parameters used \n",
    "# for the run\n",
    "density = get_data(\"gasdens\",10,params)\n",
    "extent  = [params.ymin,params.ymax,params.zmin,params.zmax]\n",
    "plt.imshow(density,extent=extent)\n",
    "plt.xlabel(\"Y\")\n",
    "plt.ylabel(\"Z\")\n",
    "plt.show()"
   ]
  },
  {
   "cell_type": "markdown",
   "metadata": {},
   "source": [
    "### Task 1: For the Orszag-Tang Vortex test, plot $B_y$, $B_z$, $V_y$ and $V_z$ for $t=0.5$"
   ]
  },
  {
   "cell_type": "code",
   "execution_count": null,
   "metadata": {},
   "outputs": [],
   "source": [
    "plt.figure(figsize=(10,10))\n",
    "params = Parameters(\"outputs/otvortex/\")\n",
    "\n",
    "for i,name in enumerate([\"gasvy\",\"gasvz\",\"by\",\"bz\"]):\n",
    "    plt.subplot(2,2,i+1)\n",
    "    plt.title(name)\n",
    "    \n",
    "    #Get data and plot it\n",
    "    ... "
   ]
  },
  {
   "cell_type": "markdown",
   "metadata": {},
   "source": [
    "### Task 2: For the Orszag-Tang Vortex test, plot the streamlines and the magnetic lines "
   ]
  },
  {
   "cell_type": "code",
   "execution_count": null,
   "metadata": {},
   "outputs": [],
   "source": [
    "#We need the domian\n",
    "n = 10\n",
    "\n",
    "vy = ...\n",
    "vz = ...\n",
    "by = ...\n",
    "bz = ...\n",
    "\n",
    "outputdir = params.outputdir\n",
    "\n",
    "# We need a mesh with the domain for the task\n",
    "\n",
    "# First, load the 1D arrays with the domain\n",
    "y_1d  = np.loadtxt(params.outputdir+\"domain_y.dat\")[3:-4]\n",
    "z_1d  = np.loadtxt(params.outputdir+\"domain_z.dat\")[3:-4]\n",
    "\n",
    "# Now, create a 2D mesh using meshgrid\n",
    "y_2d,z_2d = np.meshgrid(y_1d,z_1d)\n",
    "\n",
    "plt.figure(figsize=(10,5))\n",
    "plt.subplot(1,2,1)\n",
    "plt.title(\"Magnetic lines\")\n",
    "plt.imshow(density,extent=[params.ymin,params.ymax,params.zmin,params.zmax])\n",
    "... #Magnetic lines here\n",
    "\n",
    "plt.subplot(1,2,2)\n",
    "plt.title(\"Streamlines\")\n",
    "plt.imshow(density,extent=[params.ymin,params.ymax,params.zmin,params.zmax])\n",
    "... #Streamlines here"
   ]
  },
  {
   "cell_type": "markdown",
   "metadata": {},
   "source": [
    "### Task 3: Calculate $\\nabla \\cdot {\\bf B}$, plot it with imshow and verify $\\nabla \\cdot {\\bf B} = 0$ for all the mesh. Consider the solution at $t = 0.5$\n",
    "\n",
    "$\\nabla \\cdot {\\bf B} = \\partial_x B_x + \\partial_y B_y + \\partial_z B_z$, which in finite differences it reads:\n",
    "\n",
    "In this problem, $B_x = 0$, so:\n",
    "\\begin{equation}\n",
    "\\nabla \\cdot {\\bf B} = \\frac{{B_y}_{jk}-{B_y}_{j-1k}}{\\Delta y} + \\frac{{B_z}_{jk}-{B_z}_{jk-1}}{\\Delta z}\n",
    "\\end{equation}\n",
    "\n",
    "Tip: remember that $\\Delta y$ and $\\Delta z$ are constant, so, if the divergence is zero, then you only need to show that:\n",
    "\\begin{equation}\n",
    "{B_y}_{jk}-{B_y}_{j-1k} + {B_z}_{jk}-{B_z}_{jk-1} = 0\n",
    "\\end{equation}"
   ]
  },
  {
   "cell_type": "code",
   "execution_count": null,
   "metadata": {},
   "outputs": [],
   "source": [
    "n  = 10\n",
    "by = ... \n",
    "bz = ...\n",
    "\n",
    "divB = # ...\n",
    "plt.imshow(divB) # ...\n",
    "plt.colorbar()   # ..."
   ]
  },
  {
   "cell_type": "markdown",
   "metadata": {},
   "source": [
    "We covered the basics of the code. You can find further documentation in https://fargo3d.bitbucket.io/, and the algorithms used in https://ui.adsabs.harvard.edu/abs/2016ApJS..223...11B/abstract\n",
    "\n",
    "---------------------"
   ]
  },
  {
   "cell_type": "markdown",
   "metadata": {},
   "source": [
    "### Linear MRI test\n",
    "\n",
    "You are going to learn how to use FARGO3D to measure the growth rate of the magnetorotational instability (MRI) and compare it to the values predicted by linear perturbation analysis.\n",
    "\n",
    "The methods and results of this exercise not only validates the correctness of the solver implemented in a numerical code but also serve as a starting point for studying the so-called nonlinear regime of the MRI.\n",
    "\n",
    "### Preliminaries\n",
    "\n",
    "The magnetorotational instability (MRI) can be derived using the shearing-sheet approximation, which consists of a local expansion of the equations around a fiducial radius in a rotating frame within a disk. \n",
    "\n",
    "This treatment allows us to neglect the curvature terms and simplify the equations while maintaining important physical properties of the system (like the shear and non-inertial forces in the case of an astrophysical disk).\n",
    "\n",
    "In order to derive the equations leading to the MRI, we linearize the Navier-Stokes + Induction equations in the incompressible limit ($\\nabla \\cdot {\\bf v}$) = 0 over a constant background magnetic field along the vertical direction $z$ and a constant sheared background (see, e.g. chapter 14.9 from the Theoretical Astrophysics course for more details). We only assume perturbations in the plane.\n",
    "\n",
    "After writing the perturbations in Fourier space ($\\delta \\propto \\hat{\\delta} e^{ik z+\\omega t}$), we get the following set of equations for the perturbations:\n",
    "\n",
    "\\begin{align}\n",
    "\\tilde{\\omega} \\delta v_x  &= 2 \\delta v_y + i\\tilde{k}\\delta b_x, \\nonumber \\\\\n",
    "\\tilde{\\omega} \\delta v_y  &= -\\frac{1}{2} \\delta v_x + i\\tilde{k} \\delta b_y, \\nonumber \\\\\n",
    "\\tilde{\\omega} \\delta b_x &= i\\tilde{k}\\delta v_x, \\nonumber \\\\\n",
    "\\tilde{\\omega} \\delta b_y  &= -\\frac{3}{2} \\delta b_x + i\\tilde{k} \\delta v_y,\\nonumber \\\\ \\nonumber \n",
    "\\end{align}\n",
    "\n",
    "where $\\delta b_{x,y}$ = $\\delta B_{x,y}/\\sqrt{\\mu_0\\rho}$, $\\tilde{k} = k v_A/\\Omega_0$ with $v_A = B_z/\\sqrt{\\mu_0\\rho}$ the Alfvén speed and $\\tilde{\\omega} = \\omega/\\Omega_0$. For simplicity, we have omitted the \"hat\" symbols, but remember that perturbations correspond to the Fourier components (which are in general complex quantities).\n",
    "\n",
    "By defining the vector $\\vec{\\delta} \\equiv [\\delta v_x, \\delta v_y, \\delta b_x, \\delta b_y]$, the system can be written as:\n",
    "\n",
    "\\begin{equation}\n",
    "L\\delta = \\tilde{\\omega} \\delta\n",
    "\\end{equation}\n",
    "with $L$ given by:\n",
    "\n",
    "\\begin{equation}\n",
    "L=\n",
    "\\begin{bmatrix}\n",
    "0 & 2 & i\\tilde{k} & 0 \\\\\n",
    "-1/2 & 0 & 0 & i\\tilde{k} \\\\\n",
    "i\\tilde{k} & 0 & 0 & 0 \\\\\n",
    "0 & i\\tilde{k} & -3/2 & 0 \\\\\n",
    "\\end{bmatrix},\n",
    "\\end{equation}\n",
    "\n",
    "In this way, we have reduced the problem to an eigenvalue problem (whose solution gives us the dispersion relation  of the problem, i.e., the pair $k,\\omega$ such that non-trivial solution for the perturbations exists. "
   ]
  },
  {
   "cell_type": "markdown",
   "metadata": {},
   "source": [
    "#### Dispersion relation\n",
    "\n",
    "The characteristic equation ($\\det(L-\\omega I) = 0$) is:\n",
    "\n",
    "\\begin{equation}\n",
    "\\omega^4+\\left(2\\tilde{k}^2 + 1\\right) \\omega^2 + \\tilde{k}^2\\left(\\tilde{k}^2 - 3 \\right) = 0 .\n",
    "\\end{equation}\n",
    "\n",
    "This is a parabola in $\\omega^2$ and the (4) roots are:\n",
    "\n",
    "\\begin{equation}\n",
    "\\omega = \\pm\\left[ -\\frac{1 + 2\\tilde{k}^2}{2} \\pm \\frac{1}{2}\\sqrt{1+16\\tilde{k}^{2}}\\right]^{1/2}.\n",
    "\\end{equation}\n",
    "\n",
    "One of these eigenvalues is real and positive (under conditions you can easily determine), leading to an exponential growth of the perturbations. This exponential growth is called the Magnetorotational instability. \n",
    "\n",
    "The unstable eigenvalue is:\n",
    "\n",
    "\\begin{equation}\n",
    "{\\omega_{\\rm unstable}} = \\left[ -\\frac{1 + 2\\tilde{k}^2}{2} + \\frac{1}{2}\\sqrt{1+16\\tilde{k}^{2}}\\right]^{1/2}\n",
    "\\end{equation}"
   ]
  },
  {
   "cell_type": "markdown",
   "metadata": {},
   "source": [
    "### Task 1 \n",
    "\n",
    "- Plot the dispersion relation of the instability (i.e., growth rate ($\\omega_{\\rm unstable}$) as a function of $\\tilde{k}$ (assume $\\tilde{k}>0$).\n",
    "    \n",
    "- Show that the maximum growth rate occurs at $\\tilde{k}_\\text{max} = \\sqrt{15}/4$ and prove that it is equal to $\\omega_\\text{max} = 3/4$.\n",
    "    \n",
    "- Show that there is a cut-off at $\\tilde{k}_\\text{cut-off} = \\sqrt{3}$ (i.e., for $\\tilde{k}>\\tilde{k}_{\\rm cut-off}$, $\\omega_{\\rm unstable}$ is not real anymore)."
   ]
  },
  {
   "cell_type": "code",
   "execution_count": null,
   "metadata": {},
   "outputs": [],
   "source": [
    "..."
   ]
  },
  {
   "cell_type": "markdown",
   "metadata": {},
   "source": [
    "### Evolution of an isolated mode\n",
    "\n",
    "Once the eigenvalues of the operator $L$ are known, the eigenvectors can be obtained (for each eigenvalue), and the linear solution of the system, for each particular mode, can be written as:\n",
    "\\begin{align}\n",
    "\\delta v_x(z,t)  &= \\frac{A}{N} \\tilde{\\omega} \\sin{\\left(kz\\right)} e^{\\omega t} \\nonumber \\\\\n",
    "\\delta v_y(z,t)   &= \\frac{A}{N} \\frac{\\tilde{\\omega}^2 + \\tilde{k}^2}{2} \\sin{\\left(kz\\right)} e^{\\omega t} \\nonumber  \\\\\n",
    "\\delta b_x(z,t)  &= \\frac{A}{N}\\tilde{k} \\cos{\\left(kz\\right)} e^{\\omega t} \\nonumber \\\\\n",
    "\\delta b_y(z,t)  &= -\\frac{A}{N} \\frac{2\\tilde{k}\\tilde{\\omega}}{\\tilde{\\omega}^2 + \\tilde{k}^2} \\cos{\\left(kz\\right)} e^{\\omega t} \\nonumber \n",
    "\\end{align}\n",
    "\n",
    "where $N$ is a normalization factor for the eigenvectors, given by \n",
    "\n",
    "\\begin{equation}\n",
    "N = \\sqrt{\\tilde{\\omega}^2 + \\left(\\frac{\\tilde{\\omega}^2 + \\tilde{k}^2}{2}\\right)^2 + \\tilde{k}^2 + \\left(\\frac{2\\tilde{k}\\tilde{\\omega}}{\\tilde{\\omega}^2 + \\tilde{k}^2}\\right)^2}\n",
    "\\end{equation} \n",
    "\n",
    "The initial amplitude of the perturbations is given by $A$. (Note: the solution for any arbitrary initial condition is can now be obtained as the linear combination of these four modes)\n",
    "\n",
    "\n",
    "### Task 2 - Using FARGO3D, measure the linear growth rate $\\omega$ of the MRI for different values of $\\tilde{k}$\n",
    "\n",
    "Now we will recover the evolution of the unstable mode by solving the full set of nonlinear MHD equations from very small perturbations, so the linear approximation remains valid. In other words, the goal of the exercise is to use FARGO3D to build the dispersion relation numerically, exciting the unstable mode to measure the corresponding growth rate."
   ]
  },
  {
   "cell_type": "markdown",
   "metadata": {},
   "source": [
    "### Guideline"
   ]
  },
  {
   "cell_type": "markdown",
   "metadata": {},
   "source": [
    "#### Step 1 - Incorporating a new setup\n",
    "\n",
    "Copy the file \"mri-growth-sb.zip\" to fargo3d/setups/.\n",
    "Opening the Terminal you can unpack the file using the command \"unzip FILENAME\". Once you have unzip'ed the file, you can compile the code with the MRI setup.\n",
    "\n",
    "**remember** that the file should be copied to the temporary folder where the full fargo-3d code resides. That is in /home/jovyan/fargo. From the terminal something like\n",
    "\n",
    "`cp mri-growth-sb.zip /home/jovyan/fargo3d/setups`\n",
    "\n",
    "`cd /home/jovyan/fargo3d/setups`\n",
    "\n",
    "`unzip mri-growth-sb.zip`\n",
    "\n",
    "should do the trick. **The cell below accomplishes the same, but verify that it has been done. Last line should be something like \"inflating: mri-growth-sb/mri-growth-sb.bound.0\"**"
   ]
  },
  {
   "cell_type": "code",
   "execution_count": null,
   "metadata": {},
   "outputs": [],
   "source": [
    "os.system('cp -f \"'+cwd+'/mri-growth-sb.zip\" \"'+fargo_folder+'/setups/\" ')   # copy MRI setup\n",
    "os.chdir(fargo_folder+'/setups') # change to setup folder\n",
    "os.system('unzip mri-growth-sb.zip')   # unzip it\n",
    "os.chdir(cwd) # change to exercise folder"
   ]
  },
  {
   "cell_type": "markdown",
   "metadata": {},
   "source": [
    "We first clean the code (remove the executable and compiled sources that were used for the previous setup)"
   ]
  },
  {
   "cell_type": "code",
   "execution_count": null,
   "metadata": {},
   "outputs": [],
   "source": [
    "os.chdir(fargo_folder)\n",
    "!make clean"
   ]
  },
  {
   "cell_type": "markdown",
   "metadata": {},
   "source": [
    "And compile the code again, but with the new setup \"mri-growth-sb\""
   ]
  },
  {
   "cell_type": "code",
   "execution_count": null,
   "metadata": {},
   "outputs": [],
   "source": [
    "!make SETUP=mri-growth-sb > build_mri_log"
   ]
  },
  {
   "cell_type": "markdown",
   "metadata": {},
   "source": [
    "Before running the code, have a look at the initial condition file (setups/mri-growth-sb/condinit.c) and the parameters file (setups/mri-growth-sb/mri-growth-sb.par), which allows you to modify the parameters of the run.\n",
    "\n",
    "Any parameter there can also be changed at execution time through the flag \"-o\",\n",
    "\n",
    "e.g.: \n",
    "           \n",
    "    ./fargo3d -o \"dt=0.1 nx=32 ny=32\" setups/mri-growth-sb/mri-growth-sb.par\n",
    "\n",
    "#### Comment about the initial condition\n",
    "\t\n",
    "In the file \"condinit.c\", the eigenvectors are initialized proportional to trigonometric functions with argument $\\left(2\\pi z/\\Delta Z\\right)$, with $\\Delta Z = Z_\\text{max}-Z_\\text{min}$. This is equivalent to considering the wave number $k = 2\\pi/\\Delta Z$. So, in order to change the excited mode, it is enough to change the vertical size of the box.\n",
    "\n",
    "The size $\\Delta Z$ of the box is related to the wave number $k$ and the parameters of the problem by the following relation:\n",
    "\n",
    "\\begin{equation}\n",
    "k = \\frac{2\\pi}{\\Delta Z} = \\frac{\\tilde{k} \\Omega_0}{v_{\\rm A}} \\Longrightarrow \\Delta Z = \\frac{2\\pi v_{\\rm A}}{\\tilde{k}  \\Omega_0}.\n",
    "\\end{equation}\n",
    "\n",
    "With the default values provided in the setup, $v_A \\simeq 0.003162$, so the maximum growth rate occur (at $\\tilde{k}_{\\text{max}} = \\sqrt{15}/4$) at:\n",
    "\n",
    "\\begin{equation}\n",
    "\\Delta Z_\\text{max} \\simeq 0.0205 \n",
    "\\end{equation}\n",
    "\t\n",
    "which is the default \"Zmax\" value in the parameters file. \n",
    "\n",
    "Thus, in order to measure the dispersion relation, we will only modify the vertical extension of the box Zmax."
   ]
  },
  {
   "cell_type": "markdown",
   "metadata": {},
   "source": [
    "------------"
   ]
  },
  {
   "cell_type": "markdown",
   "metadata": {},
   "source": [
    "#### Step 2 - Running the code with the new setup"
   ]
  },
  {
   "cell_type": "code",
   "execution_count": null,
   "metadata": {},
   "outputs": [],
   "source": [
    "os.chdir(fargo_folder)\n",
    "!make #just in case you have modified some source file\n",
    "os.chdir(cwd) # change to exercise folder\n",
    "os.system('rm -rf fargo3d setups std') # make sure nothing left-over from old runs is present\n",
    "os.system('cp -f \"'+fargo_folder+'/fargo3d\" \"'+cwd+'\"')   # get executable\n",
    "os.system('cp -rf \"'+fargo_folder+'/setups\" \"'+cwd+'\"')   # get setups\n",
    "os.system('cp -rf \"'+fargo_folder+'/std\" \"'+cwd+'\"')      # extra config files\n",
    "!./fargo3d -o \"dt=0.1 zmax=0.0205 ny=32 nz=32\" setups/mri-growth-sb/mri-growth-sb.par"
   ]
  },
  {
   "cell_type": "markdown",
   "metadata": {},
   "source": [
    "#### Step 3 - For fixed $y_0$, plot $B_x(y_0,z)$ for output numbers 5, 10, and 15 (in the same axis). Explain what you observe.\n",
    " \n",
    "Let's concentrate on the solution for the component $B_x$, which is:\n",
    "\n",
    "\\begin{align}\n",
    "\\delta b_x(z,t) \\propto \\cos{\\left(kz\\right)} e^{\\omega t} \\nonumber \\\\\n",
    "\\end{align}\n",
    "\n",
    "Note that for this task, the proportionality factors are not important. Since the solution does not depend on $y$, we can just plot a cut along the $z$-direction. Furthermore, we can also anticipate what we should observe: a trigonometric function whose amplitude grows with time exponentially.\n",
    "\n",
    "Example of cut:\n",
    "\n",
    "    get_data(\"bx\",3,params)[:,params.ny//2]"
   ]
  },
  {
   "cell_type": "code",
   "execution_count": null,
   "metadata": {},
   "outputs": [],
   "source": [
    "..."
   ]
  },
  {
   "cell_type": "markdown",
   "metadata": {},
   "source": [
    "---------------"
   ]
  },
  {
   "cell_type": "markdown",
   "metadata": {},
   "source": [
    "#### Step 4 - Using $B_x$, measure the growth-rate $\\omega$ for the results from step2. Plot the value measured on top of the dispersion relation obtained analitically.\n",
    "\n",
    "Tip 1:\n",
    "\n",
    "The solution is of the form:\n",
    "\\begin{align}\n",
    "\\delta b_x(z,t) \\propto \\cos{\\left(kz\\right)} e^{\\omega t} \\nonumber\n",
    "\\end{align}\n",
    "\n",
    "so, if we fix $z=z_0$:\n",
    "\\begin{align}\n",
    "\\delta b_x(z_0,t) = C e^{\\omega t} \\nonumber\n",
    "\\end{align}\n",
    "\n",
    "with $C$ a constant, i.e., the perturbation must growth exponentially. \n",
    "\n",
    "Now, we can calculate:\n",
    "\n",
    "\\begin{equation}\n",
    "\\log|\\delta b_x (z_0,t)| = \\omega t + \\log(C)\n",
    "\\end{equation}\n",
    "\n",
    "Previous expression shows that we can measure the growth rate by plotting $\\log(\\delta b_x)$ ($B_x$ in our setup) as a function of time, which is a straight line. Furthermore, we can use a simple linear regresion to determine the slope (growth rate) from our data. (Check the function np.polyfit())\n",
    "\n",
    "Tip 2: The time corresponding to each output can be obtained as:\n",
    "\n",
    "    time = params.dt * params.ninterm * i \n",
    "\n",
    "where i is the output number"
   ]
  },
  {
   "cell_type": "code",
   "execution_count": null,
   "metadata": {},
   "outputs": [],
   "source": [
    "params = Parameters(\"outputs/mri-growth-sb/\")\n",
    "\n",
    "# We store the data in two lists    \n",
    "bx   = []\n",
    "time = []\n",
    "\n",
    "for i in range(20):\n",
    "    time.append(...\n",
    "    by.append(...\n",
    "\n",
    "# We convert the lists to arrays so we can use numpy to modify them (if needed)\n",
    "time = np.array(time)\n",
    "bx   = np.array(bx)\n",
    "\n",
    "# And plot it\n",
    "plt.plot(time,np.log(np.abs(bx)))\n",
    "plt.show()"
   ]
  },
  {
   "cell_type": "markdown",
   "metadata": {},
   "source": [
    "Now, we can use np.polyfit to obtain the slope of the curve"
   ]
  },
  {
   "cell_type": "code",
   "execution_count": null,
   "metadata": {},
   "outputs": [],
   "source": [
    "# Polyfit gives us the coefficients of the polynomial a*x+b\n",
    "a,b = np.polyfit(...\n",
    "\n",
    "x = np.linspace(time.min(),time.max(),100) # We create a domain array\n",
    "y = a*x+b                                  # This is our fit\n",
    "\n",
    "# And finally compare our fit with the data\n",
    "plt.plot(time,np.log(np.abs(by)),'o',label='data')\n",
    "plt.plot(x,y,'k--',label='fit')\n",
    "plt.legend()\n",
    "plt.show()"
   ]
  },
  {
   "cell_type": "markdown",
   "metadata": {},
   "source": [
    "As we can see, the fit is excellent! Now, we can plot the measured growth rate (a) on top of our analytical dispersion relation:"
   ]
  },
  {
   "cell_type": "code",
   "execution_count": null,
   "metadata": {},
   "outputs": [],
   "source": [
    "# This is the dispersion relation\n",
    "\n",
    "k_tilde = np.linspace(0,np.sqrt(3),100)\n",
    "omega_unstable = np.sqrt(-0.5*(1 + 2*k_tilde**2) + 0.5*np.sqrt(1+16*k_tilde**2))\n",
    "plt.plot(k_tilde,omega_unstable)\n",
    "\n",
    "# And now we plot the measured value\n",
    "k_tilde_experiment = np.sqrt(15)/4.0\n",
    "omega_experiment = a\n",
    "\n",
    "plt.plot(k_tilde_experiment,omega_experiment,'ko')"
   ]
  },
  {
   "cell_type": "markdown",
   "metadata": {},
   "source": [
    "\n",
    "#### Step 5 - Determine the growth rate for all these values: \n",
    "\n",
    "$\\Delta Z$ = [0.0911,  0.0514,  0.0358,  0.0274 ,\t0.0223,  0.0188,  0.0162,  0.0142 ,  0.0127] and plot the pairs (${\\tilde k},\\omega$) for all the cases in one figure, on top of the analytical solution (as done above).\n",
    "\n",
    "For each run, you can obtain the corresponding $\\tilde{k}$ from the terminal or by using the formula that was used to deduce the $\\Delta Z$ corresponding to the maximum growth rate. Tip: in order to save time (and minimize the probablity of typos), the lines needed to run the code can be generated automatically using strings, as done below."
   ]
  },
  {
   "cell_type": "code",
   "execution_count": null,
   "metadata": {},
   "outputs": [],
   "source": [
    "Dz = [0.0911, 0.0514, 0.0358, \n",
    "      0.0274, 0.0223, 0.0188, \n",
    "      0.0162, 0.0142, 0.0127]\n",
    "\n",
    "# If you have time, you can play with different number of cells\n",
    "# but the default for the exercise is 32.\n",
    "ny      = 32  #Number of cells in the radial direction\n",
    "nz      = 32  #Number of cells in the vertical direction\n",
    "dt      = 0.2 #Time between outputs\n",
    "\n",
    "for i,delta_z in enumerate(Dz):\n",
    "    arguments = '\"zmax={0:4.4f} outputdir=outputs/output{1:d} ny={2:d} nz={3:d} dt={4:2.2f}\"'.format(delta_z,i, ny, nz, dt)\n",
    "    exec_line = \"!./fargo3d -o \"+arguments+\" setups/mri-growth-sb/mri-growth-sb.par > log{0:d}\".format(i)\n",
    "    print(exec_line)"
   ]
  },
  {
   "cell_type": "markdown",
   "metadata": {
    "tags": []
   },
   "source": [
    "### __Absalon turn-in__"
   ]
  },
  {
   "cell_type": "markdown",
   "metadata": {},
   "source": [
    "With all the file processing and simulation running, this notebook can become unweildy. Therefore copy central code, plots and comment for each task to a PDF report. Either by actually writing text or (for the lazy) by screenshotting cells\n",
    "\n",
    "Upload the pdf report with solutions together with the notebook and a pdf of the notebook."
   ]
  }
 ],
 "metadata": {
  "kernelspec": {
   "display_name": "Python 3 (ipykernel)",
   "language": "python",
   "name": "python3"
  },
  "language_info": {
   "codemirror_mode": {
    "name": "ipython",
    "version": 3
   },
   "file_extension": ".py",
   "mimetype": "text/x-python",
   "name": "python",
   "nbconvert_exporter": "python",
   "pygments_lexer": "ipython3",
   "version": "3.9.13"
  }
 },
 "nbformat": 4,
 "nbformat_minor": 4
}
