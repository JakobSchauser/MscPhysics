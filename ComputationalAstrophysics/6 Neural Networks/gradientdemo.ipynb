{
 "cells": [
  {
   "cell_type": "markdown",
   "metadata": {},
   "source": [
    "## Exercise 1\n",
    "This notebook calculates the derivative of a function ($\\sin^3(x)$) using automatic differentiation. Check the results by calculating the derivative using a finite difference method."
   ]
  },
  {
   "cell_type": "code",
   "execution_count": 1,
   "metadata": {},
   "outputs": [
    {
     "ename": "ModuleNotFoundError",
     "evalue": "No module named 'torch'",
     "output_type": "error",
     "traceback": [
      "\u001b[1;31m---------------------------------------------------------------------------\u001b[0m",
      "\u001b[1;31mModuleNotFoundError\u001b[0m                       Traceback (most recent call last)",
      "Cell \u001b[1;32mIn[1], line 1\u001b[0m\n\u001b[1;32m----> 1\u001b[0m \u001b[38;5;28;01mimport\u001b[39;00m \u001b[38;5;21;01mtorch\u001b[39;00m\n\u001b[0;32m      2\u001b[0m \u001b[38;5;28;01mimport\u001b[39;00m \u001b[38;5;21;01mmatplotlib\u001b[39;00m\u001b[38;5;21;01m.\u001b[39;00m\u001b[38;5;21;01mpyplot\u001b[39;00m \u001b[38;5;28;01mas\u001b[39;00m \u001b[38;5;21;01mplt\u001b[39;00m\n\u001b[0;32m      4\u001b[0m \u001b[38;5;66;03m# Define the function\u001b[39;00m\n",
      "\u001b[1;31mModuleNotFoundError\u001b[0m: No module named 'torch'"
     ]
    }
   ],
   "source": [
    "import torch\n",
    "import matplotlib.pyplot as plt\n",
    "\n",
    "# Define the function\n",
    "def f(x):\n",
    "    return torch.sin(x)+torch.sin(x)*torch.sin(x)\n",
    "\n",
    "# Define the x values\n",
    "x = torch.linspace(-10, 10, 1000, requires_grad=True)\n",
    "\n",
    "# Calculate y values\n",
    "y = f(x)\n",
    "\n",
    "# Calculate derivatives with respect to all variables.\n",
    "y.backward(torch.ones_like(x))\n",
    "\n",
    "# Plot the function and its derivative\n",
    "plt.figure(figsize=(6, 4))\n",
    "\n",
    "# calculate the derivative of the function with respect to x using a finite difference method\n",
    "# this is just for comparison\n",
    "\n",
    "xgrad = x.grad.detach().numpy()\n",
    "x = x.detach().numpy()\n",
    "\n",
    "h = 0.001\n",
    "yprime = (f(x+h)-f(x))/h\n",
    "\n",
    "\n",
    "plt.plot(x, y.detach().numpy(), label='$f(x)$')\n",
    "plt.plot(x, xgrad, label=\"$f^{\\prime}(x) (torch)$\", color='orange') ## Plot the derivative with respect to x\n",
    "plt.plot(x, yprime, label=\"$f^{\\prime}(x) (finite)$\", color='green') ## Plot the derivative with respect to x\n",
    "plt.plot()\n",
    "plt.xlabel('$x$')\n",
    "plt.ylabel(\"$f^{\\prime}(x)$\")\n",
    "plt.legend(loc=2)\n",
    "plt.show()"
   ]
  }
 ],
 "metadata": {
  "kernelspec": {
   "display_name": "Python 3 (ipykernel)",
   "language": "python",
   "name": "python3"
  },
  "language_info": {
   "codemirror_mode": {
    "name": "ipython",
    "version": 3
   },
   "file_extension": ".py",
   "mimetype": "text/x-python",
   "name": "python",
   "nbconvert_exporter": "python",
   "pygments_lexer": "ipython3",
   "version": "3.11.5"
  }
 },
 "nbformat": 4,
 "nbformat_minor": 4
}
