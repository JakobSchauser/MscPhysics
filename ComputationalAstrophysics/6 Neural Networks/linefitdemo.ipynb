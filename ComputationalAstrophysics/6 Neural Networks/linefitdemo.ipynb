{
 "cells": [
  {
   "cell_type": "code",
   "execution_count": null,
   "metadata": {
    "tags": []
   },
   "outputs": [],
   "source": [
    "import torch\n",
    "import torch.optim as optim\n",
    "import matplotlib.pyplot as plt\n",
    "\n",
    "# x_data and y_data are your data\n",
    "x_data = torch.tensor([1.0,1.5, 2.0,2.5, 3.0])\n",
    "y_data = torch.tensor([2.0, 3.0,4.0,5.0, 6.0])\n",
    "\n",
    "# Define a simple linear model\n",
    "class LinearModel(torch.nn.Module):\n",
    "    def __init__(self):\n",
    "        super(LinearModel, self).__init__()\n",
    "        self.linear = torch.nn.Linear(1, 1)  # One in and one out\n",
    "\n",
    "    def forward(self, x):\n",
    "        y_pred = self.linear(x)\n",
    "        return y_pred\n",
    "\n",
    "# Our model\n",
    "model = LinearModel()\n",
    "\n",
    "# Define loss (Mean Square Error Loss)\n",
    "criterion = torch.nn.MSELoss(reduction='sum')\n",
    "\n",
    "# Define optimizer\n",
    "optimizer = optim.SGD(model.parameters(), lr=0.01)\n",
    "\n",
    "# Training loop\n",
    "for epoch in range(500):\n",
    "    # Forward pass: Compute predicted y by passing x to the model\n",
    "    y_pred = model(x_data.view(-1, 1))\n",
    "\n",
    "    # Compute and print loss\n",
    "    loss = criterion(y_pred, y_data.view(-1, 1))\n",
    "    if(epoch%10 == 0):\n",
    "        print(f'Epoch: {epoch} | Loss: {loss.item()}')\n",
    "\n",
    "    # Zero gradients, perform a backward pass, and update the weights\n",
    "    optimizer.zero_grad()\n",
    "    loss.backward()\n",
    "    optimizer.step()\n",
    "\n",
    "\n",
    "# Plotting\n",
    "plt.scatter(x_data, y_data, color='blue',label=\"data\")  # original data\n",
    "plt.plot(x_data, model(x_data.view(-1, 1)).data.numpy(), color='red',label=\"model\")  # fitted line\n",
    "plt.xlabel(\"x\")\n",
    "plt.ylabel(\"y\")\n",
    "plt.legend(loc=2)\n",
    "plt.show()"
   ]
  },
  {
   "cell_type": "code",
   "execution_count": null,
   "metadata": {},
   "outputs": [],
   "source": []
  }
 ],
 "metadata": {
  "kernelspec": {
   "display_name": "Python 3 (ipykernel)",
   "language": "python",
   "name": "python3"
  },
  "language_info": {
   "codemirror_mode": {
    "name": "ipython",
    "version": 3
   },
   "file_extension": ".py",
   "mimetype": "text/x-python",
   "name": "python",
   "nbconvert_exporter": "python",
   "pygments_lexer": "ipython3",
   "version": "3.10.12"
  }
 },
 "nbformat": 4,
 "nbformat_minor": 4
}
