{
 "cells": [
  {
   "cell_type": "markdown",
   "metadata": {},
   "source": [
    "# Tuesday Exercise: Radiation Transport (RT) Solvers\n",
    "\n",
    "## 1. Fundamental concepts and equations\n",
    "\n",
    "In this exercise we will be investigating is long-characteristics radiative transfer. The fundamental equation we will be using and solving is\n",
    "\n",
    "\\begin{equation}\\tag{1}\n",
    "\\frac{d I_{\\Omega,\\nu}(\\tau)}{d \\tau_{\\nu}} = I_{\\Omega,\\nu}(\\tau_{\\Omega,\\nu}) - S_{\\Omega,\\nu}(\\tau_{\\Omega,\\nu}) \\,,\n",
    "\\end{equation}\n",
    "\n",
    "where $I_{\\Omega,\\nu}(\\tau)$ is the ___specific radiation intensity___ (energy per unit area, time, and frequency interval; e.g. Watt per square meter and Hertz) at frequency $\\nu$ in the direction $\\Omega$, $S_{\\Omega,\\nu}(\\tau)$ is the corresponding ___source funtion___ (same units), and $d\\tau_\\nu$ is the ___optical deptht increment___\n",
    "\n",
    "\\begin{equation}\\tag{2}\n",
    "d\\tau_{\\nu} = \\rho\\kappa_{\\nu} ds \\,,\n",
    "\\end{equation}\n",
    "\n",
    "where $ds$ is an length interval along a \"ray\" of light in the direction $-\\Omega$, $\\rho$ is the mass density, and $\\kappa_{\\nu}$ is the ___opacity___ (in area-per-unit-mass) at frequency $\\nu$. The sign change for the right hand side of equation (1) comes from counting $\\tau$ in the opposite direction from $ds$. This is common f.x. in atmospheres where we put $\\tau=0$ at infinity (if we used the same sign for length and optical depths with an optical thick atmosphere we would get in trouble numerically and conceptually).\n",
    "\n",
    "The Python package `radiation.py`, discussed in `Radiation.ipynb`, can supply source function values. Opacity values are normally given by table lookup (such as the *OPAL project* for stellar interiors), but in this weeks exercise, we will only use simple approximations or constant values."
   ]
  },
  {
   "cell_type": "markdown",
   "metadata": {},
   "source": [
    "In the following we therefore use the common convention that the optical depth is counted in the direction opposite to the direction of propagation, and therefore the absorption of light is represented by a _positive_ term, and the emission of light by a _negative_ term.\n",
    "\n",
    "Instead of the frequency $\\nu$ one can instead use the ___wavelength___\n",
    "\n",
    "\\begin{equation}\\tag{3}\n",
    "\\lambda = \\frac{c}{\\nu}\\,.\n",
    "\\end{equation}\n",
    "\n",
    "Since, in this context, $\\Omega$ and $\\nu$ are just \"indices\", which enumerate various cases, we may as well drop them, and write  \n",
    "\n",
    "\\begin{equation}\\tag{4}\n",
    "\\frac{d I}{d \\tau} = I - S \\,,\n",
    "\\end{equation}"
   ]
  },
  {
   "cell_type": "markdown",
   "metadata": {},
   "source": [
    "## 2. The Feautrier formalism\n",
    "\n",
    "The ___Feautrier method___ is both a technique for solving Eq. (4), and it also gives immediate and useful insight into some fundamental properties of the solutions, and therefore we start with that.   The idea is to combine the equations for light going in opposite directions, while counting optical depth always in the same direction.  Writing $I^-$ for the \"outgoing\" direction (opposite to the direction in which $\\tau$ increases) and $I^+$ for the intensity in the \"incoming\" direction (same direction in which $\\tau$ increases), we have\n",
    "\n",
    "\\begin{equation}\\tag{5}\n",
    "\\frac{d I^-}{d \\tau} = I^- - S \\,,\n",
    "\\end{equation}\n",
    "\n",
    "\\begin{equation}\\tag{6}\n",
    "\\frac{d I^+}{d \\tau} = -I^+ + S \\,,\n",
    "\\end{equation}\n",
    "\n",
    "Taking the average sum and difference, and defining\n",
    "\n",
    "\\begin{equation}\\tag{7}\n",
    "P = \\frac{1}{2} (I^++ I^-) \\,,\n",
    "\\end{equation}\n",
    "\n",
    "\\begin{equation}\\tag{8}\n",
    "R = \\frac{1}{2} (I^- - I^+) \\,,\n",
    "\\end{equation}"
   ]
  },
  {
   "cell_type": "markdown",
   "metadata": {},
   "source": [
    "we get these equations for $P$ and $R$:\n",
    "\n",
    "\\begin{equation}\\tag{9}\n",
    "\\frac{d P}{d\\tau} = R \\,,\n",
    "\\end{equation}\n",
    "\n",
    "\n",
    "\\begin{equation}\\tag{10}\n",
    "\\frac{d R}{d\\tau} = P-S \\,,\n",
    "\\end{equation}\n",
    "\n",
    "which may be combined into a 2nd order (\"Feautrier\") differential equation for $P$:\n",
    "\n",
    "\\begin{equation}\\tag{11}\n",
    "\\frac{d^2 P}{d\\tau^2} = P-S \\,.\n",
    "\\end{equation}\n",
    "\n",
    "Since we are often more interested in the _net_ difference between the intensity and the source function, which corresponds to the heating rate, it may also be useful to make the definition"
   ]
  },
  {
   "cell_type": "markdown",
   "metadata": {},
   "source": [
    "\\begin{equation}\\tag{12}\n",
    "Q = P-S \\,,\n",
    "\\end{equation}\n",
    "\n",
    "which when substututed into Eq. 11 yields\n",
    "\n",
    "\\begin{equation}\\tag{13}\n",
    "\\frac{d^2 Q}{d\\tau^2} = Q -  \\frac{d^2 S}{d\\tau^2}\\,.\n",
    "\\end{equation}\n",
    "\n",
    "If the _net intensity_, or _heating rate_, $Q$ is systematically smaller than $S$ over an interval of $\\tau$, we can immediately deduce a limiting solution,\n",
    "\n",
    "\\begin{equation}\\tag{14}\n",
    "Q =  \\frac{d^2 S}{d\\tau^2}\\,.\n",
    "\\end{equation}\n",
    "\n",
    "From other arguments (basically just looking at Eq. 11) we understand that $I$ is very close to $S$ at large optical depth, so in such a regimen Eq. 14 is asymtotically accurate, and only requires evaluating a local 2nd derivative of S.\n",
    "\n",
    "We may also draw another conclusion from Eq. 14; namely, that if we are only interested in the _net intensity_ (which is all we need to compute radiative cooling and heating), then we actually don't need the source function $S$ itself, but only its 2nd order derivative along the line of sight.  And at the boundaries, what we need is apparently only $Q$ (although we may actually get it from knowing both $I$ and $S$)."
   ]
  },
  {
   "cell_type": "markdown",
   "metadata": {},
   "source": [
    "## 3. Solution methods and Python optimization\n",
    "\n",
    "An essential property of essentially all algorithms for solving the the radiation transport problem (Eq. 11) is that they are fundamentally _recursive_:  To get the solution at one point along a ray, one needs to know the solution at the previous (\"upstream\") point.  This necessitates writing algorithms as loops, which in Python is potentially enormously much slower than when array expressions may be used.\n",
    "\n",
    "However, we also know that we always have to make a large number of independent solutions; e.g. for a large number of parallel rays, or for rays in different directions $\\Omega$, or for solutions for different frequencies along the sam rays.  So, as long as we can write a solver that operates \"array-wise\" over several solutions (rays) at once, there is no negative consequence of having to loop over the direction along the rays."
   ]
  },
  {
   "cell_type": "markdown",
   "metadata": {},
   "source": [
    "### 3.1  A simple integral solver\n",
    "\n",
    "Eq. 6 actually has an explicit, simple, and exact solution:\n",
    "\n",
    "\\begin{equation}\\tag{15}\n",
    "  I^+(\\tau_{i+1}) = I^+(\\tau_i) \\, e^{-(\\tau_{i+1}-\\tau_i)} + \n",
    "  \\int_{\\tau_i}^{\\tau_{i+1}} S(\\tau') \\, e^{-(\\tau'-\\tau_i)} \\,\\, d\\tau' \\,,\n",
    "\\end{equation}\n",
    "\n",
    "which also has the simple interpretation:  The intensity at the next point is the previous intensity attenuated by an exponential optical depth factor, plus the contributions from the source function over the interval, likwise attenuated with the same type of factor.\n",
    "\n",
    "If we assume that the source funtion $S(\\tau)$ is linear, then there is an analytical solution; "
   ]
  },
  {
   "cell_type": "markdown",
   "metadata": {},
   "source": [
    "\\begin{equation}\\tag{16}\n",
    "  I_{i} = I_{i-1}\\, e_1 + S_i \\, e_2 + S'_{i-1/2}\\Delta\\tau_{i-1/2}\\, e_3 \\,,\n",
    "\\end{equation}\n",
    "\n",
    "where $S'_{i-1/2}(\\tau)$ is the 1st derivative of $S(\\tau)$ between $S_{i-1}$ and $S_{i}$, $\\Delta\\tau_{i-1/2}=\\tau_i - \\tau_{i-1}$, and \n",
    "\n",
    "\\begin{align}\n",
    "  e_1 &= 𝑒^{−\\Delta\\tau_{i-1/2}}\\,,\\\\  \\tag{17}\n",
    "  e_2 &= 1-e_1\\,,\\\\ \n",
    "  e_3 &= e_1 - e_2/\\Delta\\tau_{i-1/2} \\,, \n",
    "\\end{align}\n",
    "\n",
    "or, since $S'_{i-1/2} = (S_i - S_{i-1})/\\Delta\\tau_{i-1/2}$, \n",
    "\n",
    "\n",
    "\\begin{equation}\\tag{18}\n",
    "  I_{i} = I_{i-1}\\, e_1 + S_{i-1}\\, e_4 + S_{i}\\, e_5 \\,,\n",
    "\\end{equation}\n",
    "\n",
    "where\n",
    "\n",
    "\\begin{align}\n",
    "  e_4 &= -e_3 \\,,\\\\  \\tag{19}\n",
    "  e_5 &= e_2 + e_3 \\,,\n",
    "\\end{align}"
   ]
  },
  {
   "cell_type": "markdown",
   "metadata": {},
   "source": [
    "#### __An important \"rule of thumb\":__\n",
    "\n",
    "An interesting corollary is that, since when $\\Delta\\tau \\rightarrow \\infty$, then $e_1 \\rightarrow 0$, the asymptotic solution becomes \n",
    "\n",
    "\\begin{equation}\\tag{20}\n",
    "  I(\\tau_{i}) \\rightarrow S(\\tau_i) - S'(\\tau_{i}) \\,,\n",
    "\\end{equation}\n",
    "\n",
    "which also may be written, more generally (still assuming a linear $S(\\tau)$)\n",
    "\n",
    "\\begin{equation}\\tag{21}\n",
    "  I(\\tau) \\rightarrow S(\\tau-1) \\,,\n",
    "\\end{equation}\n",
    "\n",
    "So, the radiation intensity is approximately equal to ___the source function at one optical depth distance \"upstream\"___ (= where the light is coming from).  This is a good approximation not only when the source function is linear, but may also be seen as the result of the weighted average in Eq. (15)"
   ]
  },
  {
   "cell_type": "markdown",
   "metadata": {},
   "source": [
    "### Python code:"
   ]
  },
  {
   "cell_type": "code",
   "execution_count": 1,
   "metadata": {},
   "outputs": [],
   "source": [
    "import numpy as np\n",
    "import matplotlib.pyplot as plt\n",
    "from time import time"
   ]
  },
  {
   "cell_type": "markdown",
   "metadata": {},
   "source": [
    "A python code with the 1st order integral solver may thus be written as follows. It is important to realise we have to make a choice of staggering for `dtau`. I have chosen to make it upstaggered, such that `dtau[i-1]`$=\\Delta \\tau_{i-1/2}$. We allow for solving either from left to right (incoming) or from right to left (outgoing):"
   ]
  },
  {
   "cell_type": "code",
   "execution_count": 2,
   "metadata": {},
   "outputs": [],
   "source": [
    "def integral_1st (S, dtau, Left=None, Right=None):\n",
    "    I = np.zeros_like(S)\n",
    "    # Forward solution, from the left to the right boundary (I+ direction, increasing tau)\n",
    "    if type(Left) != type(None):\n",
    "        I[0] = Left\n",
    "        for i in range(1,S.shape[0]): # We assume I[0] is given or zero\n",
    "            e1 = np.exp(-dtau[i-1])\n",
    "            e2 = 1.0 - e1\n",
    "            e3 = e1 - e2/dtau[i-1]\n",
    "            e4 = - e3\n",
    "            e5 = e2 + e3\n",
    "            I[i] = e1*I[i-1] + e4*S[i-1] + e5*S[i]\n",
    "    # Reverse solution, from the right to the left boundary (I- direction, decreasing tau)\n",
    "    elif type(Right) != type(None): \n",
    "        I[-1] = Right\n",
    "        for i in range(S.shape[0]-2,-1,-1): # We assume I[-1] is given or zero\n",
    "            e1 = np.exp(-dtau[i])\n",
    "            e2 = 1.0 - e1\n",
    "            e3 = e1 - e2/dtau[i]\n",
    "            e4 = - e3\n",
    "            e5 = e2 + e3\n",
    "            I[i] = e1*I[i+1] + e4*S[i+1] + e5*S[i]\n",
    "    else:\n",
    "        print('ERROR: Either the Ileft or Iright boundary condition must be given !')\n",
    "    return I"
   ]
  },
  {
   "cell_type": "markdown",
   "metadata": {},
   "source": [
    "__NOTE:__ The shapes of `S` and `dtau` can be anything from just  1-D arrays `(n)` to multidimensional arrays`(n,m1,m2,m3,...)`!  The only requirement is that the direction of propagation should be in the first index.  One may use the `.transpose()` numpy array method to reorder the input array, such that the ray propagation direction is in the first dimension."
   ]
  },
  {
   "cell_type": "markdown",
   "metadata": {},
   "source": [
    "### Testing the solver on a case with known solution\n",
    "\n",
    "A simpe linear source function is\n",
    "\n",
    "\\begin{equation}\\tag{22}\n",
    "  S(\\tau) = A + B \\tau \\,,\n",
    "\\end{equation}\n"
   ]
  },
  {
   "cell_type": "markdown",
   "metadata": {},
   "source": [
    "\\begin{equation}\\tag{15}\n",
    "  I^+(\\tau_{i+1}) = I^+(\\tau_i) \\, e^{-(\\tau_{i+1}-\\tau_i)} + \n",
    "  \\int_{\\tau_i}^{\\tau_{i+1}} S(\\tau') \\, e^{-(\\tau'-\\tau_i)} \\,\\, d\\tau' \\,,\n",
    "\\end{equation}\n"
   ]
  },
  {
   "cell_type": "markdown",
   "metadata": {},
   "source": [
    "$I^+(\\tau_i) \\, e^{-(\\tau_{i+1}-\\tau_i)} + A(-e^{t_i-t_{i+1}})+A+B(t_i-e^{t_i-t_{i+1}}(t_{i+1}+1)+1)$"
   ]
  },
  {
   "cell_type": "code",
   "execution_count": null,
   "metadata": {},
   "outputs": [],
   "source": []
  },
  {
   "cell_type": "markdown",
   "metadata": {},
   "source": [
    "### __Task 1: Construct a test__ (10 p)\n",
    "\n",
    "Use pen and paper (or overkill with a symbolic code) to solve Eq. (22), and use the solution to test the 1st order solver (or to test your test ;-):"
   ]
  },
  {
   "cell_type": "code",
   "execution_count": 3,
   "metadata": {},
   "outputs": [
    {
     "data": {
      "image/png": "[encoded data removed]",
      "text/plain": [
       "<Figure size 640x480 with 1 Axes>"
      ]
     },
     "metadata": {},
     "output_type": "display_data"
    }
   ],
   "source": [
    "def Iplus_1st(tau,A,B):\n",
    "    \"\"\" Intentionally the wrong exact solution; REPLACE WITH CORRECT SOLUTION \"\"\"\n",
    "    # return A + B*tau\n",
    "    return A + B*(tau -1)\n",
    "\n",
    "\n",
    "\n",
    "    # return -A*np.exp(-(tau)) + A + B*tau \n",
    "def plus_test(n=20,A=0.5,B=2,solver=integral_1st):\n",
    "    \"\"\" Compute the 1st order numerical solution and compare \"\"\"\n",
    "    tau = np.logspace(-6,3,n)\n",
    "    dtau = np.zeros_like(tau)\n",
    "    S = np.zeros_like(tau)\n",
    "    for i in range(n-1):\n",
    "        dtau[i] = tau[i+1]-tau[i]\n",
    "        S[i] = A + B*tau[i]\n",
    "    S[-1] = A + B*tau[-1]\n",
    "    I_exact = Iplus_1st(tau,A,B)\n",
    "    I = integral_1st (S, dtau, Left=I_exact[0])\n",
    "    plt.loglog(tau,I,'o')\n",
    "    plt.loglog(tau,I_exact)\n",
    "    plt.title('The maximum error is {:.3e}'.format(np.max(np.abs(I/I_exact-1.0))))\n",
    "    plt.xlabel('--------------->                Incoming radiation                                 ');\n",
    "\n",
    "plus_test(A=1,B=2,solver=integral_1st)"
   ]
  },
  {
   "cell_type": "code",
   "execution_count": 4,
   "metadata": {},
   "outputs": [
    {
     "data": {
      "image/png": "[encoded data removed]",
      "text/plain": [
       "<Figure size 640x480 with 1 Axes>"
      ]
     },
     "metadata": {},
     "output_type": "display_data"
    }
   ],
   "source": [
    "def Iminus_1st(tau,A,B):\n",
    "    \"\"\" Intentionally the wrong exact solution; REPLACE WITH CORRECT SOLUTION \"\"\"\n",
    "    return A + B*(tau-1)\n",
    "\n",
    "def minus_test(n=20,A=0.5,B=2):\n",
    "    \"\"\" Compute the 1st order numerical solution and compare \"\"\"\n",
    "    tau = np.logspace(-6,3,n)\n",
    "    dtau = np.zeros_like(tau)\n",
    "    S = np.zeros_like(tau)\n",
    "    for i in range(n-1):\n",
    "        dtau[i] = tau[i+1]-tau[i]\n",
    "        S[i] = A + B*tau[i]\n",
    "    S[-1] = A + B*tau[-1]\n",
    "    I_exact = Iminus_1st(tau,A,B)\n",
    "    I = integral_1st (S, dtau, Right=I_exact[-1])\n",
    "    plt.loglog(tau,I,'o')\n",
    "    plt.loglog(tau,I_exact)\n",
    "    plt.title('The maximum error is {:.3e}'.format(np.max(np.abs(I/I_exact-1.0))))\n",
    "    plt.xlabel('               Outgoing radiation            <---------------');\n",
    "    \n",
    "minus_test(B=1,A=0.33)"
   ]
  },
  {
   "cell_type": "markdown",
   "metadata": {},
   "source": [
    "### Task 2: Stars behind a BE sphere (30p)\n",
    "\n",
    "Given your radiative transfer solver, imagine that you place, for example, 100 stars behind a Bonnor-Ebert sphere. Assume that the BE-sphere has a mass of 1 solar mass and a temperature of 10 K (which means the BE-radius is about 10,000 AU), and assume a linear opacity law\n",
    "$$\n",
    "\\kappa_\\nu = 0.12\\, \\mathrm{cm}^2 \\mathrm{g}^{-1} \\frac{\\nu}{300 \\mathrm{GHz}}\n",
    "$$\n",
    "Compute the intensity of the light at 1 mm (300 GHz). In addition, try at other wavelengths.\n",
    "\n",
    "Use the ```BE_sphere.py``` to set up you core; you can see how it is used in ```BE_sphere.ipynb```.\n",
    "\n",
    "It's OK to place the stars in a 10x10 pattern, but it of course looks nicer to place the stars randomly (and to use more than 100 of them)!\n",
    "\n",
    "Comment on the results; does it makes sense; how does it compare to the famous Barnard 68 (see e.g. Thursday slides from week 4)?"
   ]
  },
  {
   "cell_type": "markdown",
   "metadata": {},
   "source": [
    "### 3.2  A better integral solver\n",
    "\n",
    "The simple 1st order integral solver above may be sufficient for some purposes, such as diagnostics of light from a radiating body.  It requires only that one evaluates one exponential, one divide, two mulitiplications, and three add/subtract, to compute the three $e$-coefficients that enter into Eq. (18).\n",
    "\n",
    "However, already in Eq. (13) we learnt that, for accurate work (e.g. when computing heating and cooling) the 2nd derivative of $S$ is important, and hence assuming a linear source function is not enough.  But we can use the results in Eqs. (17-19) to get the more accurate solution with no further derivation, by defining \n",
    "\n",
    "\\begin{align}\n",
    "  Q^+ = I^+ - S \\,,  \\\\\n",
    "  Q^- = I^- - S \\,, \\tag{23} \n",
    "\\end{align}"
   ]
  },
  {
   "cell_type": "markdown",
   "metadata": {},
   "source": [
    "\n",
    "which leads to \n",
    "\n",
    "\\begin{align}\n",
    "\\frac{d Q^+}{d \\tau} = - Q^+ - \\frac{d S}{d\\tau} =   - Q^+ - S' \\,, \\\\\n",
    "\\frac{d Q^-}{d \\tau} = + Q^- - \\frac{d S}{d\\tau} =   + Q^- - S' \\,. \\tag{24} \n",
    "\\end{align}\n",
    "\n",
    "These are equations with exactly the same form as Eqs. (5-6), only with $Q^\\pm$ instead of $I^\\pm$, and $S'$ or $-S'$ instead of $S$, and hence for a linear S' (a quadratic S) they have the solutions like (cf. Eq. 16):\n",
    "\n",
    "\\begin{equation}\n",
    "  Q_{i}^+ = Q_{i-1}^+\\, e_1 - S'_{i}\\, e_2 - S''_{i}\\,\\Delta\\tau_{i-1/2} \\, e_3 \\,. \\tag{25}\n",
    "\\end{equation}\n",
    "\n",
    "By expressing the 1st and second derivatives as finite differences, one can write for example, now with 2nd order accuracy in $S(\\tau)$:\n",
    "\n",
    "\\begin{equation}\\tag{26}\n",
    "  Q_{i}^+ = Q_{i-1}^+\\, e_1 + S_{i-1}\\, e_6 + S_{i}\\, e_7 + S_{i+1}\\, e_8 \\,.\n",
    "\\end{equation}"
   ]
  },
  {
   "cell_type": "markdown",
   "metadata": {},
   "source": [
    "#### __Bonus Task: Compute the coefficients needed in the accurate integral RT solver__ (20 p)\n",
    "\n",
    "Derive, using pen and paper (or symbolic Python, or Mathematic or Maple), expression for $e_{6,7,8}$. You will need them below, so be careful, and double check against a known solution! Start out by computing the first and second derivatives of the source function centered on point $i$ from\n",
    "\n",
    "\n",
    "\\begin{equation}\\tag{27}\n",
    "  S'_i = \\frac{\\Delta\\tau_{i-1/2} S'_{i+1/2} + \\Delta\\tau_{i+1/2} S'_{i-1/2}}{(\\Delta\\tau_{i-1}+\\Delta\\tau_i)}\n",
    "\\end{equation}\n",
    "\n",
    "\\begin{equation}\\tag{28}\n",
    "  S''_i = \\frac{S'_{i+1/2} - S'_{i-1/2} }{{1 \\over 2}(\\Delta\\tau_{i-1}+\\Delta\\tau_i)}\n",
    "\\end{equation}\n",
    "\n",
    "__NOTE:__ both $S'_i$ and $S''_i$ are centered on the same point as $I_i$, $S_i$, and $\\tau_i$.\n",
    "\n",
    "__NOTE:__ It may not be the best and simplest approach to compute long and complicated expression for each of e6, e7, and e8.  They contain common expression, stemming from the implementation of Eqs. 26-27, so computing intermediate expression may actually give fewer operations, and hence faster code!\n",
    "\n",
    "__PRIZE:__ If you implement the solver, there are 20 extra points -- for a toal of 40 extra points --, if it is faster than one of my solvers! The test will be made with the `timeit` procedure below, on ERDA, repeating a few times to get a stable average. Naturally, _the code only qualifies to participate if the result is exact_ for a 2nd order source function!"
   ]
  },
  {
   "cell_type": "markdown",
   "metadata": {},
   "source": [
    "### Python code:\n",
    "\n",
    "A python code with the accurate integral solver may be written as follows (you need to import your own e6-e8 coefficients and make two cases; one for Q+ another for Q- !):"
   ]
  },
  {
   "cell_type": "code",
   "execution_count": 5,
   "metadata": {},
   "outputs": [],
   "source": [
    "def Q_integral_2nd (S, dtau, Left=None, Right=None):\n",
    "    Q = np.zeros(S.shape)\n",
    "    if type(Left) != type(None):\n",
    "        Q[0] = Left\n",
    "        for i in range(1,S.shape[0]-1):\n",
    "            e1 = np.exp(-dtau[i-1])\n",
    "            e2 = 1.0-e1\n",
    "            e3 = e1 - e2/dtau[i-1]\n",
    "            #...\n",
    "            #e6 = ...\n",
    "            #e7 = ...\n",
    "            #e8 = ...\n",
    "            Q[i] = e1*Q[i-1] #+ e6*S[i-1] + e7*S[i] + e8*S[i+1]\n",
    "    elif type(Right) != type(None):\n",
    "        Q[-1] = Right\n",
    "        for i in range(S.shape[0]-2,0,-1):\n",
    "            e1 = np.exp(-dtau[i])\n",
    "            e2 = 1.0-e1\n",
    "            e3 = e1 - e2/dtau[i]\n",
    "            #...\n",
    "            #e6 = ...\n",
    "            #e7 = ...\n",
    "            #e8 = ...\n",
    "            Q[i] = e1*Q[i+1] #+ e6*S[i-1] + e7*S[i] + e8*S[i+1]\n",
    "    return Q"
   ]
  },
  {
   "cell_type": "markdown",
   "metadata": {},
   "source": [
    "For reasons unknown -- but presumably because the virtual machine does not get full attention -- the time for a solution varies signficantly, but typically has a well defined bottom, showing up at least some time during a number of attempts. The timeit function therefore runs the test for 10 seconds and pick the best."
   ]
  },
  {
   "cell_type": "code",
   "execution_count": 6,
   "metadata": {},
   "outputs": [],
   "source": [
    "def timeit(solver,duration=10):\n",
    "    n = 200\n",
    "    S = np.ones((n,n,n))\n",
    "    dtau = np.ones((n,n,n))\n",
    "    Q0 = np.ones((n,n))    \n",
    "    def test(solver):\n",
    "        t = time()\n",
    "        Q = solver (S, dtau, Left=Q0)\n",
    "        used = time()-t\n",
    "        return 1e9*used/n**3\n",
    "    start = time()\n",
    "    worst = test(solver)\n",
    "    best = worst\n",
    "    used = time()-start\n",
    "    while used < duration:\n",
    "        ns = test(solver)\n",
    "        if ns < best:\n",
    "            best = ns\n",
    "        if ns > worst:\n",
    "            worst = ns\n",
    "        used = time()-start\n",
    "        plt.plot(used, ns, 'o')\n",
    "    plt.ylim(0,worst*1.1); plt.xlabel('time'); plt.ylabel('cost')\n",
    "    print('{}: {:.2f} seconds =>  {:.1f} nanoseconds per point'.format(solver.__name__,used,best))"
   ]
  },
  {
   "cell_type": "code",
   "execution_count": 7,
   "metadata": {},
   "outputs": [],
   "source": [
    "def Qplus(tau,A,B,C):\n",
    "    \"\"\" The correct exact 2nd order S() solution \"\"\"\n",
    "    return A*tau + B + C # wrong! Substitute with right solution\n",
    "\n",
    "def Qminus(tau,A,B,C):\n",
    "    \"\"\" The correct exact 2nd order S() solution \"\"\"\n",
    "    return A*tau + B + C # wrong! Substitute with right solution\n",
    "\n",
    "def Q_test (solver, n=50, A=1., B=1, C=2, plus=True, verbose=0):\n",
    "    \"\"\" Compute the 2nd order numerical solution and compare \"\"\"\n",
    "    tau = np.logspace(-6,3,n)\n",
    "    dtau = np.zeros_like(tau)\n",
    "    S = np.zeros_like(tau)\n",
    "    for i in range(n-1):\n",
    "        dtau[i] = tau[i+1]-tau[i]\n",
    "        S[i] = A + B*tau[i] + C*tau[i]**2\n",
    "    S[-1] = A + B*tau[-1] + C*tau[-1]**2\n",
    "    Q0 = Qplus(tau,A,B,C) if plus else Qminus(tau,A,B,C)\n",
    "    Q1 = solver (S, dtau,\n",
    "                 Left=Q0[0] if plus else None,\n",
    "                 Right=None if plus else Q0[-1]\n",
    "                )\n",
    "    error = (Q1-Q0)/S\n",
    "    if verbose:\n",
    "        print('Q0',Q0[1:-2])\n",
    "        print('Q1',Q1[1:-2])\n",
    "        print('dQ',Q1[1:-2]-Q0[1:-2])\n",
    "        print('er',error[1:-2])\n",
    "    plt.semilogx(tau[1:-2], Q0[1:-2], 'o')\n",
    "    plt.semilogx(tau[1:-2], Q1[1:-2])\n",
    "    plt.title('{}: max err = {:.3e}'.format(solver.__name__,np.max(np.abs(error[1:-2]))))\n",
    "    if plus:\n",
    "        plt.xlabel('--------------->                Incoming radiation                   ');\n",
    "    else:\n",
    "        plt.xlabel('<---------------                Outgoing radiation                   ');\n",
    "    return dtau\n",
    "\n",
    "np.set_printoptions(linewidth=170, formatter={'float_kind':lambda x: \"{:10.3e}\".format(x)})"
   ]
  },
  {
   "cell_type": "code",
   "execution_count": 8,
   "metadata": {},
   "outputs": [
    {
     "name": "stdout",
     "output_type": "stream",
     "text": [
      "\n"
     ]
    },
    {
     "data": {
      "image/png": "[encoded data removed]",
      "text/plain": [
       "<Figure size 1600x400 with 1 Axes>"
      ]
     },
     "metadata": {},
     "output_type": "display_data"
    }
   ],
   "source": [
    "A = 1.0; B = 0.1; C = +0.002\n",
    "plt.figure(figsize=(16,4))\n",
    "plt.subplot(1,3,1); Q_test (Q_integral_2nd, A=A, B=B, C=C, plus=1); print('')\n",
    "#plt.subplot(1,3,2); Q_test (Q_integral_2nd, A=A, B=B, C=C, plus=0);"
   ]
  },
  {
   "cell_type": "code",
   "execution_count": 9,
   "metadata": {},
   "outputs": [
    {
     "name": "stdout",
     "output_type": "stream",
     "text": [
      "integral_1st: 10.12 seconds =>  31.8 nanoseconds per point\n"
     ]
    },
    {
     "data": {
      "image/png": "[encoded data removed]",
      "text/plain": [
       "<Figure size 640x480 with 1 Axes>"
      ]
     },
     "metadata": {},
     "output_type": "display_data"
    }
   ],
   "source": [
    "timeit(integral_1st)"
   ]
  },
  {
   "cell_type": "code",
   "execution_count": 10,
   "metadata": {},
   "outputs": [
    {
     "name": "stdout",
     "output_type": "stream",
     "text": [
      "Q_integral_2nd: 10.05 seconds =>  17.4 nanoseconds per point\n"
     ]
    },
    {
     "data": {
      "image/png": "[encoded data removed]",
      "text/plain": [
       "<Figure size 640x480 with 1 Axes>"
      ]
     },
     "metadata": {},
     "output_type": "display_data"
    }
   ],
   "source": [
    "timeit(Q_integral_2nd)"
   ]
  },
  {
   "cell_type": "markdown",
   "metadata": {},
   "source": [
    "## Absalon Handin:\n",
    "\n",
    "Copy the solution to task 1, task 2, and possibly the bonus task down here. This gives you a clean reference code above, and makes it easier to see what has been modified.\n",
    "\n",
    "Submit notebook and pdf of notebook to Absalon"
   ]
  }
 ],
 "metadata": {
  "kernelspec": {
   "display_name": "Python 3 (ipykernel)",
   "language": "python",
   "name": "python3"
  },
  "language_info": {
   "codemirror_mode": {
    "name": "ipython",
    "version": 3
   },
   "file_extension": ".py",
   "mimetype": "text/x-python",
   "name": "python",
   "nbconvert_exporter": "python",
   "pygments_lexer": "ipython3",
   "version": "3.11.5"
  }
 },
 "nbformat": 4,
 "nbformat_minor": 4
}
