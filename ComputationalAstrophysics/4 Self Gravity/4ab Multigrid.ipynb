{
 "cells": [
  {
   "cell_type": "markdown",
   "metadata": {},
   "source": [
    "# 4ab Creating a Multigrid Poisson Solver\n",
    "Multigrid solvers are built on a few key observations:\n",
    "  * Iterative solvers, like the Jacobi solver, correct the small scale errors of a solution faster than the large scale errors\n",
    "  * The solution to the Poisson equation can be used to formulate an analogous equation for the solution of the error term\n",
    "  * By using a __restriction operator__ we can solve the equation for the error term on a coarse mesh\n",
    "  * By using a __prolongation operator__ we can propogate the solution for the error term from the coarse to the fine mesh\n",
    "  * This can be done recursively\n",
    "  * Solving on the coarse mesh is cheaper by a factor 2^ndim\n",
    "\n",
    "In this exercise you will get the chance to build a nice recursive piece of code by yourself and create a multigrid solver. Below are only given the logical pieces, the rest you have to create.\n",
    "\n",
    "_This exercise counts for the full week_\n",
    "\n",
    "## Preparation:\n",
    "At the bottom write a section heading, \"Solution\", and copy the multigrid class and the small piece of to run the solver below it. This gives you a clean reference code above, and makes it easier to see what has been modified.\n",
    "\n",
    "#### Task 1 (40 pt):  \n",
    "Create the prolongation and restriction operators, and the central recursive algorithm (see the code below).\n",
    "\n",
    "#### Task 2 (40 pt):\n",
    "Validate the solver. Multigrid solvers have the central property that, for a given tolerance, the number of needed multigrid cycles only depends weakly on the resolution\n",
    "Compare with a simple Jacobi integrator. Notice the ```maxit```option that may have to be increased for it to converge, if you go to high resolutions.\n",
    "\n",
    "#### Task 3 (20 pt):\n",
    "Timing: at what resolution does your multigrid solver become faster than the Jacobi solver?\n",
    "\n",
    "#### Extra open task  (up to 20 pt):\n",
    "The convergence properties of a multi grid solver can be be improved by not doing the full cycle up and down (V-cycle), but instead first going all the way down, then half way up, down again, and then all the way up (W-cycle). Change the solver to a W-cycle, or explore other cycle configurations (see e.g. the link at the end of the slides). "
   ]
  },
  {
   "cell_type": "code",
   "execution_count": null,
   "metadata": {},
   "outputs": [],
   "source": [
    "import numpy as np\n",
    "import matplotlib.pyplot as plt\n",
    "from time import time\n",
    "np.set_printoptions(linewidth=120)"
   ]
  },
  {
   "cell_type": "markdown",
   "metadata": {},
   "source": [
    "### Small function for showing images of 2D arrays"
   ]
  },
  {
   "cell_type": "code",
   "execution_count": null,
   "metadata": {},
   "outputs": [],
   "source": [
    "def imshow(f,title='',**kwargs):\n",
    "    \"\"\" Show an image, with preferred orientation \"\"\"\n",
    "    plt.imshow(np.transpose(f),origin='lower',**kwargs)\n",
    "    plt.colorbar()\n",
    "    plt.title('{}  max:{:.4f}  min:{:.4f}'.format(title,f.max(),f.min()));\n",
    "\n",
    "def imshows(f,title='',**kwargs):\n",
    "    f=np.array(f)\n",
    "    if f.ndim==2:\n",
    "        imshow(f,title,**kwargs)\n",
    "    else:\n",
    "        n=f.shape[0]\n",
    "        rows=1+(n-1)//3\n",
    "        cols=min(n,3)\n",
    "        plt.figure(figsize=(cols*5,rows*4))\n",
    "        for i in range(n):\n",
    "            plt.subplot(rows,cols,1+i)\n",
    "            if type(title) is np.ndarray:\n",
    "                t=title[i]\n",
    "            else:\n",
    "                t=title\n",
    "            imshow(f[i,:,:],t,**kwargs);"
   ]
  },
  {
   "cell_type": "markdown",
   "metadata": {},
   "source": [
    "### Class for initial conditions"
   ]
  },
  {
   "cell_type": "code",
   "execution_count": null,
   "metadata": {},
   "outputs": [],
   "source": [
    "class BonnorEbert():\n",
    "    \"\"\" Simple 1/(r+rc)^2 for r < r0 density distribution \"\"\"\n",
    "    def __init__(u,n=(32,32,32),G=1,L=2,r0=0.5,rc=0.1):\n",
    "        # make n a 3-tuple if given as an integer\n",
    "        if isinstance(n, int):\n",
    "            m = (n,n,n)\n",
    "        else:\n",
    "            m = n\n",
    "        u.n = m                             # number of grid points\n",
    "        u.ds = L / m[0]                     # cell size\n",
    "        # make cell centered coordinates with domain boundaries [-L/2:L/2]^ndim\n",
    "        LL = 0.5*u.ds*m[0], 0.5*u.ds*m[1], 0.5*u.ds*m[2]\n",
    "        u.x = np.linspace(-LL[0],LL[0],m[0], endpoint=False) + 0.5 * u.ds # cell centered coordinates\n",
    "        u.y = np.linspace(-LL[1],LL[1],m[1], endpoint=False) + 0.5 * u.ds\n",
    "        u.z = np.linspace(-LL[2],LL[2],m[2], endpoint=False) + 0.5 * u.ds\n",
    "        u.coords = np.array(np.meshgrid(u.x,u.y,u.z,indexing='ij')) # expand to 3D grid\n",
    "        u.r = np.sqrt(np.sum(u.coords**2,axis=0)) # spherical radius\n",
    "        u.L = L * np.array(m) / m[0]        # box size in all three directions\n",
    "        u.G    = G                          # Newtons constant of gravity\n",
    "        u.D = np.zeros(m)                   # density\n",
    "        ii = np.where(u.r <= r0)\n",
    "        u.D[ii] = 1. / (u.r[ii]+rc)**2\n"
   ]
  },
  {
   "cell_type": "markdown",
   "metadata": {},
   "source": [
    "### Jacobi solver and computation of residual"
   ]
  },
  {
   "cell_type": "code",
   "execution_count": null,
   "metadata": {},
   "outputs": [],
   "source": [
    "def Jacobi_residual(Phi,S):\n",
    "    \"\"\" calculate explicit residual for given Phi, S \"\"\"\n",
    "    n = Phi.shape        # grid size\n",
    "    res = np.copy(S)\n",
    "    for i in range(3):\n",
    "        if n[i] > 1:\n",
    "            res += (np.roll(Phi,+1,axis=i)+np.roll(Phi,-1,axis=i)) - 2.*Phi\n",
    "    # fix boundaries\n",
    "    if n[0] > 2:\n",
    "        res[0,:,:] = res[-1,:,:] = 0.\n",
    "    if n[1] > 2:\n",
    "        res[:,0,:] = res[:,-1,:] = 0.\n",
    "    if n[2] > 2:\n",
    "        res[:,:,0] = res[:,:,-1] = 0.\n",
    "    return res\n",
    "\n",
    "def Jacobi(Phi,S):\n",
    "    \"\"\" Jacobi iteration for multi-grid self-gravity \"\"\"\n",
    "    n = Phi.shape  # grid size\n",
    "\n",
    "    const = 0.     # Prefactor for normalising dimensions (2 * ndim)\n",
    "    #   phi = 1/(2ndim) (phi(i-1,j,k)+phi(i+1,j,k)+... - 4 pi G ds^2 rho)\n",
    "    #   Pad Phi with zeros in each direction for boundary values (assumed to be zero) using numpy.pad\n",
    "    Phi_new = np.copy(S)   # copy source\n",
    "    if n[0] > 1:\n",
    "        const += 2.\n",
    "        PP = np.pad(Phi, ((1,1),(0,0),(0,0)), 'constant', constant_values=(0., 0.))\n",
    "        Phi_new += (np.roll(PP,+1,axis=0)+np.roll(PP,-1,axis=0))[1:-1,:,:]\n",
    "    if n[1] > 1:\n",
    "        const += 2.\n",
    "        PP = np.pad(Phi, ((0,0),(1,1),(0,0)), 'constant', constant_values=(0., 0.))\n",
    "        Phi_new += (np.roll(PP,+1,axis=1)+np.roll(PP,-1,axis=1))[:,1:-1,:]\n",
    "    if n[2] > 1:\n",
    "        const += 2.\n",
    "        PP = np.pad(Phi, ((0,0),(0,0),(1,1)), 'constant', constant_values=(0., 0.))\n",
    "        Phi_new += (np.roll(PP,+1,axis=2)+np.roll(PP,-1,axis=2))[:,:,1:-1]\n",
    "\n",
    "    Phi_new *= (1./const) # normalise\n",
    "\n",
    "    # Return solution and residual (Phi_new - Phi = S + Laplace Phi)\n",
    "    return Phi_new, Phi_new - Phi"
   ]
  },
  {
   "cell_type": "markdown",
   "metadata": {},
   "source": [
    "### Iterative Jacobi solver for selfgravity"
   ]
  },
  {
   "cell_type": "code",
   "execution_count": null,
   "metadata": {},
   "outputs": [],
   "source": [
    "class poisson():\n",
    "    def __init__(self, u, tolerance=1e-4,maxit=2000):\n",
    "        \"\"\" Initialize a Poisson solver \"\"\"\n",
    "        self.n         = u.n       # Mesh size\n",
    "        self.maxit     = maxit     # Maximum number of iterative steps to take\n",
    "        self.tolerance = tolerance # Tolerance to satisfy for the error\n",
    "\n",
    "    # Iterative Solver for the Poisson Problem\n",
    "    def Poisson(self,u):\n",
    "        S = -(4.*np.pi*u.G)*u.D*u.ds**2\n",
    "        norm   = np.amax(np.abs(S))\n",
    "        Phi = np.zeros(self.n)        # Start guess =0\n",
    "        self.it = 0; self.error = self.tolerance\n",
    "        while self.error >= self.tolerance and self.it<self.maxit:\n",
    "            Phi, residual = Jacobi(Phi,S)\n",
    "            self.error = np.amax(np.abs(residual) / norm)\n",
    "            self.it+=1\n",
    "            \n",
    "        residual = Jacobi_residual(Phi,S)\n",
    "                    \n",
    "        return Phi, self.it, self.error, residual"
   ]
  },
  {
   "cell_type": "markdown",
   "metadata": {},
   "source": [
    "### Driver for calling the Jacobi solver"
   ]
  },
  {
   "cell_type": "code",
   "execution_count": null,
   "metadata": {},
   "outputs": [],
   "source": [
    "u = BonnorEbert(n=32,rc=0.1, r0=0.5)\n",
    "P = poisson(u,maxit=8000,tolerance=1e-4)\n",
    "\n",
    "start = time()\n",
    "Phi, nt, err, res = P.Poisson(u)\n",
    "used = time() - start\n",
    "ntot = u.n[0]*u.n[1]*u.n[2]\n",
    "print(\"Nr of iterations, error, tolerance : {} {:.2e} {:.1e}\".format(nt, err, P.tolerance))\n",
    "print(\"Time = {:.1f} seconds, {:.1f} musec/cell, {:.1f} nanosec/cell/it\".format(used,1e6*used/ntot,1e9*used/(ntot*nt)))\n",
    "\n",
    "# Show solution, Phi, and residual, res, side-by-side\n",
    "imshows(np.array( [Phi[:,:,u.n[2]//2],res[:,:,u.n[2]//2]]))"
   ]
  },
  {
   "cell_type": "markdown",
   "metadata": {},
   "source": [
    "### Investigating the solution"
   ]
  },
  {
   "cell_type": "markdown",
   "metadata": {},
   "source": [
    "Plot the size of the potential, $\\Phi$, as a function of distance from center $r$. Notice how it strays from a perfect spherical solution because we restrict it to be zero on the boundary"
   ]
  },
  {
   "cell_type": "code",
   "execution_count": null,
   "metadata": {},
   "outputs": [],
   "source": [
    "f = plt.figure(figsize=(12,6))\n",
    "plt.plot(u.r.ravel(),Phi.ravel(),'o',markersize=0.1,label=r'$\\Phi(r)$')\n",
    "plt.legend();"
   ]
  },
  {
   "cell_type": "markdown",
   "metadata": {},
   "source": [
    "### Multigrid Solver"
   ]
  },
  {
   "cell_type": "markdown",
   "metadata": {},
   "source": [
    "Make a Multigrid solver class / object, which given a hydro object finds the solution for the potential"
   ]
  },
  {
   "cell_type": "code",
   "execution_count": null,
   "metadata": {},
   "outputs": [],
   "source": [
    "class Multigrid():\n",
    "    def __init__(self,u,tolerance=1e-5,maxit=1000):\n",
    "        \"\"\" initialize Poisson solver class for u \"\"\"\n",
    "        self.maxit = maxit          # maximum number multigrid iterations. Depends on tolerance\n",
    "        self.tolerance = tolerance  # tolerance to satisfy for the error\n",
    "        self.first_time = [True]*20 # flag to print info on each level only once. Works up to resolution of 2**20\n",
    "\n",
    "    def print_info(self,level,n):\n",
    "        \"\"\" Print info about current level and grid size \"\"\"\n",
    "        if self.first_time[level]:\n",
    "            print (\"MG level = {} n = {}\".format(level, n))\n",
    "            self.first_time[level] = False\n",
    "\n",
    "    def can_restrict(self,n):\n",
    "        \"\"\" Test if we can divide any resolution by 2 \"\"\"\n",
    "        for i in range(len(n)):\n",
    "            if n[i] > 2 and n[i] % 2 == 0:\n",
    "                return True\n",
    "\n",
    "    def restrict(self,f_fine):\n",
    "        \"\"\" restrict residual to coarser level by taking every second element \"\"\"\n",
    "        n = np.array(np.shape(f_fine))\n",
    "        # calculate f_coarse and return it\n",
    "        # ...\n",
    "\n",
    "    def prolong(self,f_coarse):\n",
    "        \"\"\" prolong solution to finer level by copy for every second point and average for every second point \"\"\"\n",
    "        # calculate f_fine and return it\n",
    "        # ...\n",
    "\n",
    "    # The heart of the multigrid algorithm. This function should call itself recursively.\n",
    "    # As given, it just updates Phi and does two times itsmooth Jacobi iterations\n",
    "    def Vcycle(self,Phi,source,level):\n",
    "        Phi[:,:,:], _ = Jacobi(Phi,source) # improve solution at grid-scale\n",
    "        residual = Jacobi_residual(Phi,source)\n",
    "\n",
    "        n = Phi.shape\n",
    "        self.print_info(level,n) # print some info first time this level is visited\n",
    "        if self.can_restrict(n): # if not on coarsest level, recurse\n",
    "            level_coarse = level + 1\n",
    "            # 1. restrict *residual* from current to coarse level\n",
    "            # 2. call solve at coarser level (e.g. level+1)\n",
    "            # 3. prolong the solution for Phi from the coarser level (=level+1) and add to solution on this level\n",
    "\n",
    "        Phi[:,:,:], _ = Jacobi(Phi,source) # improve solution at grid-scale\n",
    "        return Phi\n",
    "\n",
    "    def full_solve(self,Phi,source):\n",
    "        norm   = np.amax(np.abs(S))                  # normalisation for residual\n",
    "        self.it = 0\n",
    "        self.error = self.tolerance\n",
    "        # Main loop\n",
    "        while self.error >= self.tolerance and self.it<self.maxit:\n",
    "            Phi = self.Vcycle(Phi,source,0)          # do a full V-shaped multigrid cycle\n",
    "            self.it += 1                             # inc nr of MG iterations\n",
    "            res = Jacobi_residual(Phi,source)        # compute residual\n",
    "            self.error = np.amax(np.abs(res) / norm) # estimate error\n",
    "            \n",
    "        return Phi, res"
   ]
  },
  {
   "cell_type": "code",
   "execution_count": null,
   "metadata": {},
   "outputs": [],
   "source": [
    "n=32\n",
    "u = BonnorEbert(n=n,rc=0.1, r0=0.5)         # Compute the density distribution\n",
    "M = Multigrid(u,maxit=5000,tolerance=1e-4)  # Setup the Multigrid solver object\n",
    "\n",
    "start = time()              # for timing\n",
    "\n",
    "Phi = np.zeros(u.n)         # initial guess for Phi\n",
    "S = -(4.*np.pi*u.G)*u.D*u.ds**2 # source term\n",
    "Phi, res = M.full_solve(Phi,S)  # call the multigrid solver\n",
    "used = time() - start       # for timing\n",
    "\n",
    "# print some statistics\n",
    "ntot = u.n[0]*u.n[1]*u.n[2]\n",
    "print(\"Nr of iterations, error, tolerance : {} {:.2e} {:.1e}\".format(M.it, M.error, M.tolerance))\n",
    "print(\"Time = {:.1f} seconds, {:.1f} musec/cell, {:.1f} nanosec/cell/it\".format(\n",
    "    used,1e6*used/ntot,1e9*used/(ntot*nt)))\n",
    "\n",
    "# show potetial and residual\n",
    "imshows(np.array( [Phi[:,:,u.n[2]//2],res[:,:,u.n[2]//2]]))"
   ]
  },
  {
   "cell_type": "markdown",
   "metadata": {},
   "source": [
    "----\n",
    "#### Add your solution below"
   ]
  },
  {
   "cell_type": "markdown",
   "metadata": {},
   "source": []
  }
 ],
 "metadata": {
  "kernelspec": {
   "display_name": "Python 3 (ipykernel)",
   "language": "python",
   "name": "python3"
  },
  "language_info": {
   "codemirror_mode": {
    "name": "ipython",
    "version": 3
   },
   "file_extension": ".py",
   "mimetype": "text/x-python",
   "name": "python",
   "nbconvert_exporter": "python",
   "pygments_lexer": "ipython3",
   "version": "3.9.13"
  }
 },
 "nbformat": 4,
 "nbformat_minor": 4
}
