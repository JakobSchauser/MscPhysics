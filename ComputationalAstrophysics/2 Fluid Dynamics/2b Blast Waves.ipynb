{
 "cells": [
  {
   "cell_type": "markdown",
   "metadata": {},
   "source": [
    "# 2b. 2-D Riemann Solvers, applied to Blast Waves"
   ]
  },
  {
   "cell_type": "markdown",
   "metadata": {},
   "source": [
    "## Hydrodynamics\n",
    "The equations of hydrodynamics are\n",
    "\\begin{align}\n",
    "\\partial_t \\rho + \\mathbf{\\nabla} \\cdot [\\rho\\,\\mathbf{v}] & = 0 \\\\\n",
    "\\partial_t \\rho\\,\\mathbf{v} + \\mathbf{\\nabla} \\cdot [\\rho\\, \\mathbf{v}\\otimes\\mathbf{v} + P \\mathsf{I}] & = 0 \\\\\n",
    "\\partial_t E + \\mathbf{\\nabla} \\cdot [(E + P)\\, \\mathbf{v}] & = 0\\,,\n",
    "\\end{align}\n",
    "where $\\rho$ is density, $\\mathbf{v}$ is velocity, $P$ is pressure, and $E$ is the total energy density. $E = \\rho e + {1 \\over 2} \\rho v^2$, and $e$ is the internal energy per mass. This is complemented by an equation of state $P = (\\gamma - 1)\\rho e$.\n",
    "\n",
    "This can also be written in the Lagranian form\n",
    "\\begin{align}\n",
    "\\partial_t \\rho & = - \\mathbf{v} \\cdot \\mathbf{\\nabla} \\rho - \\rho \\mathbf{\\nabla} \\cdot \\mathbf{v} \\\\\n",
    "\\partial_t \\mathbf{v} & = - (\\mathbf{v} \\cdot \\mathbf{\\nabla}) \\mathbf{v} - \\frac{1}{\\rho} \\mathbf{\\nabla} P  \\\\\n",
    "\\partial_t P &= - \\mathbf{v} \\cdot \\mathbf{\\nabla} P - \\gamma P \\mathbf{\\nabla} \\cdot \\mathbf{v}\\,,\n",
    "\\end{align}\n",
    "where the advective derivative ($-\\mathbf{v} \\cdot \\mathbf{\\nabla}$) is explicit."
   ]
  },
  {
   "cell_type": "markdown",
   "metadata": {},
   "source": [
    "Today, we will switch to using 2-D solvers, so we can study for example _blast waves_."
   ]
  },
  {
   "cell_type": "markdown",
   "metadata": {},
   "source": [
    "### Standard libaries"
   ]
  },
  {
   "cell_type": "code",
   "execution_count": null,
   "metadata": {},
   "outputs": [],
   "source": [
    "import numpy as np\n",
    "import matplotlib.pyplot as plt\n",
    "from time import time"
   ]
  },
  {
   "cell_type": "markdown",
   "metadata": {},
   "source": [
    "## Using a Python class to store things\n",
    "We start by defining a class `hd`, with things we will need for 2-D hydrodynamics.  Notice how we now use Python ___classes___ to make it possible to include also _methods_ (functions, subroutines), bound to the classes. "
   ]
  },
  {
   "cell_type": "code",
   "execution_count": null,
   "metadata": {},
   "outputs": [],
   "source": [
    "# Empty class, used to create ad hoc objects\n",
    "class empty_class(): pass\n",
    "\n",
    "class hd():\n",
    "    \"\"\" Template class for hydrodynamics, with parameters, variables and methods \"\"\"\n",
    "    def __init__(self,n=64,gamma=1.4,Lbox=2.,cs=1):\n",
    "        \"\"\" Initialization of arrays for conservative variables \"\"\"\n",
    "        self.n=n                    # number of points along a coordinate axis. n*n in total\n",
    "        self.Lbox=Lbox              # box size\n",
    "        self.t = 0                  # time\n",
    "        self.it = 0                 # iterations\n",
    "        self.gamma = gamma          # adiabatic index\n",
    "        self.cs = cs                # sound speed only used if gas isothermal\n",
    "        self.D    = np.ones((n,n))  # density\n",
    "        self.Etot = np.ones((n,n))  # total energy\n",
    "        self.Mx   = np.zeros((n,n)) # momentum in x-direction\n",
    "        self.My   = np.zeros((n,n)) # momentum in y-direction\n",
    "        self.coordinates()          # setup cooridnate system\n",
    "    \n",
    "    def coordinates(self):\n",
    "        \"\"\" Coordinate initialization \"\"\"\n",
    "        n = self.n              # shorthand, used a lot below\n",
    "        self.ds = self.Lbox/n\n",
    "        # cell-centered coordinates are in the interval [-Lbox/2+ds/2,...,Lbox/2-ds/2]\n",
    "        self.x = np.linspace(-self.Lbox*0.5,self.Lbox*0.5,num=self.n,endpoint=False)+0.5*self.ds\n",
    "        self.y = self.x\n",
    "        xv, yv = np.meshgrid(self.x, self.y, sparse=True) # Coordinates as 2D arrays\n",
    "        self.r = (xv**2 + yv**2)**0.5           # make a 2D radius function for convenience\n",
    "\n",
    "    def velocity(self):\n",
    "        \"\"\" Compute velocity from conservative variables and return in (2,n,n) array \"\"\"\n",
    "        return np.array([self.Mx/self.D, self.My/self.D])\n",
    "\n",
    "    def pressure(self):\n",
    "        \"\"\" Compute pressure from conservative variables \"\"\"\n",
    "        if (self.gamma==1):\n",
    "            P = self.cs**2 * self.D\n",
    "        else:\n",
    "            Eint = self.Etot - 0.5*(self.Mx**2 + self.My**2)/self.D\n",
    "            P = (self.gamma-1.)*Eint\n",
    "        return P\n",
    "\n",
    "    def temperature(self):\n",
    "        \"\"\" Compute the 'temperature', defined as Pressure/density = kB / mu T \"\"\"\n",
    "        return self.pressure() / self.D\n",
    "    \n",
    "    def Courant(self,Cdt=0.5):\n",
    "        \"\"\" Courant condition for HD \"\"\"\n",
    "        v = self.velocity()\n",
    "        speed = np.sqrt(v[0]**2 + v[1]**2)\n",
    "        cs = np.sqrt(self.gamma*self.pressure()/self.D)\n",
    "        return Cdt*self.ds/np.max(cs+speed)"
   ]
  },
  {
   "cell_type": "markdown",
   "metadata": {},
   "source": [
    "## Riemann Solvers"
   ]
  },
  {
   "cell_type": "markdown",
   "metadata": {},
   "source": [
    "Riemann solvers are used to compute the fluxes that pass mass, momentum, and energy from cell to cell.  When working in two dimensions, we need to treat the interfaces on all four sides of each cell, with differences between _left_ and _right_, and _bottom_ and _top_ controlling the changes of conserved quantities."
   ]
  },
  {
   "cell_type": "markdown",
   "metadata": {},
   "source": [
    "#### __Task 1: Complete the 2-D LLF and HLL solvers (20p)__\n",
    "Given the description (in the comments below) of how to combine the fluxes, and what you learned in the Tuesday exercise, add the energy equation to the LLF solver, and complete the HLL Riemann solver. Notice the solver is two dimensional."
   ]
  },
  {
   "cell_type": "code",
   "execution_count": null,
   "metadata": {},
   "outputs": [],
   "source": [
    "# Conservative variables computed from primitve variable\n",
    "def primitive_to_conservative(q):\n",
    "    U = empty_class()\n",
    "    U.D  = q.D\n",
    "    U.Mperp = q.D*q.vperp\n",
    "    U.Mpar  = q.D*q.vpar\n",
    "    #if q.gamma != 1:\n",
    "    #    U.Etot = ...\n",
    "    return U\n",
    "\n",
    "# Hydro flux from conservative and primitive variables\n",
    "# The flux through the interface is carried by the perpendicular velocity\n",
    "def Hydro_Flux(q,U):\n",
    "    F = empty_class()\n",
    "    F.D = U.Mperp\n",
    "    F.Mperp = U.Mperp*q.vperp + q.P\n",
    "    F.Mpar  = U.Mpar *q.vperp\n",
    "    #if q.gamma != 1:\n",
    "    #    F.Etot = ...\n",
    "    return F"
   ]
  },
  {
   "cell_type": "markdown",
   "metadata": {},
   "source": [
    "### LLF fluxes\n",
    "LLF is the most diffuse Riemann solver. But also the most stable."
   ]
  },
  {
   "cell_type": "code",
   "execution_count": null,
   "metadata": {},
   "outputs": [],
   "source": [
    "def LLF(ql,qr):\n",
    "    # sound speed for each side of interface (l==left, r==right)\n",
    "    c_left  = (ql.gamma*ql.P/ql.D)**0.5\n",
    "    c_right = (qr.gamma*qr.P/qr.D)**0.5\n",
    "    c_max = np.maximum (c_left, c_right)\n",
    "    \n",
    "    # maximum propagation speed anywhere\n",
    "    cmax = np.maximum(np.abs(ql.vperp)+c_max, np.abs(qr.vperp)+c_max)\n",
    "\n",
    "    # Hydro conservative variable\n",
    "    Ul = primitive_to_conservative(ql)\n",
    "    Ur = primitive_to_conservative(qr)\n",
    "\n",
    "    # Hydro fluxes\n",
    "    Fl = Hydro_Flux(ql,Ul)\n",
    "    Fr = Hydro_Flux(qr,Ur)\n",
    "    \n",
    "    # LLF flux based on maximum wavespeed.\n",
    "    # The general form is \n",
    "    #   (F_left + F_right - cmax*(U_right - U_left)) / 2\n",
    "    # where U = (rho, rho*vperp, rho*vpar, E_tot) are the conserved variables\n",
    "    Flux = empty_class()\n",
    "    Flux.D  = 0.5*(Fl.D  + Fr.D  - cmax*(Ur.D  - Ul.D))\n",
    "    Flux.Mperp = 0.5*(Fl.Mperp + Fr.Mperp - cmax*(Ur.Mperp - Ul.Mperp))\n",
    "    Flux.Mpar  = 0.5*(Fl.Mpar  + Fr.Mpar  - cmax*(Ur.Mpar  - Ul.Mpar ))\n",
    "    #if ql.gamma != 1:\n",
    "    #    Flux.Etot = ...\n",
    "\n",
    "    return Flux"
   ]
  },
  {
   "cell_type": "markdown",
   "metadata": {},
   "source": [
    "### HLL (Harten, Lax, van Leer) fluxes\n",
    "This is a bit less diffuse.  The first part is identical to the LFF solver, and only the method to combine the left and right fluxes at the interfaces differ. "
   ]
  },
  {
   "cell_type": "code",
   "execution_count": null,
   "metadata": {},
   "outputs": [],
   "source": [
    "def HLL(ql,qr):\n",
    "    # sound speed for each side of interface (l==left, r==right), and maxmimum sound speed (c_max)\n",
    "    #...\n",
    "\n",
    "    # maximum wave speeds to the left and right (guaranteed to have correct sign)\n",
    "    SL = np.minimum(np.minimum(ql.vperp,qr.vperp)-c_max,0) # <= 0.\n",
    "    SR = np.maximum(np.maximum(ql.vperp,qr.vperp)+c_max,0) # >= 0.\n",
    "\n",
    "    # Hydro conservative variable\n",
    "    #...\n",
    "\n",
    "    # Hydro fluxes    \n",
    "    #...\n",
    "\n",
    "    # HLL flux based on wavespeeds. If SL < 0 and SR > 0 then mix state appropriately\n",
    "    # The general form is \n",
    "    #    (SR * F_left - SL * F_right + SL * SR *(U_right - U_left)) / (SR - SL)\n",
    "    # where U is the state vector of the conserved variables\n",
    "    Flux = empty_class()\n",
    "    #Flux.D = ...\n",
    "    #Flux.Mperp = ...\n",
    "    #Flux.Mpar  = ...\n",
    "    #if ql.gamma != 1:\n",
    "    #    Flux.Etot = ...\n",
    "    return Flux"
   ]
  },
  {
   "cell_type": "markdown",
   "metadata": {},
   "source": [
    "### Slope limiter\n",
    "Monotonized Central (MonCen) slope limiter.  In two dimensions, return the  slopes in both directions, with shape (2,n,n)"
   ]
  },
  {
   "cell_type": "code",
   "execution_count": null,
   "metadata": {},
   "outputs": [],
   "source": [
    "def left_slope(f,axis=0):\n",
    "    return (f-np.roll(f,1,axis))\n",
    "\n",
    "def MonCen(f):\n",
    "    \"\"\" Monotonized central slope limiter \"\"\"\n",
    "    shape=np.insert(f.shape,0,f.ndim)\n",
    "    slopes=np.empty(shape)\n",
    "    for i in range(f.ndim):\n",
    "        ls=left_slope(f,axis=i)\n",
    "        rs=np.roll(ls,-1,axis=i)\n",
    "        cs=np.zeros_like(f)\n",
    "        w=ls*rs>0\n",
    "        cs[w]=2*ls[w]*rs[w]/(ls[w]+rs[w])\n",
    "        slopes[i]=cs\n",
    "    if f.ndim==1:\n",
    "        return cs\n",
    "    else:\n",
    "        return slopes"
   ]
  },
  {
   "cell_type": "markdown",
   "metadata": {},
   "source": [
    "### MUSCL Method for time updates in two dimensions\n",
    "To simplfy the equations we write the system in vector notation, with a _state vector_ $U$, and a _flux vector_ $F$, and assume we have two dimensions. $u$ is the velocity in the $x$-direction, $v$ is the velocity in the $y$-direction. Then for the flux along the first dimension we have\n",
    "\\begin{align}\n",
    "U &= (\\rho, \\rho u, \\rho v) \\\\\n",
    "F_x &= (\\rho u, \\rho u u + P, \\rho v u) \\\\\n",
    "\\partial_t U + \\partial_x F_x & = 0\n",
    "\\end{align}\n",
    "\n",
    "From last week's lecture slide we have the __master equation__ for solving the system along one coordinate axis:\n",
    "\\begin{equation}\n",
    "U(t + \\Delta t,x_{i-1/2}) - U(t,x_{i-1/2}) = - \\frac{\\Delta t}{\\Delta x} \\left[ \\tilde F_x(t + {\\Delta t \\over 2},x_{i}) - \\tilde F_x(t + {\\Delta t \\over 2},x_{i-1}) \\right]\\,,\n",
    "\\end{equation}\n",
    "where the flux terms are integrals over the time step and the cell faces (that in 1D is just a point, but in 2D a line, and in 3D an area)\n",
    "\\begin{equation}\n",
    "\\tilde F_x(t + {\\Delta t \\over 2},x_{i}) = {1 \\over \\Delta t}\n",
    "\\int^{t + \\Delta t}_t \\textrm{d} t' F_x(t', U_I(t',x_i))\\,,\n",
    "\\end{equation}\n",
    "and $U_I$ are the point values of $U$ at the interface.\n",
    "\n",
    "The 2D MUSCL method improves on Godunov method by approximating the time integral and assuming that we can make a slope interpolation for the values at the interface.\n",
    "The alogrithm goes as follows\n",
    "  1. From the state vector $U$ compute the _primitive_ variables q = ($\\rho$,$v$,$P$)\n",
    "  2. Compute the spatial slopes from center of cell to interface. Making the slopes monotonized (TVD) if needed. The slope accross a cell are $\\Delta q_x$ and $\\Delta q_y$.\n",
    "  3. Compute a naive time evolution for the primitve variables at the center of the cell using an Euler step and the Lagranian hydro equations. E.g.\n",
    "\\begin{equation}\n",
    "\\Delta q_t = \\Delta t \\frac{\\textrm{d}q}{\\textrm{d}t}\n",
    "\\end{equation}\n",
    "\n",
    "Step 4 to 7 have to be done first in the $x$-direction and then in the $y$-direction\n",
    "\n",
    "  4. Approximate $q(t+\\Delta/2, (x,y)\\pm\\Delta s/2) = q(t,x,y) + (\\Delta q_t \\pm \\Delta q_s) / 2$ where $s$ is either the $x$ or $y$ direction\n",
    "  5. Shift point of view from cells to interfaces and consider fluid variables on the _left_ and _right_ sides of _interfaces_.\n",
    "  6. Use an (approximate) Riemann solver to compute the fluxes. If considering the $y$-direction permute coordinate directions to make it the primary direction (which is what the Riemann solver expects).\n",
    "  7. Update the state vector based on the fluxes. Fluxes have to be inversely permuted if necessary.\n",
    "\n",
    "Below is the code corresponding to the algorithm. "
   ]
  },
  {
   "cell_type": "code",
   "execution_count": null,
   "metadata": {},
   "outputs": [],
   "source": [
    "def muscl_2d (exp, dt, Slope=MonCen, Riemann_Solver=LLF):\n",
    "    ds   = exp.ds\n",
    "    ids  = 1. / exp.ds # 1 / cell size, useful for derivatives below\n",
    "    dtds = dt/exp.ds\n",
    "\n",
    "    # 1) Compute primitive variables (D, v, P)\n",
    "    # make sure to copy exp.D to D, otherwise D becomes a \"pointer\" to exp.D, and updates itself in 7)\n",
    "    D = np.copy(exp.D)         # D: density (n,n)\n",
    "    v = exp.velocity()         # v: velocity (2,n,n)\n",
    "    P = exp.pressure()         # P: pressure (n,n)\n",
    "\n",
    "    # 2) Compute slope limited derivatives based on centered points\n",
    "    dD = Slope(D) * ids        # returns (2,n,n)\n",
    "    dP = Slope(P) * ids        # returns (2,n,n)\n",
    "    dv0 = Slope(v[0]) * ids    # returns (2,n,n)\n",
    "    dv1 = Slope(v[1]) * ids    # returns (2,n,n)\n",
    "    dv = np.array([dv0,dv1])   # shape = (2,2,n,n)\n",
    "\n",
    "    # 3) Trace forward to find solution at [t+dt/2, x +- dx/2]\n",
    "    \n",
    "    # Time evolution with source terms\n",
    "    div = dv[0,0] + dv[1,1]                  # div(v)\n",
    "    D_t = - v[0]*dD[0] - v[1]*dD[1] - D*div  # dD/dt = -v*grad(D) - D*div(v)\n",
    "    P_t = - v[0]*dP[0] - v[1]*dP[1] - exp.gamma*P*div # dP/dt = -v*grad(P) - gamma*P*div(v)\n",
    "    v_t = np.empty_like(v)                   # create empty array with shape = (2,n,n)\n",
    "    v_t[0] = - v[0]*dv[0,0] - v[1]*dv[0,1] - dP[0]/D  # dv/dt = -v*grad(v) - grad(P)/D\n",
    "    v_t[1] = - v[0]*dv[1,0] - v[1]*dv[1,1] - dP[1]/D\n",
    "    \n",
    "    # Loop over X- and Y-direction\n",
    "    for axis in range(2):\n",
    "        ql = empty_class(); ql.gamma = exp.gamma\n",
    "        qr = empty_class(); qr.gamma = exp.gamma\n",
    "        \n",
    "        # Calculates the perpendicular and parallel velocities to the interface\n",
    "        # X-axis: iperp=0, ipar=1, Y-axis: iperp=1, ipar=0\n",
    "        iperp = axis\n",
    "        ipar  = (axis + 1) % 2\n",
    "        # Perpendicular and parallel velocities\n",
    "        vperp = v[iperp]; dvperp = dv[iperp]; vperp_t = v_t[iperp]\n",
    "        vpar  = v[ipar];  dvpar  = dv[ipar];  vpar_t  = v_t[ipar]\n",
    "\n",
    "        # 4) Spatial interpolation \"axis\"-direction + time terms\n",
    "\n",
    "        # left state -- AS SEEN FROM THE INTERFACE\n",
    "        ql.D = D + 0.5*(dt*D_t + ds*dD[axis])\n",
    "        ql.P = P + 0.5*(dt*P_t + ds*dP[axis]) \n",
    "        ql.vperp = vperp + 0.5*(dt*vperp_t + ds*dvperp[axis])\n",
    "        ql.vpar  = vpar  + 0.5*(dt*vpar_t  + ds*dvpar[axis])\n",
    "\n",
    "        # right state -- AS SEEN FROM THE INTERFACE\n",
    "        qr.D = D + 0.5*(dt*D_t - ds*dD[axis])\n",
    "        qr.P = P + 0.5*(dt*P_t - ds*dP[axis])\n",
    "        qr.vperp = vperp + 0.5*(dt*vperp_t - ds*dvperp[axis])\n",
    "        qr.vpar  = vpar  + 0.5*(dt*vpar_t  - ds*dvpar[axis])\n",
    "\n",
    "        # 5) Roll down -1 in the \"axis\" direction so that we collect\n",
    "        #    left and right state (as seen from the interface) at the same grid index\n",
    "        qr.D = np.roll(qr.D,-1,axis=axis)\n",
    "        qr.P = np.roll(qr.P,-1,axis=axis)\n",
    "        qr.vperp = np.roll(qr.vperp,-1,axis=axis)\n",
    "        qr.vpar  = np.roll(qr.vpar, -1,axis=axis)\n",
    "\n",
    "        # 6) Solve for flux based on interface values\n",
    "        Flux = Riemann_Solver(ql,qr)\n",
    "\n",
    "        # 7) Update conserved variables with fluxes\n",
    "        exp.D  -= dtds * (Flux.D - np.roll(Flux.D,1,axis=axis))\n",
    "        if exp.gamma != 1:\n",
    "            exp.Etot -= dtds * (Flux.Etot - np.roll(Flux.Etot,1,axis=axis))\n",
    "        if axis==0: # X-axis\n",
    "            exp.Mx   -= dtds * (Flux.Mperp - np.roll(Flux.Mperp,1,axis=axis))\n",
    "            exp.My   -= dtds * (Flux.Mpar  - np.roll(Flux.Mpar, 1,axis=axis))\n",
    "        if axis==1: # Y-axis\n",
    "            exp.My   -= dtds * (Flux.Mperp - np.roll(Flux.Mperp,1,axis=axis))\n",
    "            exp.Mx   -= dtds * (Flux.Mpar  - np.roll(Flux.Mpar, 1,axis=axis))\n",
    "\n",
    "    exp.t  += dt # update time\n",
    "    exp.it += 1  # update number of iterations\n",
    "\n",
    "    return exp"
   ]
  },
  {
   "cell_type": "markdown",
   "metadata": {},
   "source": [
    "# Blast Wave in 2-D"
   ]
  },
  {
   "cell_type": "markdown",
   "metadata": {},
   "source": [
    "Releasing a large amount of energy into a background fluid creates an explosion characterized by a strong shock wave, which then expands radially outwards from the point where the energy was released. In astrophysics, this happens, for example, in the case of supernovae.\n",
    "\n",
    "This is called a Sedov-Taylor blast wave. Sedov and Taylor first solved the problem in the context of atomic bomb explosions, but the solution is also useful in astrophysics. It can be used to test and validate hydrodynamical computer codes since an analytical solution exists. Blast waves are good candidates for adaptive mesh refinement (AMR) technique, that you read about in the book, but they can also be resolved with a uniform grid that we will use in this exercise."
   ]
  },
  {
   "cell_type": "markdown",
   "metadata": {},
   "source": [
    "#### __Task 2: Add a profile that defines the blast (10p)__"
   ]
  },
  {
   "cell_type": "markdown",
   "metadata": {},
   "source": [
    "Complete the blast wave setup with an initial profile for the total energy, of the form"
   ]
  },
  {
   "cell_type": "markdown",
   "metadata": {},
   "source": [
    "\\begin{equation}\\tag{2}\n",
    "f(r) = 1 + e0 \\, B \\, e^{-\\left(\\frac{r}{w\\Delta r}\\right)^p}\n",
    "\\end{equation}"
   ]
  },
  {
   "cell_type": "markdown",
   "metadata": {},
   "source": [
    "where $p$ is an exponent of order $2-4$, and $w$ controls the with in cell size ($\\Delta r$) units.  In the code, use `e0` for the total energy. The factor $B$ is there to normalize the total energy to be the same no matter what is chosen for $w$ and $p$. E.g. $B$ should be chosen such that\n",
    "\\begin{equation}\n",
    "\\int dV B \\, e^{-\\left(\\frac{r}{w\\Delta r}\\right)^p} = \\sum B \\, \\Delta x \\Delta y \\, e^{-\\left(\\frac{r}{w\\Delta r}\\right)^p} = 1\n",
    "\\end{equation}"
   ]
  },
  {
   "cell_type": "code",
   "execution_count": null,
   "metadata": {},
   "outputs": [],
   "source": [
    "class blast_wave(hd):\n",
    "    \"\"\" An extension of the hd() class with initial conditions \"\"\"\n",
    "    def __init__(exp,n=64,gamma=1.4,e0=1e3,d0=0.0,power=2,w=3.,eps=0.05):\n",
    "        hd.__init__(exp,n)\n",
    "        exp.gamma = gamma\n",
    "        exp.D  = np.ones((n,n))\n",
    "        #profile = ...\n",
    "        #exp.Etot = np.ones((n,n)) + profile"
   ]
  },
  {
   "cell_type": "markdown",
   "metadata": {},
   "source": [
    "We want the $y$ coordinate increasing upwards in image plots, so we define a variant of `imshow` (change default `size` according to taste):"
   ]
  },
  {
   "cell_type": "code",
   "execution_count": null,
   "metadata": {},
   "outputs": [],
   "source": [
    "def imshow(f,size=10,axis=None):\n",
    "    plt.figure(figsize=(size,size))\n",
    "    if axis is None:\n",
    "        extent = None\n",
    "    else:\n",
    "        extent = ([axis.min(), axis.max(), axis.min(), axis.max()])\n",
    "\n",
    "    plt.imshow(np.transpose(f),origin='lower',extent=extent)\n",
    "    plt.colorbar()\n",
    "    \n",
    "def title(e0=1e5,d0=1.0,C=0.5,n=128,solver=HLL):\n",
    "    plt.title('e0={:.0e}   d0={:.0e}   C={:.1f}  n={}  {}'.format(e0,d0,C,n,solver.__name__));"
   ]
  },
  {
   "cell_type": "markdown",
   "metadata": {},
   "source": [
    "Try it out on the initial condition:"
   ]
  },
  {
   "cell_type": "code",
   "execution_count": null,
   "metadata": {},
   "outputs": [],
   "source": [
    "exp = blast_wave(n=128,w=10)\n",
    "imshow(np.log(exp.Etot),axis=exp.x)\n",
    "imshow(np.log(exp.D),axis=exp.x)"
   ]
  },
  {
   "cell_type": "markdown",
   "metadata": {},
   "source": [
    "#### __Task 3: Scaling relations (20p)__"
   ]
  },
  {
   "cell_type": "markdown",
   "metadata": {},
   "source": [
    "Even without the exact analytical solution, one can already test the correctness using the scaling behaviour of the expanding shock.\n",
    "\n",
    "The radius of an expanding 3-D blast wave in a homogeneous medium scales as\n",
    "\n",
    "\\begin{equation}\\tag{1}\n",
    "R \\sim E^{1/5} \\rho^{-1/5} t^{2/5}\n",
    "\\end{equation}\n",
    "\n",
    "We would like to test if we can reproduce the scaling of the shock radius. To do this, run the eperiment, and figure out a way to track the radius as a function of time (search for a suitable maximum as a function of distance from the center). Does it match the expectation, or else how does it scale with time? Produce a plot of the shock radius as a function of time. Check in the output PDFs that the printout actually matches the edge of the shock and that the maximum of the density is not at some other place.\n",
    "\n",
    "The dimensional analysis assumes a blast wave expanding in a three dimensional medium with a density having dimensions $\\rho \\sim M/L^3$. But we are running in two dimensions. Derive the scaling law for two dimensions by figuring out the unique combination of time ($t$), density ($\\Sigma = M/L^2$), and energy ($M L^2 / S^2$) that gives the appropriate length scale. Does this now match with the shock radius observed in the simulation?"
   ]
  },
  {
   "cell_type": "markdown",
   "metadata": {},
   "source": [
    "### A small Blast Wave example"
   ]
  },
  {
   "cell_type": "markdown",
   "metadata": {},
   "source": [
    "This should take about 3 seconds:"
   ]
  },
  {
   "cell_type": "code",
   "execution_count": null,
   "metadata": {
    "tags": []
   },
   "outputs": [],
   "source": [
    "e0 = 1e3\n",
    "n = 128\n",
    "Cdt = 0.5\n",
    "nt = 300\n",
    "solver = LLF\n",
    "exp = blast_wave(n=n,e0=e0,gamma=1.4,w=3.,power=4,eps=0.1)\n",
    "start = time()\n",
    "for it in range(nt):\n",
    "    dt=exp.Courant(Cdt)\n",
    "    exp = muscl_2d(exp,dt,Slope=MonCen,Riemann_Solver=solver)\n",
    "used=time()-start\n",
    "print('{:.1f} sec, {:.2f} microseconds/update'.format(used,1e6*used/(n**2*nt)))\n",
    "imshow(exp.D,axis=exp.x)\n",
    "title(e0=e0,C=Cdt,n=n,solver=solver)\n",
    "imshow(exp.temperature(),axis=exp.x)\n",
    "title(e0=e0,C=Cdt,n=n,solver=solver)"
   ]
  },
  {
   "cell_type": "markdown",
   "metadata": {},
   "source": [
    "You may want to use this cheap setup to explore the effect of for example making the width $w$ smaller"
   ]
  },
  {
   "cell_type": "markdown",
   "metadata": {
    "tags": []
   },
   "source": [
    "### A Blast Wave example, with tendencies for instabilities"
   ]
  },
  {
   "cell_type": "markdown",
   "metadata": {},
   "source": [
    "Define a new function that runs an experiment with a given solver and resolution and makes a few plots. Notice how you may give the keyword `tend` to run the experiment until an exact time."
   ]
  },
  {
   "cell_type": "code",
   "execution_count": null,
   "metadata": {
    "scrolled": true
   },
   "outputs": [],
   "source": [
    "def example(n=400,nt=-1,solver=HLL,d0=0.,e0=1e3,w=3.,tend=None):\n",
    "    Cdt = 0.5\n",
    "    if nt==-1:\n",
    "        nt = n\n",
    "    estimate=6.*(n/200.)**3 * nt / n\n",
    "    if estimate>9.9:\n",
    "        print(\"this will take approx {:.0f} seconds\".format(estimate))\n",
    "    exp = blast_wave(n=n,d0=d0,e0=e0,gamma=1.4,w=w,power=4)\n",
    "    start = time()\n",
    "    if tend is None:\n",
    "        while exp.it < nt:\n",
    "            dt=exp.Courant(Cdt)\n",
    "            exp = muscl_2d(exp,dt,Slope=MonCen,Riemann_Solver=solver)\n",
    "    else:\n",
    "        # add and extra condition of max 10.000 iterations in case\n",
    "        # hydrodynamics crashes and timestep goes to zero\n",
    "        while exp.t < tend and exp.it < 1e4:\n",
    "            dt = exp.Courant(Cdt)\n",
    "            dt = min(dt, tend - exp.t) # make last timestep exactly reach tend\n",
    "            exp = muscl_2d(exp,dt,Slope=MonCen,Riemann_Solver=solver)\n",
    "\n",
    "    used=time()-start\n",
    "    print('{:.1f} sec, {:.2f} microseconds/update'.format(used,1e6*used/(n**2*nt)))\n",
    "    if tend is None:\n",
    "        print('End time :', exp.t)\n",
    "\n",
    "    imshow(exp.D,axis=exp.x)\n",
    "    title(e0=e0,d0=d0,C=Cdt,n=n,solver=solver)\n",
    "    imshow(exp.temperature(),axis=exp.x)\n",
    "    title(e0=e0,d0=d0,C=Cdt,n=n,solver=solver)\n",
    "\n",
    "    return exp"
   ]
  },
  {
   "cell_type": "markdown",
   "metadata": {},
   "source": [
    "Run two quick experiments with LLF and HLL solvers. Notice, by plotting e.g. the density, how LLF is more diffusive than HLL."
   ]
  },
  {
   "cell_type": "code",
   "execution_count": null,
   "metadata": {},
   "outputs": [],
   "source": [
    "exp1=example(n=128,solver=LLF)"
   ]
  },
  {
   "cell_type": "code",
   "execution_count": null,
   "metadata": {},
   "outputs": [],
   "source": [
    "exp2=example(n=128,solver=HLL)"
   ]
  },
  {
   "cell_type": "code",
   "execution_count": null,
   "metadata": {},
   "outputs": [],
   "source": [
    "plt.figure(figsize=(10,6))\n",
    "plt.plot(exp1.D[:,exp1.n//2],'-o',label='LLF')\n",
    "plt.plot(exp2.D[:,exp2.n//2],'-o',label='HLL')\n",
    "plt.legend()\n",
    "plt.xlim(28,45);"
   ]
  },
  {
   "cell_type": "markdown",
   "metadata": {},
   "source": [
    "To explore the substructure in the blast wave, we need higher resolution. This example should take about 20 seconds to run, and produce a thinner shock front:"
   ]
  },
  {
   "cell_type": "code",
   "execution_count": null,
   "metadata": {
    "scrolled": true
   },
   "outputs": [],
   "source": [
    "exp=example(n=300,solver=HLL)"
   ]
  },
  {
   "cell_type": "markdown",
   "metadata": {},
   "source": [
    "#### __Task 4: Rayleigh-Taylor instabilities in blast waves (30p)__"
   ]
  },
  {
   "cell_type": "markdown",
   "metadata": {},
   "source": [
    "A supernova exploding in the interstellar medium does not only have a high pressure, it also contains a significant amount of mass. To simulate this, try adding mass to your experiment, by using a similar profile for density, with `m0` being the total mass in the profile.\n",
    "\n",
    "Add mass by setting `m0` to something similar to the box mass, eg. 0.5, corresponding to a dense and warm source of the blast. Run the simulation followed by the analysis again. What is the impact of adding mass? How does the expansion change? How does the radius as a function of time change? What about the structure of the shock: Does it look similar to what you saw in the first run? If not, why not?\n",
    "\n",
    "And: Can you make significant Rayleigh-Taylor instabilities develop, by tuning the parameters (include increasing `n`)?  Note that when you change `n` it is useful to set `tend`, to get to the same radius, so the cost (wall clock time) increases with a factor of 8, for each power of 2 (note that it is not necessary to use powers of 2). It may help to add a bit of random noise with amplitude `eps` to e.g. the density profile, to seed the perturbations (what is seeding the perturbations without the noise?).\n"
   ]
  },
  {
   "cell_type": "markdown",
   "metadata": {},
   "source": [
    "#### Extra Tasks (and extra points!) for the interested"
   ]
  },
  {
   "cell_type": "markdown",
   "metadata": {},
   "source": [
    "If you want to have fun with blast waves, you can extend the setup to include several blastwaves, or include areas in your \"ISM\" that have different density.\n",
    "\n",
    "  * What happens if your blastwave collide with another one\n",
    "  * What happens if a blastwave explodes outside a \"cloud\" (e.g. a dense circular region)\n",
    "  * What happens if it explodes on the edge, or inside?\n",
    "  \n",
    "What do you learn from your experiments about the effect of feedback from Supernovae in the ISM?"
   ]
  },
  {
   "cell_type": "markdown",
   "metadata": {},
   "source": [
    "### __Absalon turn-in__"
   ]
  },
  {
   "cell_type": "markdown",
   "metadata": {},
   "source": [
    "Upload a max 3 page report (max 4 pages if you go for the extra tasks), the notebook and a PDF of the notebook, with the coding tasks completed. You can also upload movies. Please include comments and figures in the report. "
   ]
  }
 ],
 "metadata": {
  "kernelspec": {
   "display_name": "Python 3 (ipykernel)",
   "language": "python",
   "name": "python3"
  },
  "language_info": {
   "codemirror_mode": {
    "name": "ipython",
    "version": 3
   },
   "file_extension": ".py",
   "mimetype": "text/x-python",
   "name": "python",
   "nbconvert_exporter": "python",
   "pygments_lexer": "ipython3",
   "version": "3.9.13"
  }
 },
 "nbformat": 4,
 "nbformat_minor": 4
}
