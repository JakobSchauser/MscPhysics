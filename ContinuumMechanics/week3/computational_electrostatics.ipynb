{
 "cells": [
  {
   "cell_type": "code",
   "execution_count": 173,
   "metadata": {},
   "outputs": [],
   "source": [
    "import numpy as np\n",
    "\n",
    "# gradient descent relaxation\n",
    "\n",
    "stepsize = 0.1\n",
    "gridsize = 0.1\n",
    "\n",
    "width, height = 5, 10\n",
    "\n",
    "lambd = 1\n",
    "mu = 1\n",
    "\n",
    "g = 9.82\n",
    "\n",
    "F = np.array([0, -g])\n",
    "u_displacement = np.zeros((int(width/gridsize), int(height/gridsize), 2))\n",
    "\n",
    "# u = np.array([[[0, 0], [10, 1], [20, 2]], [[0, 0], [10, 1], [20, 2]]])\n",
    "\n",
    "\n",
    "def du(world):\n",
    "\n",
    "    # du = \n",
    "    stepsize*f_star\n",
    "\n",
    "    - (sigma*n-P)\n",
    "\n",
    "\n",
    "def u_fn(i,j):\n",
    "    return 0.5*(np.gradient(u_displacement, axis = i)[:, :, j] + np.gradient(u, axis = j)[:,:,i])\n",
    "\n",
    "\n",
    "\n",
    "\n",
    "def sigma_fn(u):\n",
    "    return 2*mu*u + lambd * (np.sum([u[k,k] for k in range(2)])) * np.eye(2) #maybe eye is wrong\n",
    "\n",
    "def f_star(sigma):\n",
    "    return F + np.sum([np.gradient(sigma[:,j], axis = j)[:,:,:] for j in range(2)])\n",
    "\n"
   ]
  },
  {
   "cell_type": "code",
   "execution_count": 134,
   "metadata": {},
   "outputs": [
    {
     "data": {
      "text/plain": [
       "(50, 100, 2)"
      ]
     },
     "execution_count": 134,
     "metadata": {},
     "output_type": "execute_result"
    }
   ],
   "source": [
    "u.shape"
   ]
  },
  {
   "cell_type": "code",
   "execution_count": 157,
   "metadata": {},
   "outputs": [
    {
     "data": {
      "text/plain": [
       "(50, 100, 2)"
      ]
     },
     "execution_count": 157,
     "metadata": {},
     "output_type": "execute_result"
    }
   ],
   "source": [
    "np.gradient(u, axis = 0)[:,:,0].shape"
   ]
  },
  {
   "cell_type": "code",
   "execution_count": 171,
   "metadata": {},
   "outputs": [
    {
     "data": {
      "text/plain": [
       "(50, 100, 2, 2)"
      ]
     },
     "execution_count": 171,
     "metadata": {},
     "output_type": "execute_result"
    }
   ],
   "source": [
    "sigma_fn(U).shape"
   ]
  },
  {
   "cell_type": "code",
   "execution_count": 174,
   "metadata": {},
   "outputs": [],
   "source": [
    "\n",
    "# dx uy\n",
    "sigma = np.zeros((int(width/gridsize),int(height/gridsize), 2, 2))\n",
    "U = np.zeros((int(width/gridsize),int(height/gridsize), 2, 2))\n",
    "\n",
    "\n",
    "def update():\n",
    "    U[:,:, 0,0] = u_fn(0,0)\n",
    "    U[:,:, 0,1] = u_fn(0,1)\n",
    "    U[:,:, 1,0] = u_fn(1,0)\n",
    "    U[:,:, 1,1] = u_fn(1,1)\n",
    "\n",
    "    sigma[:,:] = sigma_fn(U)\n",
    "\n",
    "    fstar = f_star(sigma)\n",
    "\n",
    "    \n",
    "update()\n"
   ]
  },
  {
   "cell_type": "code",
   "execution_count": null,
   "metadata": {},
   "outputs": [],
   "source": []
  }
 ],
 "metadata": {
  "kernelspec": {
   "display_name": "base",
   "language": "python",
   "name": "python3"
  },
  "language_info": {
   "codemirror_mode": {
    "name": "ipython",
    "version": 3
   },
   "file_extension": ".py",
   "mimetype": "text/x-python",
   "name": "python",
   "nbconvert_exporter": "python",
   "pygments_lexer": "ipython3",
   "version": "3.6.13"
  },
  "orig_nbformat": 4,
  "vscode": {
   "interpreter": {
    "hash": "90ddd5eea33bf34e5045df3efad123ec5baf581e702e7e2d1915bea2be814a0a"
   }
  }
 },
 "nbformat": 4,
 "nbformat_minor": 2
}
