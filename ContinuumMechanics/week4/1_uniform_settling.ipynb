{
 "cells": [
  {
   "cell_type": "code",
   "execution_count": 1,
   "metadata": {},
   "outputs": [
    {
     "ename": "ModuleNotFoundError",
     "evalue": "No module named 'fenics'",
     "output_type": "error",
     "traceback": [
      "\u001b[1;31m---------------------------------------------------------------------------\u001b[0m",
      "\u001b[1;31mModuleNotFoundError\u001b[0m                       Traceback (most recent call last)",
      "\u001b[1;32m<ipython-input-1-053df16dd846>\u001b[0m in \u001b[0;36m<module>\u001b[1;34m\u001b[0m\n\u001b[0;32m      3\u001b[0m \u001b[1;32mimport\u001b[0m \u001b[0mmatplotlib\u001b[0m\u001b[1;33m.\u001b[0m\u001b[0mpyplot\u001b[0m \u001b[1;32mas\u001b[0m \u001b[0mplt\u001b[0m\u001b[1;33m\u001b[0m\u001b[1;33m\u001b[0m\u001b[0m\n\u001b[0;32m      4\u001b[0m \u001b[1;31m# from fenics import *\u001b[0m\u001b[1;33m\u001b[0m\u001b[1;33m\u001b[0m\u001b[1;33m\u001b[0m\u001b[0m\n\u001b[1;32m----> 5\u001b[1;33m \u001b[1;32mimport\u001b[0m \u001b[0mfenics\u001b[0m\u001b[1;33m\u001b[0m\u001b[1;33m\u001b[0m\u001b[0m\n\u001b[0m\u001b[0;32m      6\u001b[0m \u001b[1;33m\u001b[0m\u001b[0m\n\u001b[0;32m      7\u001b[0m \u001b[1;31m# Parameters\u001b[0m\u001b[1;33m\u001b[0m\u001b[1;33m\u001b[0m\u001b[1;33m\u001b[0m\u001b[0m\n",
      "\u001b[1;31mModuleNotFoundError\u001b[0m: No module named 'fenics'"
     ]
    }
   ],
   "source": [
    "# Solving the \"uniform settling\" problem in Lautrup p. 136-137\n",
    "import numpy as np\n",
    "import matplotlib.pyplot as plt\n",
    "# from fenics import * \n",
    "import fenics\n",
    "\n",
    "# Parameters\n",
    "h   = 1   # Height (metre)\n",
    "rho = 917  # kg/m^3\n",
    "rho_w = 1029 # kg/m^3\n",
    "g   = 9.8 # m/s^2\n",
    "\n",
    "E = 2.5e9 # Pa\n",
    "nu = 0.3\n",
    "\n",
    "lam = (E*nu)/((1-2*nu)*(1+nu)) # lambda parameter\n",
    "\n",
    "mu  = E/(2+2*nu)    # mu parameter\n",
    "\n",
    "D   = (2*mu+lam)/(rho*g)"
   ]
  },
  {
   "cell_type": "code",
   "execution_count": null,
   "metadata": {},
   "outputs": [],
   "source": [
    "# The 1D mesh\n",
    "N = 10 # Number of mesh nodes \n",
    "mesh = IntervalMesh(N, 0, h) # N_nodes on x=[0,h]\n",
    "plt.figure();\n",
    "plot(mesh); "
   ]
  },
  {
   "cell_type": "code",
   "execution_count": null,
   "metadata": {},
   "outputs": [],
   "source": [
    "# Function space\n",
    "deg = 1 # Polynomial degree \n",
    "V   = FunctionSpace(mesh, 'Lagrange', deg); # Polynomial function space of order \"deg\" (=1 is linear, ...)\n",
    "uz  = TrialFunction(V) # the unknown function\n",
    "w   = TestFunction(V)  # the weight function \n",
    "\n",
    "# The FEM problem\n",
    "a = -w.dx(0) * uz.dx(0) * dx # Syntax: d(u_z)/dx == u_z.dx(0)\n",
    "L = w * 1/D * dx \n",
    "\n",
    "# Boundary conditions\n",
    "# note that x coordiante is \"x[0]\" (first spatial dimension)\n",
    "def bottom_boundary(x, on_boundary): return on_boundary and near(x[0], 0) \n",
    "bc1 = DirichletBC(V, Constant(0), bottom_boundary) # u_z = 0 (no displacement) at z=0 (bottom boundary)\n",
    "bcs = [bc1]\n",
    "\n",
    "# Compute solution\n",
    "uz_sol = Function(V)       # Define a new function in the space \"V\" to stored the solution in.\n",
    "solve(a == L, uz_sol, bcs); # Solve the linear FEM problem (a=L, i.e. Mx=b) for the unknown expansion coef. vector (x)\n",
    "\n",
    "# Understanding uz_sol \n",
    "#print(uz_sol(0.55)) # you can get the solutoin at any point by interpolating in this way\n",
    "#print(uz_sol.vector().get_local())"
   ]
  },
  {
   "cell_type": "code",
   "execution_count": null,
   "metadata": {},
   "outputs": [],
   "source": [
    "# Plot solution\n",
    "plt.figure();\n",
    "plot(uz_sol, lw=4)\n",
    "\n",
    "# Plot analytical solution\n",
    "z = np.linspace(0, h, 10)\n",
    "uz_ana = -(h**2-(h-z)**2)/(2*D)\n",
    "plt.plot(z, uz_ana, '--', lw=4);\n",
    "plt.xlabel('$z$ (m)');\n",
    "plt.ylabel('$u_z(z)$ (m)');"
   ]
  },
  {
   "cell_type": "code",
   "execution_count": null,
   "metadata": {},
   "outputs": [],
   "source": [
    "# Calculated potential energy (see p. 136)\n",
    "sig_zz = (2*mu+lam)*uz_sol \n",
    "U_ela = assemble( 0.5*sig_zz*uz_sol * dx ) # Integral over the elastic energy density (\"loaded spring\" energy)\n",
    "dU_pot = assemble( -rho*g*uz_sol * dx )    # Integral over the change in grav. potential energy density\n",
    "print('U_ela =', U_ela)\n",
    "print('dU_pot =', dU_pot)"
   ]
  },
  {
   "cell_type": "code",
   "execution_count": null,
   "metadata": {},
   "outputs": [],
   "source": []
  }
 ],
 "metadata": {
  "kernelspec": {
   "display_name": "base",
   "language": "python",
   "name": "python3"
  },
  "language_info": {
   "codemirror_mode": {
    "name": "ipython",
    "version": 3
   },
   "file_extension": ".py",
   "mimetype": "text/x-python",
   "name": "python",
   "nbconvert_exporter": "python",
   "pygments_lexer": "ipython3",
   "version": "3.6.13"
  },
  "vscode": {
   "interpreter": {
    "hash": "90ddd5eea33bf34e5045df3efad123ec5baf581e702e7e2d1915bea2be814a0a"
   }
  }
 },
 "nbformat": 4,
 "nbformat_minor": 4
}
