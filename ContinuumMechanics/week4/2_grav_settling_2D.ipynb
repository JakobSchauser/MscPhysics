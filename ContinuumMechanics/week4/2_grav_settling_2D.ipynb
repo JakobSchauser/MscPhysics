{
 "cells": [
  {
   "cell_type": "code",
   "execution_count": 1,
   "metadata": {},
   "outputs": [
    {
     "ename": "ModuleNotFoundError",
     "evalue": "No module named 'fenics'",
     "output_type": "error",
     "traceback": [
      "\u001b[1;31m---------------------------------------------------------------------------\u001b[0m",
      "\u001b[1;31mModuleNotFoundError\u001b[0m                       Traceback (most recent call last)",
      "\u001b[1;32m<ipython-input-1-f5d3d2e7a53d>\u001b[0m in \u001b[0;36m<module>\u001b[1;34m\u001b[0m\n\u001b[0;32m      2\u001b[0m \u001b[1;32mimport\u001b[0m \u001b[0mnumpy\u001b[0m \u001b[1;32mas\u001b[0m \u001b[0mnp\u001b[0m\u001b[1;33m\u001b[0m\u001b[1;33m\u001b[0m\u001b[0m\n\u001b[0;32m      3\u001b[0m \u001b[1;32mimport\u001b[0m \u001b[0mmatplotlib\u001b[0m\u001b[1;33m.\u001b[0m\u001b[0mpyplot\u001b[0m \u001b[1;32mas\u001b[0m \u001b[0mplt\u001b[0m\u001b[1;33m\u001b[0m\u001b[1;33m\u001b[0m\u001b[0m\n\u001b[1;32m----> 4\u001b[1;33m \u001b[1;32mfrom\u001b[0m \u001b[0mfenics\u001b[0m \u001b[1;32mimport\u001b[0m \u001b[1;33m*\u001b[0m\u001b[1;33m\u001b[0m\u001b[1;33m\u001b[0m\u001b[0m\n\u001b[0m\u001b[0;32m      5\u001b[0m \u001b[1;33m\u001b[0m\u001b[0m\n\u001b[0;32m      6\u001b[0m \u001b[1;31m# Physical constants\u001b[0m\u001b[1;33m\u001b[0m\u001b[1;33m\u001b[0m\u001b[1;33m\u001b[0m\u001b[0m\n",
      "\u001b[1;31mModuleNotFoundError\u001b[0m: No module named 'fenics'"
     ]
    }
   ],
   "source": [
    "# Solving the \"gravitational settling in two dimensions\" problem in Lautrup p. 182\n",
    "import numpy as np\n",
    "import matplotlib.pyplot as plt\n",
    "from fenics import * \n",
    "\n",
    "# Physical constants \n",
    "g0     = 9.8\n",
    "rho    = 1/9.8 # such that g0*rho = 1\n",
    "E, nu  = 2, 1.0/3\n",
    "\n",
    "# ... convert to Lamé paramenters (Lautrup p. 129)\n",
    "mu  = E/(2+2*nu)\n",
    "lam = E*nu/((1+nu)*(1-2*nu))"
   ]
  },
  {
   "cell_type": "code",
   "execution_count": null,
   "metadata": {},
   "outputs": [],
   "source": [
    "# The 2D mesh\n",
    "W, H = 1, 1  # Length, Height (m)\n",
    "Wres, Hres = 10, 10 # Resolution\n",
    "mesh = RectangleMesh(Point(0,0), Point(W,H), Wres, Hres)\n",
    "\n",
    "plt.figure()\n",
    "plot(mesh, lw=0.75); "
   ]
  },
  {
   "cell_type": "code",
   "execution_count": null,
   "metadata": {},
   "outputs": [],
   "source": [
    "# Function space\n",
    "deg = 1 # Polynomial degree \n",
    "V   = VectorFunctionSpace(mesh, 'Lagrange', deg); # Polynomial function space of order \"deg\" (=1 is linear, ...)\n",
    "u   = TrialFunction(V) # the unknown function\n",
    "w   = TestFunction(V)  # the weight function \n",
    "\n",
    "# The FEM problem\n",
    "fvec = rho*Constant((0,-g0)) # Gravity force vector\n",
    "def eps(u): return sym(grad(u)) # strain tensor (symmetric gradient of displacement field, i.e. 2x2 matrix)\n",
    "def sig(u): return 2*mu*eps(u) + lam*Identity(2)*tr(eps(u))\n",
    "a = inner(sig(u), grad(w)) * dx # \"inner\" is the double dot product\n",
    "L = dot(fvec,w) * dx            # \"dot\" is the regular (single) dot product \n",
    "# Note no boundary terms! w_i=0 where u_i is specified, and we assume no shear stresses which removes the remaining contributions (see slides).\n",
    "\n",
    "# Define the 4 boundaries\n",
    "# Note \"x = x[0]\" is first spatial dimension, and \"y = x[1]\" is the second spatial dimension\n",
    "def bot_boundary(x, on_boundary): return on_boundary and near(x[1], 0) \n",
    "def top_boundary(x, on_boundary): return on_boundary and near(x[1], H) \n",
    "def lft_boundary(x, on_boundary): return on_boundary and near(x[0], 0) \n",
    "def rht_boundary(x, on_boundary): return on_boundary and near(x[0], W) \n",
    "\n",
    "# Boundary conditions \n",
    "bc  = [] # empty list of boundary conditions that we can append (add) to\n",
    "#bc += [DirichletBC(V.sub(0), Constant(0), lft_boundary)] # u_x = 0 on lft_boundary\n",
    "#bc += [DirichletBC(V.sub(1), Constant(0), bot_boundary)] # u_y = 0 on bot_boundary\n",
    "# ... or if no displacement at all on left and bottom boundaries (uncomment below, comment above)\n",
    "bc += [DirichletBC(V, Constant((0,0)), lft_boundary)] # u = 0 on lft_boundary\n",
    "bc += [DirichletBC(V, Constant((0,0)), bot_boundary)] # u = 0 on bot_boundary\n",
    "\n",
    "# Compute solution\n",
    "usol = Function(V)       # Define a new function in the space \"V\" with expansion coefs = 0.\n",
    "solve(a == L, usol, bc); # Solve the linear FEM problem (Ax=b) for the unknown expansion coef. vector (x) and stored it in \"usol\".\n"
   ]
  },
  {
   "cell_type": "code",
   "execution_count": null,
   "metadata": {},
   "outputs": [],
   "source": [
    "plt.figure()\n",
    "h = plot(usol, mode='displacement', title='Magnitude of displacement vector (color)'); # Plot solution\n",
    "plot(mesh); \n",
    "plt.colorbar(h);\n",
    "\n",
    "# Calculate pressure field\n",
    "plt.figure()\n",
    "p = -tr(sig(usol))/2 # mean normal stress\n",
    "h = plot(p, title='Pressure');\n",
    "plt.colorbar(h);"
   ]
  },
  {
   "cell_type": "code",
   "execution_count": null,
   "metadata": {},
   "outputs": [],
   "source": [
    "# Potential energy contributions (elastic and gravitational) (see p. 136)\n",
    "U_ela = assemble( 0.5*inner(sig(usol),eps(usol)) * dx ) # Integral over the elastic energy density\n",
    "dU_pot = assemble( -dot(fvec,usol) * dx )               # Integral over the change in grav. potential energy density\n",
    "print('U_ela =', U_ela)\n",
    "print('dU_pot =', dU_pot)"
   ]
  },
  {
   "cell_type": "code",
   "execution_count": null,
   "metadata": {},
   "outputs": [],
   "source": []
  }
 ],
 "metadata": {
  "kernelspec": {
   "display_name": "base",
   "language": "python",
   "name": "python3"
  },
  "language_info": {
   "codemirror_mode": {
    "name": "ipython",
    "version": 3
   },
   "file_extension": ".py",
   "mimetype": "text/x-python",
   "name": "python",
   "nbconvert_exporter": "python",
   "pygments_lexer": "ipython3",
   "version": "3.6.13"
  },
  "vscode": {
   "interpreter": {
    "hash": "90ddd5eea33bf34e5045df3efad123ec5baf581e702e7e2d1915bea2be814a0a"
   }
  }
 },
 "nbformat": 4,
 "nbformat_minor": 4
}
