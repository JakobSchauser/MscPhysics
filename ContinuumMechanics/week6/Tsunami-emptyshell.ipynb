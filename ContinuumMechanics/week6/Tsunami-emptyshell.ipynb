{
 "cells": [
  {
   "cell_type": "markdown",
   "metadata": {},
   "source": [
    "# Tsunami exercise\n",
    "First we import what we need. I've also included the sleep up"
   ]
  },
  {
   "cell_type": "code",
   "execution_count": 30,
   "metadata": {},
   "outputs": [],
   "source": [
    "%matplotlib inline\n",
    "import numpy as np\n",
    "import matplotlib.pyplot as plt\n",
    "from IPython import display \n",
    "from time import sleep"
   ]
  },
  {
   "cell_type": "code",
   "execution_count": 31,
   "metadata": {},
   "outputs": [],
   "source": [
    "N = 200 #number of points in model domain\n",
    "W = 100000 #total distance in metres\n",
    "g = 9.82\n",
    "x = np.linspace(0,W,N) #x-location of the grid nodes\n",
    "dx = x[1]-x[0]"
   ]
  },
  {
   "cell_type": "markdown",
   "metadata": {},
   "source": [
    "### Set up geometry and initial sea level pertubation... \n",
    "modify this to have more sensible sea bed, and initial sea surface pertubation."
   ]
  },
  {
   "cell_type": "markdown",
   "metadata": {},
   "source": [
    "The following equations are what defines the dynamics:\n",
    "\\begin{gathered}\n",
    "\\frac{\\partial \\eta}{\\partial t}=-\\nabla_x(u \\cdot h) \\\\\n",
    "\\frac{\\partial u}{\\partial t}=-g \\nabla_x \\eta\n",
    "\\end{gathered}\n",
    "\n",
    "They are implemented as follows:"
   ]
  },
  {
   "cell_type": "code",
   "execution_count": 32,
   "metadata": {},
   "outputs": [],
   "source": [
    "def deta(_u, _h):\n",
    "    h_half = (_h[1:] + _h[:-1])/2\n",
    "\n",
    "    Q = _u*h_half\n",
    "    \n",
    "    return -np.diff(Q, prepend = 0, append = 0)/dx\n",
    "\n",
    "\n",
    "def du(_eta):\n",
    "    return -g*np.diff(_eta.copy())/dx\n",
    "\n",
    "\n",
    "\n"
   ]
  },
  {
   "cell_type": "code",
   "execution_count": 33,
   "metadata": {},
   "outputs": [
    {
     "data": {
      "text/plain": [
       "1.9896472612225637"
      ]
     },
     "execution_count": 33,
     "metadata": {},
     "output_type": "execute_result"
    }
   ],
   "source": [
    "eta = np.exp(-((x-W/4)/10000)**2)/(np.sqrt(2*np.pi/2)*10)\n",
    "sum(eta)"
   ]
  },
  {
   "cell_type": "markdown",
   "metadata": {},
   "source": [
    "# Run a number of timesteps of the model. \n",
    "... and visualize the results while running the model.\n",
    "\n",
    "Here you need to fill in the missing lines of code. "
   ]
  },
  {
   "cell_type": "code",
   "execution_count": 34,
   "metadata": {},
   "outputs": [
    {
     "data": {
      "text/plain": [
       "1005025.1256281408"
      ]
     },
     "execution_count": 34,
     "metadata": {},
     "output_type": "execute_result"
    }
   ],
   "source": [
    "2000*dx"
   ]
  },
  {
   "cell_type": "code",
   "execution_count": 38,
   "metadata": {},
   "outputs": [
    {
     "data": {
      "image/png": "[encoded data removed]",
      "text/plain": [
       "<Figure size 432x288 with 1 Axes>"
      ]
     },
     "metadata": {
      "needs_background": "light"
     },
     "output_type": "display_data"
    }
   ],
   "source": [
    "u = np.zeros((len(x)-1,))\n",
    "\n",
    "# D = 1000*(np.cos(x*np.pi/W)+1) + 10\n",
    "\n",
    "D = 2000\n",
    "\n",
    "# make eta gauss\n",
    "eta = np.exp(-((x-W/4)/5000)**2)#/(np.sqrt(2*np.pi/2)*10)\n",
    "\n",
    "\n",
    "eta = np.zeros((len(x),))\n",
    "\n",
    "eta[5:30] = 1\n",
    "\n",
    "vertical_exageration = 200 \n",
    "fig = plt.figure()\n",
    "ylim = [-np.max(D)*1.05, np.max(np.abs(eta))*2*vertical_exageration]\n",
    "\n",
    "last_peak = 0\n",
    "\n",
    "front = 0\n",
    "back = 0\n",
    "\n",
    "t = 0\n",
    "\n",
    "\n",
    "widths = []\n",
    "\n",
    "crest_speeds = []\n",
    "\n",
    "for i in range(400):\n",
    "    h = eta+D\n",
    "    \n",
    "\n",
    "    dt = dx/np.sqrt(g*h.max()) \n",
    "\n",
    "    t += dt \n",
    "   \n",
    "    u += dt*du(eta)\n",
    "\n",
    "    eta += dt*deta(u, h)\n",
    "\n",
    "    try:\n",
    "        front_wave = (np.where(np.diff(np.sign(np.diff(eta))) < 0)[0] + 1)[-1]\n",
    "    except:\n",
    "        pass\n",
    "    try:\n",
    "        crest_speeds.append(np.mean([u[front_wave:front_wave+2]]))\n",
    "    except:\n",
    "        pass\n",
    "\n",
    "    # find width of wave\n",
    "    for ii in range(front_wave +1, len(eta)-1):\n",
    "        if eta[ii] <= eta[ii + 1]+0.1:\n",
    "            front = ii\n",
    "            break\n",
    "    for ii in range(front_wave -1, 0, -1):\n",
    "        if eta[ii]+1 < eta[ii - 1]:\n",
    "            back = ii\n",
    "            break\n",
    "    # front = front_wave\n",
    "    # back = (np.where(np.diff(np.sign(np.diff(eta))) < 0)[0] + 1)[-3]\n",
    "\n",
    "    plt.fill_between(x,eta*vertical_exageration,-D,color='#CCCCFF') #vertical exageration: x100.\n",
    "    plt.fill_between(x,ylim[0],-D,color='#998877')\n",
    "\n",
    "    plt.plot(x[front_wave], (eta*vertical_exageration)[front_wave], 'o', color='red', markersize=5)\n",
    "    plt.plot(x[front], (eta*vertical_exageration)[front], 'o', color='blue', markersize=5)\n",
    "    plt.plot(x[back], (eta*vertical_exageration)[back], 'o', color='green', markersize=5)\n",
    "    \n",
    "    width = x[front] - x[back]\n",
    "    widths.append(width)\n",
    "    plt.title(f\"i = {i} |t = {t:0.0f} s | v = {140:.0f}\") #check if mass conserved.\n",
    "    last_peak = x[front_wave]\n",
    "    plt.axis('tight')\n",
    "    plt.ylim(ylim)\n",
    "\n",
    "    #old-school way to make an animation that is updating as it is being calculated\n",
    "    plt.show()\n",
    "\n",
    "\n",
    "    # plot fourier transform of eta\n",
    "    \n",
    "    sleep(1/100)\n",
    "    display.clear_output(wait=True)\n",
    "\n",
    "    # print(front_wave, front, len(eta) - front_wave - 1)\n"
   ]
  },
  {
   "attachments": {
    "image.png": {
     "image/png": "[encoded data removed]"
    }
   },
   "cell_type": "markdown",
   "metadata": {},
   "source": [
    "![image.png](attachment:image.png)"
   ]
  },
  {
   "cell_type": "code",
   "execution_count": 39,
   "metadata": {},
   "outputs": [
    {
     "data": {
      "text/plain": [
       "Text(0.5, 0, 'Timesteps')"
      ]
     },
     "execution_count": 39,
     "metadata": {},
     "output_type": "execute_result"
    },
    {
     "data": {
      "image/png": "[encoded data removed]",
      "text/plain": [
       "<Figure size 432x288 with 1 Axes>"
      ]
     },
     "metadata": {
      "needs_background": "light"
     },
     "output_type": "display_data"
    }
   ],
   "source": [
    "plt.plot(crest_speeds)\n",
    "plt.ylabel(\"Average Crest Speed (m/s)\")\n",
    "plt.xlabel(\"Timesteps\")"
   ]
  },
  {
   "cell_type": "code",
   "execution_count": 40,
   "metadata": {},
   "outputs": [
    {
     "data": {
      "text/plain": [
       "Text(0.5, 0, 'Timesteps')"
      ]
     },
     "execution_count": 40,
     "metadata": {},
     "output_type": "execute_result"
    },
    {
     "data": {
      "image/png": "[encoded data removed]",
      "text/plain": [
       "<Figure size 432x288 with 1 Axes>"
      ]
     },
     "metadata": {
      "needs_background": "light"
     },
     "output_type": "display_data"
    }
   ],
   "source": [
    "pw = np.array(widths[40:])\n",
    "plotx = np.linspace(0, len(pw), len(pw))\n",
    "plt.plot(plotx[pw<18000],pw[pw<18000],'.')\n",
    "plt.ylabel(\"Estimated Wavvelength (m)\")\n",
    "plt.xlabel(\"Timesteps\")\n",
    "# plt.plot(plotx,(np.cos(plotx/len(pw)*np.pi) +1)*max(pw)/2)"
   ]
  }
 ],
 "metadata": {
  "kernelspec": {
   "display_name": "base",
   "language": "python",
   "name": "python3"
  },
  "language_info": {
   "codemirror_mode": {
    "name": "ipython",
    "version": 3
   },
   "file_extension": ".py",
   "mimetype": "text/x-python",
   "name": "python",
   "nbconvert_exporter": "python",
   "pygments_lexer": "ipython3",
   "version": "3.6.13"
  },
  "vscode": {
   "interpreter": {
    "hash": "a7ec67b8da850908bf022555edd6af3178010e99e99669fcaf3330f57f4b214a"
   }
  }
 },
 "nbformat": 4,
 "nbformat_minor": 4
}
