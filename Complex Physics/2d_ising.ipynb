{
 "cells": [
  {
   "cell_type": "code",
   "execution_count": 42,
   "metadata": {},
   "outputs": [
    {
     "ename": "ImportError",
     "evalue": "Numba needs NumPy 1.24 or less",
     "output_type": "error",
     "traceback": [
      "\u001b[1;31m---------------------------------------------------------------------------\u001b[0m",
      "\u001b[1;31mImportError\u001b[0m                               Traceback (most recent call last)",
      "Cell \u001b[1;32mIn[42], line 6\u001b[0m\n\u001b[0;32m      4\u001b[0m \u001b[39mfrom\u001b[39;00m \u001b[39mfunctools\u001b[39;00m \u001b[39mimport\u001b[39;00m lru_cache\n\u001b[0;32m      5\u001b[0m \u001b[39mfrom\u001b[39;00m \u001b[39mtime\u001b[39;00m \u001b[39mimport\u001b[39;00m time\n\u001b[1;32m----> 6\u001b[0m \u001b[39mfrom\u001b[39;00m \u001b[39mnumba\u001b[39;00m \u001b[39mimport\u001b[39;00m jit, njit\n",
      "File \u001b[1;32mc:\\Users\\jakob\\miniconda3\\envs\\experimental\\Lib\\site-packages\\numba\\__init__.py:55\u001b[0m\n\u001b[0;32m     50\u001b[0m             msg \u001b[39m=\u001b[39m (\u001b[39m\"\u001b[39m\u001b[39mNumba requires SciPy version 1.0 or greater. Got SciPy \u001b[39m\u001b[39m\"\u001b[39m\n\u001b[0;32m     51\u001b[0m                    \u001b[39mf\u001b[39m\u001b[39m\"\u001b[39m\u001b[39m{\u001b[39;00mscipy\u001b[39m.\u001b[39m__version__\u001b[39m}\u001b[39;00m\u001b[39m.\u001b[39m\u001b[39m\"\u001b[39m)\n\u001b[0;32m     52\u001b[0m             \u001b[39mraise\u001b[39;00m \u001b[39mImportError\u001b[39;00m(msg)\n\u001b[1;32m---> 55\u001b[0m _ensure_critical_deps()\n\u001b[0;32m     56\u001b[0m \u001b[39m# END DO NOT MOVE\u001b[39;00m\n\u001b[0;32m     57\u001b[0m \u001b[39m# ---------------------- WARNING WARNING WARNING ----------------------------\u001b[39;00m\n\u001b[0;32m     60\u001b[0m \u001b[39mfrom\u001b[39;00m \u001b[39m.\u001b[39;00m\u001b[39m_version\u001b[39;00m \u001b[39mimport\u001b[39;00m get_versions\n",
      "File \u001b[1;32mc:\\Users\\jakob\\miniconda3\\envs\\experimental\\Lib\\site-packages\\numba\\__init__.py:42\u001b[0m, in \u001b[0;36m_ensure_critical_deps\u001b[1;34m()\u001b[0m\n\u001b[0;32m     40\u001b[0m     \u001b[39mraise\u001b[39;00m \u001b[39mImportError\u001b[39;00m(msg)\n\u001b[0;32m     41\u001b[0m \u001b[39melif\u001b[39;00m numpy_version \u001b[39m>\u001b[39m (\u001b[39m1\u001b[39m, \u001b[39m24\u001b[39m):\n\u001b[1;32m---> 42\u001b[0m     \u001b[39mraise\u001b[39;00m \u001b[39mImportError\u001b[39;00m(\u001b[39m\"\u001b[39m\u001b[39mNumba needs NumPy 1.24 or less\u001b[39m\u001b[39m\"\u001b[39m)\n\u001b[0;32m     43\u001b[0m \u001b[39mtry\u001b[39;00m:\n\u001b[0;32m     44\u001b[0m     \u001b[39mimport\u001b[39;00m \u001b[39mscipy\u001b[39;00m\n",
      "\u001b[1;31mImportError\u001b[0m: Numba needs NumPy 1.24 or less"
     ]
    }
   ],
   "source": [
    "import numpy as np\n",
    "import matplotlib.pyplot as plt\n",
    "# import caching decorator \n",
    "from functools import lru_cache\n",
    "from time import time\n",
    "from numba import jit, njit"
   ]
  },
  {
   "cell_type": "code",
   "execution_count": 37,
   "metadata": {},
   "outputs": [],
   "source": [
    "\n",
    "size = 20\n",
    "\n",
    "\n",
    "J = 1\n",
    "beta = 1\n",
    "kBT = 1/beta\n",
    "\n",
    "\n",
    "n_0 = 100\n",
    "\n",
    "def E_full(lattice):\n",
    "    return -J * np.sum(lattice * (np.roll(lattice, 1, axis=0) + np.roll(lattice, 1, axis=1)))\n",
    "\n",
    "def magnetization(lattice):\n",
    "    return np.sum(lattice)\n",
    "\n",
    "def E(l1, lrest):\n",
    "    return -J * l1 * (lrest)\n",
    "\n",
    "def flip(lattice, x, y):\n",
    "    lattice[x, y] *= -1\n",
    "    return lattice\n",
    "\n",
    "@lru_cache(maxsize= 20, typed=False)\n",
    "def x_fun(l1,lrest):\n",
    "    return np.exp(-2*E(l1,lrest)*beta)\n",
    "\n",
    "def flip_maybe(lattice):\n",
    "    x = np.random.randint(0, size)\n",
    "    y = np.random.randint(0, size)\n",
    "    \n",
    "    indexs = ([x, x, x, (x-1)%size, (x+1)%size], [y, (y-1)%size, (y+1)%size, y, y])\n",
    "\n",
    "    li = lattice[indexs]\n",
    "    xf = x_fun(li[0], li[1:].sum())\n",
    "\n",
    "    if np.random.random() < xf: # maybe .copy() or .ravel()\n",
    "        return flip(lattice, x, y)\n",
    "\n",
    "    return lattice\n",
    "    "
   ]
  },
  {
   "cell_type": "code",
   "execution_count": 38,
   "metadata": {},
   "outputs": [
    {
     "name": "stdout",
     "output_type": "stream",
     "text": [
      "5.854743719100952\n"
     ]
    }
   ],
   "source": [
    "lattice = np.random.choice([-1, 1], size=(size, size))\n",
    "\n",
    "n_max = 100000\n",
    "\n",
    "\n",
    "\n",
    "T = time()\n",
    "for i in range(n_max):\n",
    "    lattice = flip_maybe(lattice)\n",
    "    E_f = E_full(lattice)\n",
    "    mag = magnetization(lattice)\n",
    "    \n",
    "    \n",
    "print(time() - T)\n"
   ]
  },
  {
   "cell_type": "code",
   "execution_count": 79,
   "metadata": {},
   "outputs": [
    {
     "name": "stdout",
     "output_type": "stream",
     "text": [
      "5.931836366653442\n",
      "6.673806667327881\n"
     ]
    }
   ],
   "source": [
    "x = 3\n",
    "y = 3\n",
    "\n",
    "\n",
    "t = time()\n",
    "\n",
    "for i in range(1000000):\n",
    "    # indexs =[[x, x, x, (x-1)%size, (x+1)%size], [y, (y-1)%size, (y+1)%size, y, y]]\n",
    "    indexs =([x, x, x, (x-1)%size, (x+1)%size], [y, (y-1)%size, (y+1)%size, y, y])\n",
    "\n",
    "\n",
    "    np.arange(0,25,1).reshape((5,5))[indexs]\n",
    "\n",
    "print(time() - t)\n",
    "\n",
    "\n",
    "t = time()\n",
    "\n",
    "for i in range(1000000):\n",
    "    # indexs =[[x, x, x, (x-1)%size, (x+1)%size], [y, (y-1)%size, (y+1)%size, y, y]]\n",
    "    indexs =([x, x, x, (x-1)%size, (x+1)%size], [y, (y-1)%size, (y+1)%size, y, y])\n",
    "\n",
    "    for i in range(5):\n",
    "        a = np.arange(0,25,1).reshape((5,5))[indexs[0][i], indexs[1][i]]\n",
    "\n",
    "print(time() - t)"
   ]
  },
  {
   "cell_type": "code",
   "execution_count": null,
   "metadata": {},
   "outputs": [],
   "source": [
    "tim"
   ]
  }
 ],
 "metadata": {
  "kernelspec": {
   "display_name": "base",
   "language": "python",
   "name": "python3"
  },
  "language_info": {
   "codemirror_mode": {
    "name": "ipython",
    "version": 3
   },
   "file_extension": ".py",
   "mimetype": "text/x-python",
   "name": "python",
   "nbconvert_exporter": "python",
   "pygments_lexer": "ipython3",
   "version": "3.11.4"
  },
  "orig_nbformat": 4
 },
 "nbformat": 4,
 "nbformat_minor": 2
}
