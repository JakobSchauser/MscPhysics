{
 "cells": [
  {
   "cell_type": "code",
   "execution_count": 2,
   "metadata": {},
   "outputs": [],
   "source": [
    "import numpy as np\n",
    "from numba import njit, prange\n",
    "import threading\n"
   ]
  },
  {
   "cell_type": "code",
   "execution_count": 23,
   "metadata": {},
   "outputs": [],
   "source": [
    "%load_ext line_profiler"
   ]
  },
  {
   "cell_type": "code",
   "execution_count": 7,
   "metadata": {},
   "outputs": [],
   "source": [
    "N = 4\n",
    "\n",
    "@njit\n",
    "def make_grid(n):\n",
    "    grid = np.zeros((n, n), dtype=np.int8)\n",
    "    return grid\n",
    "\n",
    "@njit\n",
    "def add_sand(grid, x, y):\n",
    "    grid[x, y] += 1\n",
    "\n",
    "@njit\n",
    "def add_sand_random(grid):\n",
    "    n = grid.shape[0]\n",
    "    x : int = np.random.randint(0, n)\n",
    "    y : int = np.random.randint(0, n)\n",
    "    add_sand(grid, x, y)\n",
    "\n",
    "\n",
    "@njit(parallel=False)\n",
    "def propagate(grid) -> bool:\n",
    "    size = grid.shape[0]\n",
    "    ng = np.zeros_like(grid, dtype=np.int8)\n",
    "\n",
    "\n",
    "    for x in prange(size):\n",
    "        for y in range(size):\n",
    "            if not grid[x, y] >= N:\n",
    "                continue\n",
    "                \n",
    "            ng[x, y] -= 4\n",
    "            if (x - 1) >= 0:\n",
    "                ng[x - 1, y] += 1\n",
    "            elif (x + 1) < size:\n",
    "                ng[x + 1, y] += 1\n",
    "            if (y - 1) >= 0:\n",
    "                ng[x, y - 1] += 1\n",
    "            elif (y + 1) < size:\n",
    "                ng[x, y + 1] += 1\n",
    "    \n",
    "\n",
    "    grid += ng\n",
    "    return np.any(ng)\n",
    "\n",
    "@njit\n",
    "def topple(grid):\n",
    "    while True:\n",
    "        if not propagate(grid):\n",
    "            break\n",
    "\n",
    "@njit\n",
    "def step(grid):\n",
    "    add_sand_random(grid)\n",
    "    topple(grid)\n",
    "    \n",
    "\n",
    "@njit\n",
    "def run(size, n_steps):\n",
    "    grid = make_grid(size)\n",
    "    for i in range(n_steps):\n",
    "        # print(i)\n",
    "        step(grid)\n",
    "    return grid\n",
    "\n"
   ]
  },
  {
   "cell_type": "code",
   "execution_count": 9,
   "metadata": {},
   "outputs": [
    {
     "ename": "KeyboardInterrupt",
     "evalue": "",
     "output_type": "error",
     "traceback": [
      "\u001b[1;31m---------------------------------------------------------------------------\u001b[0m",
      "\u001b[1;31mKeyboardInterrupt\u001b[0m                         Traceback (most recent call last)",
      "\u001b[1;32mc:\\Users\\jakob\\Documents\\MscPhysics\\Complex Physics\\sandpile_model.ipynb Cell 4\u001b[0m line \u001b[0;36m1\n\u001b[1;32m----> <a href='vscode-notebook-cell:/c%3A/Users/jakob/Documents/MscPhysics/Complex%20Physics/sandpile_model.ipynb#W3sZmlsZQ%3D%3D?line=0'>1</a>\u001b[0m g \u001b[39m=\u001b[39m run(\u001b[39m100\u001b[39m, \u001b[39m100_000\u001b[39m)\n",
      "File \u001b[1;32mc:\\Users\\jakob\\miniconda3\\envs\\experimental\\Lib\\site-packages\\numba\\core\\serialize.py:30\u001b[0m, in \u001b[0;36m_numba_unpickle\u001b[1;34m(address, bytedata, hashed)\u001b[0m\n\u001b[0;32m     26\u001b[0m \u001b[39m# Keep unpickled object via `numba_unpickle` alive.\u001b[39;00m\n\u001b[0;32m     27\u001b[0m _unpickled_memo \u001b[39m=\u001b[39m {}\n\u001b[1;32m---> 30\u001b[0m \u001b[39mdef\u001b[39;00m \u001b[39m_numba_unpickle\u001b[39m(address, bytedata, hashed):\n\u001b[0;32m     31\u001b[0m \u001b[39m    \u001b[39m\u001b[39m\"\"\"Used by `numba_unpickle` from _helperlib.c\u001b[39;00m\n\u001b[0;32m     32\u001b[0m \n\u001b[0;32m     33\u001b[0m \u001b[39m    Parameters\u001b[39;00m\n\u001b[1;32m   (...)\u001b[0m\n\u001b[0;32m     42\u001b[0m \u001b[39m        unpickled object\u001b[39;00m\n\u001b[0;32m     43\u001b[0m \u001b[39m    \"\"\"\u001b[39;00m\n\u001b[0;32m     44\u001b[0m     key \u001b[39m=\u001b[39m (address, hashed)\n",
      "\u001b[1;31mKeyboardInterrupt\u001b[0m: "
     ]
    }
   ],
   "source": [
    "g = run(100, 100_000)\n",
    "# %lprun -f propagate run(100, 100_0)\n",
    "\n",
    "# from time import time\n",
    "# start = time()\n",
    "# run(100, 100_000)\n",
    "# end = time()\n",
    "\n",
    "# print(end - start)"
   ]
  },
  {
   "cell_type": "code",
   "execution_count": null,
   "metadata": {},
   "outputs": [],
   "source": [
    "%lprun -f propagate run(100, 100_000)\n"
   ]
  },
  {
   "cell_type": "markdown",
   "metadata": {},
   "source": [
    "![Alt text](image.png)"
   ]
  },
  {
   "cell_type": "code",
   "execution_count": 31,
   "metadata": {},
   "outputs": [
    {
     "data": {
      "text/plain": [
       "True"
      ]
     },
     "execution_count": 31,
     "metadata": {},
     "output_type": "execute_result"
    }
   ],
   "source": [
    "not 0"
   ]
  }
 ],
 "metadata": {
  "kernelspec": {
   "display_name": "base",
   "language": "python",
   "name": "python3"
  },
  "language_info": {
   "codemirror_mode": {
    "name": "ipython",
    "version": 3
   },
   "file_extension": ".py",
   "mimetype": "text/x-python",
   "name": "python",
   "nbconvert_exporter": "python",
   "pygments_lexer": "ipython3",
   "version": "3.11.5"
  },
  "orig_nbformat": 4
 },
 "nbformat": 4,
 "nbformat_minor": 2
}
