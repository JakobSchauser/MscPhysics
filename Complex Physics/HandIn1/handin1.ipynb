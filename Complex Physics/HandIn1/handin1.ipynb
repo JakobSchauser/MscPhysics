{
 "cells": [
  {
   "cell_type": "code",
   "execution_count": 152,
   "metadata": {},
   "outputs": [],
   "source": [
    "import numpy as np\n",
    "import matplotlib.pyplot as plt\n"
   ]
  },
  {
   "cell_type": "code",
   "execution_count": 237,
   "metadata": {},
   "outputs": [
    {
     "name": "stderr",
     "output_type": "stream",
     "text": [
      "C:\\Users\\jakob\\AppData\\Local\\Temp\\ipykernel_14672\\3585086600.py:19: DeprecationWarning: elementwise comparison failed; this will raise an error in the future.\n",
      "  all_except_self_and_nbs = all_except_self_and_nbs[all_except_self_and_nbs not in b_neighbours[i]]\n"
     ]
    },
    {
     "data": {
      "text/plain": [
       "(array([[1, 5],\n",
       "        [2, 0],\n",
       "        [3, 1],\n",
       "        [4, 2],\n",
       "        [5, 3],\n",
       "        [0, 4]]),\n",
       " array([[1, 5, 3, 1],\n",
       "        [2, 0, 0, 4],\n",
       "        [3, 1, 4, 5],\n",
       "        [4, 2, 5, 0],\n",
       "        [5, 3, 1, 2],\n",
       "        [0, 4, 2, 3]]))"
      ]
     },
     "execution_count": 237,
     "metadata": {},
     "output_type": "execute_result"
    }
   ],
   "source": [
    "\n",
    "def find_neigbours(size):\n",
    "    assert size%2 == 0, \"size must be even\"\n",
    "    # Only nearest neighbours\n",
    "    a_neighbours = np.zeros((size,2),dtype=int)\n",
    "    for i in range(size):\n",
    "        a_neighbours[i,0] = (i+1)%size\n",
    "        a_neighbours[i,1] = (i-1)%size\n",
    "\n",
    "    is_done = False\n",
    "    while not is_done:\n",
    "        is_done = True\n",
    "        b_neighbours = -np.ones((size,4),dtype=int)\n",
    "        b_neighbours[:,0:2] = a_neighbours.copy()\n",
    "\n",
    "        possible_nbs = np.arange(size)\n",
    "        np.random.shuffle(possible_nbs)\n",
    "        for i in range(size):\n",
    "            all_except_self_and_nbs = possible_nbs[possible_nbs != i]\n",
    "            all_except_self_and_nbs = all_except_self_and_nbs[all_except_self_and_nbs not in b_neighbours[i]]\n",
    "            if len(all_except_self_and_nbs) == 0 or len(all_except_self_and_nbs[0]) == 0:\n",
    "                is_done = False\n",
    "                break\n",
    "            nb = np.random.choice(all_except_self_and_nbs[0])\n",
    "            b_neighbours[i,2] = nb\n",
    "            b_neighbours[nb,3] = i\n",
    "\n",
    "            possible_nbs = possible_nbs[possible_nbs != nb]\n",
    "\n",
    "\n",
    "\n",
    "    return a_neighbours, b_neighbours\n"
   ]
  },
  {
   "cell_type": "code",
   "execution_count": 203,
   "metadata": {},
   "outputs": [],
   "source": [
    "J = 1.0\n",
    "\n",
    "\n",
    "def order_param(lattice):\n",
    "    return np.abs(np.sum(lattice)/len(lattice))\n",
    "\n",
    "def E_full(lattice):\n",
    "    return -J * np.sum(lattice * np.roll(lattice, 1, axis=0))\n",
    "\n",
    "def E(site, lrest):\n",
    "    return -J * site * lrest.sum()\n",
    "\n",
    "def x_fun(site, lrest, T):\n",
    "    return np.exp(2*E(site,lrest)*(1/T))\n",
    "\n",
    "def flip(lattice, x):\n",
    "    lattice[x] *= -1\n",
    "\n",
    "def flip_maybe(lattice, neighbours, T):\n",
    "    x = np.random.randint(0, neighbours.shape[0])\n",
    "    \n",
    "    indexs = neighbours[x]\n",
    "\n",
    "    li = lattice[indexs]\n",
    "\n",
    "    xf = x_fun(lattice[x], li, T)\n",
    "\n",
    "    if np.random.random() < xf: # maybe .copy() or .ravel()\n",
    "        flip(lattice, x)\n",
    "\n",
    "def Jspace(n):\n",
    "    return np.concatenate((np.linspace(0.1,1,n-1, endpoint=False),np.linspace(1,10,n, endpoint=True)))\n",
    "\n",
    "def run(neighbours, T, n_runs):\n",
    "    lattice = np.random.choice([-1,1], size = neighbours.shape[0])\n",
    "    for i in range(n_runs):\n",
    "        flip_maybe(lattice, neighbours, T)\n",
    "    return lattice\n",
    "\n",
    "\n",
    "def get_order_param(neighbours, T, n_runs, transient):\n",
    "    lattice = np.random.choice([-1,1], size = neighbours.shape[0])\n",
    "\n",
    "    order_params = np.zeros(n_runs-transient)\n",
    "    for i in range(n_runs):\n",
    "        flip_maybe(lattice, neighbours, T)\n",
    "        if i > transient:\n",
    "            order_params[i-transient] = order_param(lattice)\n",
    "            \n",
    "    return np.cumsum(order_params)/(n_runs-transient)\n",
    "\n",
    "def sweep_T(size, n_runs):\n",
    "    a_neighbours, b_neighbours = find_neigbours(size)\n",
    "    order_params = np.zeros((2,2*10-1))\n",
    "    for ii, nei in enumerate([a_neighbours, b_neighbours]):\n",
    "        print(ii)\n",
    "        for i, T in enumerate(Jspace(10)):\n",
    "            order_params[ii,i] = get_order_param(b_neighbours, T, n_runs+1000, transient=1000)[-1]\n",
    "            # print(f\"T: {T:.1f} <s>: {order_param(lattice):.3f}\")\n",
    "            # plt.imshow(np.repeat(lattice, 50,axis=0).reshape(size,50).T,cmap='gray',interpolation='none')\n",
    "            # plt.show()\n",
    "    \n",
    "    return order_params\n",
    "\n",
    "\n",
    "\n",
    "# sizes = [100, 500, 1000, 5000, 10000, 50000]\n",
    "# for size in sizes:\n",
    "#     n_runs = 10000\n",
    "#     print(f\"size: {size}\")\n",
    "#     binarysearch_4_T(size, n_runs)"
   ]
  },
  {
   "cell_type": "markdown",
   "metadata": {},
   "source": [
    "plot the order parameter ⟨si⟩ vs. T"
   ]
  },
  {
   "cell_type": "code",
   "execution_count": 204,
   "metadata": {},
   "outputs": [
    {
     "name": "stdout",
     "output_type": "stream",
     "text": [
      "0\n",
      "1\n"
     ]
    }
   ],
   "source": [
    "order_params = sweep_T(100, 100000)"
   ]
  },
  {
   "cell_type": "code",
   "execution_count": 169,
   "metadata": {},
   "outputs": [],
   "source": [
    "order_params_a = order_params[0]\n",
    "order_params_b = order_params[1]\n"
   ]
  },
  {
   "cell_type": "code",
   "execution_count": 171,
   "metadata": {},
   "outputs": [
    {
     "data": {
      "text/plain": [
       "array([-1.  ,  1.  , -1.  ,  0.22, -0.86,  0.16,  0.2 ,  0.46,  0.38,\n",
       "       -0.28, -0.04,  0.04,  0.  ,  0.12, -0.12, -0.18,  0.22, -0.1 ,\n",
       "        0.08])"
      ]
     },
     "execution_count": 171,
     "metadata": {},
     "output_type": "execute_result"
    }
   ],
   "source": [
    "order_params_a"
   ]
  },
  {
   "cell_type": "code",
   "execution_count": 174,
   "metadata": {},
   "outputs": [
    {
     "data": {
      "text/plain": [
       "[<matplotlib.lines.Line2D at 0x13a6986c050>]"
      ]
     },
     "execution_count": 174,
     "metadata": {},
     "output_type": "execute_result"
    },
    {
     "data": {
      "image/png": "[encoded data removed]",
      "text/plain": [
       "<Figure size 640x480 with 1 Axes>"
      ]
     },
     "metadata": {},
     "output_type": "display_data"
    }
   ],
   "source": [
    "plt.plot(Jspace(10), np.abs(order_params_a), label=\"a\")\n",
    "plt.plot(Jspace(10), np.abs(order_params_b), label=\"b\")"
   ]
  },
  {
   "cell_type": "code",
   "execution_count": 194,
   "metadata": {},
   "outputs": [],
   "source": [
    "def binarysearch_4_T(size, n_runs):\n",
    "    max_t = 5\n",
    "    min_t = 0.1\n",
    "    T = (max_t+min_t)/2\n",
    "    for i in range(20):\n",
    "        T = (max_t+min_t)/2\n",
    "        a_neighbours, b_neighbours = find_neigbours(size)\n",
    "        lattice = run(b_neighbours, T, n_runs)\n",
    "\n",
    "        op = np.abs(order_param(lattice))\n",
    "        if op < 0.99:\n",
    "            max_t = T+0.1\n",
    "        else:\n",
    "            min_t = T-0.1\n",
    "\n",
    "\n",
    "    print(f\"Found T: {T:.3f} <s>: {op:.3f}\")\n",
    "    less, more = T-0.1, T+0.1\n",
    "    # more_lattice = run(b_neighbours, more, n_runs)\n",
    "    # less_lattice = run(b_neighbours, less, n_runs)\n",
    "    # more_op = np.abs(order_param(more_lattice))\n",
    "    # less_op = np.abs(order_param(less_lattice))\n",
    "    # print(\"T-0.1 <s>: \", less_op)\n",
    "    # print(\"T+0.1 <s>: \", more_op)\n",
    "    # print(\"\")\n",
    "    return T, op"
   ]
  },
  {
   "cell_type": "code",
   "execution_count": 197,
   "metadata": {},
   "outputs": [
    {
     "name": "stdout",
     "output_type": "stream",
     "text": [
      "Found T: 1.674 <s>: 0.980\n",
      "Found T: 1.299 <s>: 1.000\n",
      "Found T: 1.715 <s>: 1.000\n",
      "Found T: 1.966 <s>: 0.940\n",
      "Found T: 1.515 <s>: 0.940\n",
      "Found T: 1.246 <s>: 1.000\n",
      "Found T: 1.274 <s>: 0.980\n"
     ]
    }
   ],
   "source": [
    "Ts = []\n",
    "for N in (50, 100, 500, 1000, 5000, 10000, 50000):\n",
    "    T, op = binarysearch_4_T(100, 100000)\n",
    "    Ts.append(T)"
   ]
  },
  {
   "cell_type": "code",
   "execution_count": 198,
   "metadata": {},
   "outputs": [
    {
     "data": {
      "text/plain": [
       "[<matplotlib.lines.Line2D at 0x13a69921a50>]"
      ]
     },
     "execution_count": 198,
     "metadata": {},
     "output_type": "execute_result"
    },
    {
     "data": {
      "image/png": "[encoded data removed]",
      "text/plain": [
       "<Figure size 640x480 with 1 Axes>"
      ]
     },
     "metadata": {},
     "output_type": "display_data"
    }
   ],
   "source": [
    "plt.plot([50, 100, 500, 1000, 5000, 10000, 50000], Ts)"
   ]
  }
 ],
 "metadata": {
  "kernelspec": {
   "display_name": "base",
   "language": "python",
   "name": "python3"
  },
  "language_info": {
   "codemirror_mode": {
    "name": "ipython",
    "version": 3
   },
   "file_extension": ".py",
   "mimetype": "text/x-python",
   "name": "python",
   "nbconvert_exporter": "python",
   "pygments_lexer": "ipython3",
   "version": "3.11.5"
  },
  "orig_nbformat": 4
 },
 "nbformat": 4,
 "nbformat_minor": 2
}
