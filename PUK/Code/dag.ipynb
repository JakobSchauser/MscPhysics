{
 "cells": [
  {
   "cell_type": "code",
   "execution_count": 169,
   "metadata": {},
   "outputs": [
    {
     "data": {
      "image/png": "[encoded data removed]",
      "text/plain": [
       "<Figure size 432x288 with 1 Axes>"
      ]
     },
     "metadata": {},
     "output_type": "display_data"
    }
   ],
   "source": [
    "import numpy as np\n",
    "import networkx as nx\n",
    "import matplotlib.pyplot as plt\n",
    "from itertools import product\n",
    "from pyvis.network import Network\n",
    "\n",
    "from DAG import DAG\n",
    "\n",
    "dag = DAG(n = 3, strength = 3, roots = 1)\n",
    "dag.plot()"
   ]
  },
  {
   "cell_type": "code",
   "execution_count": 152,
   "metadata": {},
   "outputs": [
    {
     "data": {
      "text/plain": [
       "array([[0, 0, 1, 0, 1],\n",
       "       [0, 0, 1, 1, 0],\n",
       "       [0, 0, 0, 0, 1],\n",
       "       [0, 0, 0, 0, 1],\n",
       "       [0, 1, 0, 0, 0]])"
      ]
     },
     "execution_count": 152,
     "metadata": {},
     "output_type": "execute_result"
    }
   ],
   "source": [
    "DAG.random_dag(..)"
   ]
  },
  {
   "cell_type": "code",
   "execution_count": 170,
   "metadata": {},
   "outputs": [
    {
     "ename": "NameError",
     "evalue": "name 'dag' is not defined",
     "output_type": "error",
     "traceback": [
      "\u001b[1;31m---------------------------------------------------------------------------\u001b[0m",
      "\u001b[1;31mNameError\u001b[0m                                 Traceback (most recent call last)",
      "\u001b[1;32m<ipython-input-170-1e22d41a4410>\u001b[0m in \u001b[0;36m<module>\u001b[1;34m\u001b[0m\n\u001b[1;32m----> 1\u001b[1;33m \u001b[0msim\u001b[0m \u001b[1;33m=\u001b[0m \u001b[0mdag\u001b[0m\u001b[1;33m.\u001b[0m\u001b[0msimulate\u001b[0m\u001b[1;33m(\u001b[0m\u001b[1;36m10000000\u001b[0m\u001b[1;33m)\u001b[0m\u001b[1;33m.\u001b[0m\u001b[0mvar\u001b[0m\u001b[1;33m(\u001b[0m\u001b[0maxis\u001b[0m \u001b[1;33m=\u001b[0m \u001b[1;36m1\u001b[0m\u001b[1;33m)\u001b[0m\u001b[1;33m\u001b[0m\u001b[1;33m\u001b[0m\u001b[0m\n\u001b[0m\u001b[0;32m      2\u001b[0m \u001b[1;32mfor\u001b[0m \u001b[0mi\u001b[0m \u001b[1;32min\u001b[0m \u001b[0mrange\u001b[0m\u001b[1;33m(\u001b[0m\u001b[0mdag\u001b[0m\u001b[1;33m.\u001b[0m\u001b[0msize\u001b[0m\u001b[1;33m)\u001b[0m\u001b[1;33m:\u001b[0m\u001b[1;33m\u001b[0m\u001b[1;33m\u001b[0m\u001b[0m\n\u001b[0;32m      3\u001b[0m     \u001b[0mprint\u001b[0m\u001b[1;33m(\u001b[0m\u001b[1;34m\"simulated\"\u001b[0m\u001b[1;33m,\u001b[0m \u001b[0mi\u001b[0m\u001b[1;33m,\u001b[0m \u001b[1;34m\":\"\u001b[0m\u001b[1;33m,\u001b[0m \u001b[0mround\u001b[0m\u001b[1;33m(\u001b[0m\u001b[0msim\u001b[0m\u001b[1;33m[\u001b[0m\u001b[0mi\u001b[0m\u001b[1;33m]\u001b[0m\u001b[1;33m*\u001b[0m\u001b[1;36m100\u001b[0m\u001b[1;33m)\u001b[0m\u001b[1;33m/\u001b[0m\u001b[1;36m100\u001b[0m\u001b[1;33m,\u001b[0m \u001b[1;34m\"| analytical\"\u001b[0m\u001b[1;33m,\u001b[0m \u001b[1;34m\":\"\u001b[0m\u001b[1;33m,\u001b[0m \u001b[0mround\u001b[0m\u001b[1;33m(\u001b[0m\u001b[0mdag\u001b[0m\u001b[1;33m.\u001b[0m\u001b[0mvar_node\u001b[0m\u001b[1;33m(\u001b[0m\u001b[0mi\u001b[0m\u001b[1;33m)\u001b[0m\u001b[1;33m)\u001b[0m\u001b[1;33m)\u001b[0m\u001b[1;33m\u001b[0m\u001b[1;33m\u001b[0m\u001b[0m\n\u001b[0;32m      4\u001b[0m \u001b[1;33m\u001b[0m\u001b[0m\n",
      "\u001b[1;32mc:\\Users\\jakob\\Documents\\MscPhysics\\PUK\\Code\\DAG.py\u001b[0m in \u001b[0;36msimulate\u001b[1;34m(self, N)\u001b[0m\n\u001b[0;32m    140\u001b[0m                 \u001b[0mvisited\u001b[0m\u001b[1;33m.\u001b[0m\u001b[0mappend\u001b[0m\u001b[1;33m(\u001b[0m\u001b[0mroot\u001b[0m\u001b[1;33m)\u001b[0m\u001b[1;33m\u001b[0m\u001b[1;33m\u001b[0m\u001b[0m\n\u001b[0;32m    141\u001b[0m                 \u001b[1;31m# add bias\u001b[0m\u001b[1;33m\u001b[0m\u001b[1;33m\u001b[0m\u001b[1;33m\u001b[0m\u001b[0m\n\u001b[1;32m--> 142\u001b[1;33m                 \u001b[0mvalues\u001b[0m\u001b[1;33m[\u001b[0m\u001b[0mroot\u001b[0m\u001b[1;33m]\u001b[0m \u001b[1;33m+=\u001b[0m \u001b[0mnp\u001b[0m\u001b[1;33m.\u001b[0m\u001b[0mrandom\u001b[0m\u001b[1;33m.\u001b[0m\u001b[0mnormal\u001b[0m\u001b[1;33m(\u001b[0m\u001b[1;36m0\u001b[0m\u001b[1;33m,\u001b[0m \u001b[0mdag\u001b[0m\u001b[1;33m.\u001b[0m\u001b[0mbiass\u001b[0m\u001b[1;33m[\u001b[0m\u001b[0mroot\u001b[0m\u001b[1;33m]\u001b[0m\u001b[1;33m,\u001b[0m \u001b[0mN\u001b[0m\u001b[1;33m)\u001b[0m\u001b[1;33m\u001b[0m\u001b[1;33m\u001b[0m\u001b[0m\n\u001b[0m\u001b[0;32m    143\u001b[0m \u001b[1;33m\u001b[0m\u001b[0m\n\u001b[0;32m    144\u001b[0m                 \u001b[1;31m# propagate values\u001b[0m\u001b[1;33m\u001b[0m\u001b[1;33m\u001b[0m\u001b[1;33m\u001b[0m\u001b[0m\n",
      "\u001b[1;31mNameError\u001b[0m: name 'dag' is not defined"
     ]
    }
   ],
   "source": [
    "sim = dag.simulate(10000000).var(axis = 1)\n",
    "for i in range(dag.size):\n",
    "    print(\"simulated\", i, \":\", round(sim[i]*100)/100, \"| analytical\", \":\", round(dag.var_node(i)))\n",
    "    "
   ]
  },
  {
   "attachments": {},
   "cell_type": "markdown",
   "metadata": {},
   "source": [
    "$V_a = \\sum^{nodes}_i\\sum_{j,k}\\prod^{path_{j}}_j\\prod^{path_{ia}}_k W_j W_kV_i + V_a$"
   ]
  },
  {
   "cell_type": "code",
   "execution_count": 60,
   "metadata": {},
   "outputs": [
    {
     "name": "stdout",
     "output_type": "stream",
     "text": [
      "(0, 0)\n",
      "(0, 1)\n",
      "(0, 2)\n",
      "(1, 1)\n",
      "(1, 2)\n",
      "(2, 2)\n",
      "\n",
      "(0, 0)\n",
      "(0, 1)\n",
      "(0, 2)\n",
      "(1, 0)\n",
      "(1, 1)\n",
      "(1, 2)\n",
      "(2, 0)\n",
      "(2, 1)\n",
      "(2, 2)\n"
     ]
    }
   ],
   "source": [
    "from itertools import combinations_with_replacement, combinations, product\n",
    "\n",
    "for i in combinations_with_replacement(range(dag.size), 2):\n",
    "    print(i)\n",
    "\n",
    "print()\n",
    "for i in product(range(dag.size), range(dag.size)):\n",
    "    print(i)"
   ]
  },
  {
   "cell_type": "code",
   "execution_count": 283,
   "metadata": {},
   "outputs": [
    {
     "name": "stdout",
     "output_type": "stream",
     "text": [
      "adj\n",
      " [[0 1 1]\n",
      " [0 0 1]\n",
      " [0 0 0]]\n",
      "root 0\n",
      "here!\n",
      "adj\n",
      " [[0 0 0]\n",
      " [0 0 1]\n",
      " [0 0 0]]\n",
      "root 1\n",
      "here!\n",
      "adj\n",
      " [[0 0 0]\n",
      " [0 0 0]\n",
      " [0 0 0]]\n",
      "root 2\n",
      "here!\n",
      "adj\n",
      " [[0 0 0]\n",
      " [0 0 0]\n",
      " [0 0 0]]\n"
     ]
    }
   ],
   "source": [
    "adj = dag.adjaceny_matrix.copy()\n",
    "\n",
    "N = 10\n",
    "\n",
    "\n",
    "\n",
    "\n"
   ]
  },
  {
   "cell_type": "code",
   "execution_count": 286,
   "metadata": {},
   "outputs": [
    {
     "data": {
      "text/plain": [
       "array([0.81126094, 0.8034279 , 4.22545177])"
      ]
     },
     "execution_count": 286,
     "metadata": {},
     "output_type": "execute_result"
    }
   ],
   "source": [
    "values.var(axis = 1)"
   ]
  },
  {
   "cell_type": "code",
   "execution_count": 245,
   "metadata": {},
   "outputs": [
    {
     "name": "stdout",
     "output_type": "stream",
     "text": [
      "[array([], dtype=float64)]\n",
      "[]\n",
      "[]\n",
      "variance for node 0 : 1.0\n",
      "[array([[0, 1]])]\n",
      "prod 1.0 for [[0 1]] [[0 1]]\n",
      "[array([], dtype=float64)]\n",
      "[]\n",
      "variance for node 1 : 2.0\n",
      "[array([[0, 1],\n",
      "       [1, 2]]), array([[0, 2]])]\n",
      "prod 1.0 for [[0 1]\n",
      " [1 2]] [[0 1]\n",
      " [1 2]]\n",
      "prod 1.0 for [[0 1]\n",
      " [1 2]] [[0 2]]\n",
      "prod 1.0 for [[0 2]] [[0 2]]\n",
      "[array([[1, 2]])]\n",
      "prod 1.0 for [[1 2]] [[1 2]]\n",
      "[array([], dtype=float64)]\n",
      "variance for node 2 : 5.0\n"
     ]
    }
   ],
   "source": [
    "for i in range(dag.size):\n",
    "    print(\"variance for node\", i, \":\",dag.var_node(i))"
   ]
  },
  {
   "cell_type": "code",
   "execution_count": 77,
   "metadata": {},
   "outputs": [],
   "source": [
    "def naive(dag):\n",
    "    sums = np.zeros(dag.shape[0])\n",
    "    sums[0] = 1\n",
    "\n",
    "    for i in range(dag.shape[0]):\n",
    "        unit_vector = np.zeros(dag.shape[0])\n",
    "        unit_vector[i] = 1\n",
    "\n",
    "        print(i)\n",
    "        print(unit_vector @ dag)\n",
    "\n",
    "        for vec, j in enumerate(unit_vector @ dag):\n",
    "            sums[vec] += sums[i]*j\n",
    "            # print(j)\n",
    "\n",
    "    return sums\n",
    "\n",
    "# print(naive(dag))\n",
    "# print(getnum(dag))"
   ]
  },
  {
   "cell_type": "code",
   "execution_count": 100,
   "metadata": {},
   "outputs": [
    {
     "name": "stdout",
     "output_type": "stream",
     "text": [
      "[array([[0, 1],\n",
      "       [1, 3],\n",
      "       [3, 4]]), array([[0, 2],\n",
      "       [2, 3],\n",
      "       [3, 4]]), array([[0, 2],\n",
      "       [2, 4]]), array([[0, 4]])]\n"
     ]
    }
   ],
   "source": [
    "# If ( src == dest ) then\n",
    "# 2.      A path has been found. Push the path in the list of all_the_paths ( list of list ).\n",
    "# 3.  Else\n",
    "# 4.     For every adjacent node adj_node that is adjacent to src do\n",
    "# 5.        Push adj_node in the path.\n",
    "# 6.        DFS ( adj_node, dest, g )\n",
    "# 7.        Pop adj_node from the path. This is essentially a backtracking mechanism to find a different path from the source ( src ) node.\n",
    "\n",
    "# from adjacency matrix to list of edges\n",
    "\n",
    "\n",
    "\n",
    "find_all_paths(adj2edges(dag), 0, 4)\n",
    "\n",
    "print(allpaths)"
   ]
  },
  {
   "cell_type": "code",
   "execution_count": 99,
   "metadata": {},
   "outputs": [
    {
     "data": {
      "text/plain": [
       "[array([[0, 1],\n",
       "        [1, 3],\n",
       "        [3, 4]]),\n",
       " array([[0, 2],\n",
       "        [2, 3],\n",
       "        [3, 4]]),\n",
       " array([[0, 2],\n",
       "        [2, 4]]),\n",
       " array([[0, 4]])]"
      ]
     },
     "execution_count": 99,
     "metadata": {},
     "output_type": "execute_result"
    }
   ],
   "source": []
  },
  {
   "cell_type": "code",
   "execution_count": 88,
   "metadata": {},
   "outputs": [
    {
     "data": {
      "text/plain": [
       "[(0, 1), (0, 2), (0, 4), (1, 3), (2, 3), (2, 4), (3, 4)]"
      ]
     },
     "execution_count": 88,
     "metadata": {},
     "output_type": "execute_result"
    }
   ],
   "source": [
    "adj2edges(dag)"
   ]
  },
  {
   "cell_type": "code",
   "execution_count": 37,
   "metadata": {},
   "outputs": [],
   "source": [
    "roads = getnum(dag)\n",
    "\n",
    "biass = np.ones(dag.shape[0]) * 0.5\n",
    "\n",
    "for i in range(dag.shape[0]):\n",
    "    "
   ]
  },
  {
   "cell_type": "code",
   "execution_count": null,
   "metadata": {},
   "outputs": [],
   "source": [
    "[1, 1, 1, 4, 9]"
   ]
  },
  {
   "cell_type": "code",
   "execution_count": 36,
   "metadata": {},
   "outputs": [
    {
     "data": {
      "text/plain": [
       "array([ 1,  1,  1,  4, 36], dtype=int32)"
      ]
     },
     "execution_count": 36,
     "metadata": {},
     "output_type": "execute_result"
    }
   ],
   "source": [
    "getnum(dag)"
   ]
  },
  {
   "cell_type": "code",
   "execution_count": 19,
   "metadata": {},
   "outputs": [
    {
     "name": "stdout",
     "output_type": "stream",
     "text": [
      "[ 1  2  3 10]\n",
      "[array([0, 1, 1, 3]), array([0, 0, 1, 2]), array([0, 0, 0, 1]), array([0, 0, 0, 0])]\n"
     ]
    }
   ],
   "source": [
    "# take the adjancency matrix to the power of 2 to get the number of paths of length 2\n",
    "roads = np.array([1, 1,1,1])\n",
    "\n",
    "news = []\n",
    "for i in range(len(roads)):\n",
    "    new = roads * np.linalg.matrix_power(dag, i+1).T @ roads\n",
    "    news.append(np.linalg.matrix_power(dag, i+1).T @ np.array([1,1,1,1]))\n",
    "    roads[(roads > 0) * (new > 0)] += new[(roads > 0) * (new > 0)]\n",
    "\n",
    "print(roads)\n",
    "print(news)"
   ]
  },
  {
   "cell_type": "code",
   "execution_count": 25,
   "metadata": {},
   "outputs": [],
   "source": [
    "def getnum(dag):\n",
    "    plusone = np.zeros(dag.shape[0])\n",
    "    plusone[0] = 1\n",
    "\n",
    "    allones = np.ones(dag.shape[0])\n",
    "\n",
    "\n",
    "    return dag.T @ allones + plusone, "
   ]
  }
 ],
 "metadata": {
  "kernelspec": {
   "display_name": "base",
   "language": "python",
   "name": "python3"
  },
  "language_info": {
   "codemirror_mode": {
    "name": "ipython",
    "version": 3
   },
   "file_extension": ".py",
   "mimetype": "text/x-python",
   "name": "python",
   "nbconvert_exporter": "python",
   "pygments_lexer": "ipython3",
   "version": "3.6.13"
  },
  "orig_nbformat": 4
 },
 "nbformat": 4,
 "nbformat_minor": 2
}
