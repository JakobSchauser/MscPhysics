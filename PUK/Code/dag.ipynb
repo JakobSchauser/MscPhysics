{
 "cells": [
  {
   "cell_type": "code",
   "execution_count": 5,
   "metadata": {},
   "outputs": [
    {
     "data": {
      "image/png": "[encoded data removed]",
      "text/plain": [
       "<Figure size 432x288 with 1 Axes>"
      ]
     },
     "metadata": {},
     "output_type": "display_data"
    }
   ],
   "source": [
    "import numpy as np\n",
    "import networkx as nx\n",
    "import matplotlib.pyplot as plt\n",
    "from itertools import product\n",
    "from pyvis.network import Network\n",
    "\n",
    "from DAG import DAG\n",
    "\n",
    "dag = DAG(n = 4, roots = 1)\n",
    "dag.plot()"
   ]
  },
  {
   "cell_type": "code",
   "execution_count": 7,
   "metadata": {},
   "outputs": [
    {
     "name": "stdout",
     "output_type": "stream",
     "text": [
      "simulated 0 : 1.0 | analytical : 1\n",
      "simulated 1 : 2.0 | analytical : 2\n",
      "simulated 2 : 6.0 | analytical : 6\n",
      "simulated 3 : 15.0 | analytical : 15\n"
     ]
    }
   ],
   "source": [
    "sim = dag.simulate(10000000).var(axis = 1)\n",
    "for i in range(dag.size):\n",
    "    print(\"simulated\", i, \":\", round(sim[i]*10)/10, \"| analytical\", \":\", round(dag.var_node(i)))\n",
    "    "
   ]
  },
  {
   "attachments": {},
   "cell_type": "markdown",
   "metadata": {},
   "source": [
    "$V_a = \\sum^{nodes}_i\\sum_{j,k}\\prod^{path_{j}}_j\\prod^{path_{ia}}_k W_j W_kV_i + V_a$"
   ]
  },
  {
   "cell_type": "code",
   "execution_count": 60,
   "metadata": {},
   "outputs": [
    {
     "name": "stdout",
     "output_type": "stream",
     "text": [
      "(0, 0)\n",
      "(0, 1)\n",
      "(0, 2)\n",
      "(1, 1)\n",
      "(1, 2)\n",
      "(2, 2)\n",
      "\n",
      "(0, 0)\n",
      "(0, 1)\n",
      "(0, 2)\n",
      "(1, 0)\n",
      "(1, 1)\n",
      "(1, 2)\n",
      "(2, 0)\n",
      "(2, 1)\n",
      "(2, 2)\n"
     ]
    }
   ],
   "source": [
    "from itertools import combinations_with_replacement, combinations, product\n",
    "\n",
    "for i in combinations_with_replacement(range(dag.size), 2):\n",
    "    print(i)\n",
    "\n",
    "print()\n",
    "for i in product(range(dag.size), range(dag.size)):\n",
    "    print(i)"
   ]
  },
  {
   "cell_type": "code",
   "execution_count": 283,
   "metadata": {},
   "outputs": [
    {
     "name": "stdout",
     "output_type": "stream",
     "text": [
      "adj\n",
      " [[0 1 1]\n",
      " [0 0 1]\n",
      " [0 0 0]]\n",
      "root 0\n",
      "here!\n",
      "adj\n",
      " [[0 0 0]\n",
      " [0 0 1]\n",
      " [0 0 0]]\n",
      "root 1\n",
      "here!\n",
      "adj\n",
      " [[0 0 0]\n",
      " [0 0 0]\n",
      " [0 0 0]]\n",
      "root 2\n",
      "here!\n",
      "adj\n",
      " [[0 0 0]\n",
      " [0 0 0]\n",
      " [0 0 0]]\n"
     ]
    }
   ],
   "source": [
    "adj = dag.adjaceny_matrix.copy()\n",
    "\n",
    "N = 10\n",
    "\n",
    "\n",
    "\n",
    "\n"
   ]
  },
  {
   "cell_type": "code",
   "execution_count": 286,
   "metadata": {},
   "outputs": [
    {
     "data": {
      "text/plain": [
       "array([0.81126094, 0.8034279 , 4.22545177])"
      ]
     },
     "execution_count": 286,
     "metadata": {},
     "output_type": "execute_result"
    }
   ],
   "source": [
    "values.var(axis = 1)"
   ]
  },
  {
   "cell_type": "code",
   "execution_count": 245,
   "metadata": {},
   "outputs": [
    {
     "name": "stdout",
     "output_type": "stream",
     "text": [
      "[array([], dtype=float64)]\n",
      "[]\n",
      "[]\n",
      "variance for node 0 : 1.0\n",
      "[array([[0, 1]])]\n",
      "prod 1.0 for [[0 1]] [[0 1]]\n",
      "[array([], dtype=float64)]\n",
      "[]\n",
      "variance for node 1 : 2.0\n",
      "[array([[0, 1],\n",
      "       [1, 2]]), array([[0, 2]])]\n",
      "prod 1.0 for [[0 1]\n",
      " [1 2]] [[0 1]\n",
      " [1 2]]\n",
      "prod 1.0 for [[0 1]\n",
      " [1 2]] [[0 2]]\n",
      "prod 1.0 for [[0 2]] [[0 2]]\n",
      "[array([[1, 2]])]\n",
      "prod 1.0 for [[1 2]] [[1 2]]\n",
      "[array([], dtype=float64)]\n",
      "variance for node 2 : 5.0\n"
     ]
    }
   ],
   "source": [
    "for i in range(dag.size):\n",
    "    print(\"variance for node\", i, \":\",dag.var_node(i))"
   ]
  },
  {
   "cell_type": "code",
   "execution_count": 77,
   "metadata": {},
   "outputs": [],
   "source": [
    "def naive(dag):\n",
    "    sums = np.zeros(dag.shape[0])\n",
    "    sums[0] = 1\n",
    "\n",
    "    for i in range(dag.shape[0]):\n",
    "        unit_vector = np.zeros(dag.shape[0])\n",
    "        unit_vector[i] = 1\n",
    "\n",
    "        print(i)\n",
    "        print(unit_vector @ dag)\n",
    "\n",
    "        for vec, j in enumerate(unit_vector @ dag):\n",
    "            sums[vec] += sums[i]*j\n",
    "            # print(j)\n",
    "\n",
    "    return sums\n",
    "\n",
    "# print(naive(dag))\n",
    "# print(getnum(dag))"
   ]
  },
  {
   "cell_type": "code",
   "execution_count": 100,
   "metadata": {},
   "outputs": [
    {
     "name": "stdout",
     "output_type": "stream",
     "text": [
      "[array([[0, 1],\n",
      "       [1, 3],\n",
      "       [3, 4]]), array([[0, 2],\n",
      "       [2, 3],\n",
      "       [3, 4]]), array([[0, 2],\n",
      "       [2, 4]]), array([[0, 4]])]\n"
     ]
    }
   ],
   "source": [
    "# If ( src == dest ) then\n",
    "# 2.      A path has been found. Push the path in the list of all_the_paths ( list of list ).\n",
    "# 3.  Else\n",
    "# 4.     For every adjacent node adj_node that is adjacent to src do\n",
    "# 5.        Push adj_node in the path.\n",
    "# 6.        DFS ( adj_node, dest, g )\n",
    "# 7.        Pop adj_node from the path. This is essentially a backtracking mechanism to find a different path from the source ( src ) node.\n",
    "\n",
    "# from adjacency matrix to list of edges\n",
    "\n",
    "\n",
    "\n",
    "find_all_paths(adj2edges(dag), 0, 4)\n",
    "\n",
    "print(allpaths)"
   ]
  },
  {
   "cell_type": "code",
   "execution_count": 99,
   "metadata": {},
   "outputs": [
    {
     "data": {
      "text/plain": [
       "[array([[0, 1],\n",
       "        [1, 3],\n",
       "        [3, 4]]),\n",
       " array([[0, 2],\n",
       "        [2, 3],\n",
       "        [3, 4]]),\n",
       " array([[0, 2],\n",
       "        [2, 4]]),\n",
       " array([[0, 4]])]"
      ]
     },
     "execution_count": 99,
     "metadata": {},
     "output_type": "execute_result"
    }
   ],
   "source": []
  },
  {
   "cell_type": "code",
   "execution_count": 88,
   "metadata": {},
   "outputs": [
    {
     "data": {
      "text/plain": [
       "[(0, 1), (0, 2), (0, 4), (1, 3), (2, 3), (2, 4), (3, 4)]"
      ]
     },
     "execution_count": 88,
     "metadata": {},
     "output_type": "execute_result"
    }
   ],
   "source": [
    "adj2edges(dag)"
   ]
  },
  {
   "cell_type": "code",
   "execution_count": 37,
   "metadata": {},
   "outputs": [],
   "source": [
    "roads = getnum(dag)\n",
    "\n",
    "biass = np.ones(dag.shape[0]) * 0.5\n",
    "\n",
    "for i in range(dag.shape[0]):\n",
    "    "
   ]
  },
  {
   "cell_type": "code",
   "execution_count": null,
   "metadata": {},
   "outputs": [],
   "source": [
    "[1, 1, 1, 4, 9]"
   ]
  },
  {
   "cell_type": "code",
   "execution_count": 36,
   "metadata": {},
   "outputs": [
    {
     "data": {
      "text/plain": [
       "array([ 1,  1,  1,  4, 36], dtype=int32)"
      ]
     },
     "execution_count": 36,
     "metadata": {},
     "output_type": "execute_result"
    }
   ],
   "source": [
    "getnum(dag)"
   ]
  },
  {
   "cell_type": "code",
   "execution_count": 19,
   "metadata": {},
   "outputs": [
    {
     "name": "stdout",
     "output_type": "stream",
     "text": [
      "[ 1  2  3 10]\n",
      "[array([0, 1, 1, 3]), array([0, 0, 1, 2]), array([0, 0, 0, 1]), array([0, 0, 0, 0])]\n"
     ]
    }
   ],
   "source": [
    "# take the adjancency matrix to the power of 2 to get the number of paths of length 2\n",
    "roads = np.array([1, 1,1,1])\n",
    "\n",
    "news = []\n",
    "for i in range(len(roads)):\n",
    "    new = roads * np.linalg.matrix_power(dag, i+1).T @ roads\n",
    "    news.append(np.linalg.matrix_power(dag, i+1).T @ np.array([1,1,1,1]))\n",
    "    roads[(roads > 0) * (new > 0)] += new[(roads > 0) * (new > 0)]\n",
    "\n",
    "print(roads)\n",
    "print(news)"
   ]
  },
  {
   "cell_type": "code",
   "execution_count": 25,
   "metadata": {},
   "outputs": [],
   "source": [
    "def getnum(dag):\n",
    "    plusone = np.zeros(dag.shape[0])\n",
    "    plusone[0] = 1\n",
    "\n",
    "    allones = np.ones(dag.shape[0])\n",
    "\n",
    "\n",
    "    return dag.T @ allones + plusone, "
   ]
  }
 ],
 "metadata": {
  "kernelspec": {
   "display_name": "base",
   "language": "python",
   "name": "python3"
  },
  "language_info": {
   "codemirror_mode": {
    "name": "ipython",
    "version": 3
   },
   "file_extension": ".py",
   "mimetype": "text/x-python",
   "name": "python",
   "nbconvert_exporter": "python",
   "pygments_lexer": "ipython3",
   "version": "3.6.13"
  },
  "orig_nbformat": 4
 },
 "nbformat": 4,
 "nbformat_minor": 2
}
