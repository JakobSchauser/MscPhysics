{
 "cells": [
  {
   "attachments": {
    "image.png": {
     "image/png": "[encoded data removed]"
    }
   },
   "cell_type": "markdown",
   "metadata": {},
   "source": [
    "Discrete Laplacian\n",
    "\n",
    "![image.png](attachment:image.png)"
   ]
  },
  {
   "cell_type": "code",
   "execution_count": 1,
   "metadata": {},
   "outputs": [],
   "source": [
    "import numpy as np\n",
    "from numba import njit, prange\n",
    "from tqdm import tqdm\n",
    "\n",
    "\n",
    "def get_laplacian(dx):\n",
    "    @njit(parallel=True)\n",
    "    def laplacian(board):\n",
    "        # return np.roll(f,1,0)+np.roll(f,-1,0)+np.roll(f,1,1)+np.roll(f,-1,1)-4*f\n",
    "        lap = np.zeros_like(board)\n",
    "        n_rows = board.shape[0]\n",
    "        n_cols = board.shape[1]\n",
    "\n",
    "        for i in prange(n_rows):\n",
    "            u = i+1 == n_rows\n",
    "            d = i-1 == -1\n",
    "            for j in range(n_cols):\n",
    "                l = j-1 == -1\n",
    "                r = j+1 == n_cols\n",
    "                p1 = 0 if u else board[i+1, j]\n",
    "                p2 = 0 if d else board[i-1 ,j]\n",
    "                p4 = 0 if l else board[i, j-1]\n",
    "                p3 = 0 if r else board[i, j+1]\n",
    "\n",
    "                lap[i,j] = p1 + p2 + p3 + p4 - (4 - (u + d + l + r))*board[i,j]\n",
    "    \n",
    "        lap /= dx*dx\n",
    "\n",
    "        return lap\n",
    "    return laplacian\n",
    "\n",
    "# @njit\n",
    "def get_equations(dx, D_p, D_q, C, K):\n",
    "    laplacian = get_laplacian(dx)\n",
    "    @njit\n",
    "    def dp_dt(p_q):\n",
    "        p = p_q[:,:,0]\n",
    "        q = p_q[:,:,1]\n",
    "        return D_p*laplacian(p) + p*p*q + C - (K+1)*p\n",
    "    \n",
    "    @njit\n",
    "    def dq_dt(p_q):\n",
    "        p = p_q[:,:,0]\n",
    "        q = p_q[:,:,1]\n",
    "        return D_q*laplacian(q) - p*p*q + K*p\n",
    "    \n",
    "    return dp_dt, dq_dt\n",
    "\n",
    "# @njit\n",
    "def get_step(dt, dp_dt, dq_dt):\n",
    "    @njit\n",
    "    def step(p_q):\n",
    "        p = p_q[:,:,0]\n",
    "        q = p_q[:,:,1]\n",
    "        p += dp_dt(p_q)*dt\n",
    "        q += dq_dt(p_q)*dt\n",
    "        return p_q\n",
    "    return step\n",
    "\n",
    "@njit\n",
    "def the_loop(p_q, n_steps : int, step):\n",
    "    for i in (prange(n_steps)):\n",
    "        p_q = step(p_q)\n",
    "\n",
    "        if np.isnan(p_q).all():\n",
    "            print(\"nan\",i)\n",
    "            break\n",
    "    return p_q\n",
    "\n",
    "# @njit\n",
    "def simulate(dt, dx, T, D_p, D_q, C, K):\n",
    "    n_steps = int(T/dt)\n",
    "\n",
    "    N = int(40/dx)\n",
    "    inner = int(10/dx)\n",
    "    outer = int(30/dx)\n",
    "\n",
    "    p_q = np.zeros((N, N, 2), dtype=np.float64)\n",
    "\n",
    "    # p_q_hist = np.zeros((n_steps, N, N, 2), dtype=np.float64)\n",
    "    # p_q_hist[0] = p_q\n",
    "\n",
    "    p_q[inner:outer,inner:outer,0] = C + 0.1\n",
    "    p_q[inner:outer,inner:outer,1] = K/C + 0.2\n",
    "\n",
    "    dp_dt, dq_dt = get_equations(dx, D_p, D_q, C, K)\n",
    "\n",
    "    step = get_step(dt, dp_dt, dq_dt)\n",
    "\n",
    "\n",
    "    p_q = the_loop(p_q, n_steps, step)\n",
    "\n",
    "\n",
    "        # p_q_hist[i] = p_q\n",
    "    \n",
    "    # return p_q_hist\n",
    "    return p_q\n",
    "\n",
    "\n",
    "# pq = simulate(dt = 0.001, dx = 0.5, T = 2000, D_p = 1, D_q = 8, C = 4.5, K = 9)\n"
   ]
  },
  {
   "cell_type": "code",
   "execution_count": 9,
   "metadata": {},
   "outputs": [
    {
     "name": "stderr",
     "output_type": "stream",
     "text": [
      " 83%|████████▎ | 5/6 [41:44<08:08, 488.49s/it]"
     ]
    }
   ],
   "source": [
    "# sims = []\n",
    "for K in tqdm([7,8,9,10,11,12]):\n",
    "    pq = simulate(dt = 0.001, dx = 0.5, T = 2000, D_p = 1, D_q = 8, C = 4.5, K = K)\n",
    "    sims.append(pq)\n",
    "\n",
    "    # plt.imshow(pq_hist[:,:,1])"
   ]
  },
  {
   "cell_type": "code",
   "execution_count": null,
   "metadata": {},
   "outputs": [
    {
     "ename": "IndexError",
     "evalue": "too many indices for array: array is 3-dimensional, but 4 were indexed",
     "output_type": "error",
     "traceback": [
      "\u001b[1;31m---------------------------------------------------------------------------\u001b[0m",
      "\u001b[1;31mIndexError\u001b[0m                                Traceback (most recent call last)",
      "\u001b[1;32mc:\\Users\\jakob\\Documents\\MscPhysics\\Scientific Computing\\Project4\\project4b.ipynb Cell 3\u001b[0m line \u001b[0;36m4\n\u001b[0;32m      <a href='vscode-notebook-cell:/c%3A/Users/jakob/Documents/MscPhysics/Scientific%20Computing/Project4/project4b.ipynb#W2sZmlsZQ%3D%3D?line=0'>1</a>\u001b[0m \u001b[39mimport\u001b[39;00m \u001b[39mmatplotlib\u001b[39;00m\u001b[39m.\u001b[39;00m\u001b[39mpyplot\u001b[39;00m \u001b[39mas\u001b[39;00m \u001b[39mplt\u001b[39;00m\n\u001b[0;32m      <a href='vscode-notebook-cell:/c%3A/Users/jakob/Documents/MscPhysics/Scientific%20Computing/Project4/project4b.ipynb#W2sZmlsZQ%3D%3D?line=2'>3</a>\u001b[0m \u001b[39mfor\u001b[39;00m n \u001b[39min\u001b[39;00m [\u001b[39m45\u001b[39m, \u001b[39m50\u001b[39m, \u001b[39m55\u001b[39m, \u001b[39m60\u001b[39m, \u001b[39m62\u001b[39m, \u001b[39m65\u001b[39m]:\n\u001b[1;32m----> <a href='vscode-notebook-cell:/c%3A/Users/jakob/Documents/MscPhysics/Scientific%20Computing/Project4/project4b.ipynb#W2sZmlsZQ%3D%3D?line=3'>4</a>\u001b[0m     plt\u001b[39m.\u001b[39mimshow(pq_hist[n,:, :, \u001b[39m0\u001b[39m])\n\u001b[0;32m      <a href='vscode-notebook-cell:/c%3A/Users/jakob/Documents/MscPhysics/Scientific%20Computing/Project4/project4b.ipynb#W2sZmlsZQ%3D%3D?line=4'>5</a>\u001b[0m     plt\u001b[39m.\u001b[39mcolorbar()\n\u001b[0;32m      <a href='vscode-notebook-cell:/c%3A/Users/jakob/Documents/MscPhysics/Scientific%20Computing/Project4/project4b.ipynb#W2sZmlsZQ%3D%3D?line=5'>6</a>\u001b[0m     plt\u001b[39m.\u001b[39mshow()\n",
      "\u001b[1;31mIndexError\u001b[0m: too many indices for array: array is 3-dimensional, but 4 were indexed"
     ]
    }
   ],
   "source": [
    "import matplotlib.pyplot as plt\n",
    "\n",
    "for s in sims:\n",
    "    plt.imshow(s[:, :, 0])\n",
    "    plt.colorbar()\n",
    "    plt.show()\n",
    "\n"
   ]
  },
  {
   "cell_type": "code",
   "execution_count": null,
   "metadata": {},
   "outputs": [],
   "source": [
    "for s in sims:\n",
    "    # draw countours\n",
    "    plt.contour(s[:, :, 0], levels=[4.5], colors='red')\n",
    "    plt.contour(s[:, :, 1], levels=[9], colors='blue')\n",
    "    plt.show()\n",
    "    "
   ]
  }
 ],
 "metadata": {
  "kernelspec": {
   "display_name": "base",
   "language": "python",
   "name": "python3"
  },
  "language_info": {
   "codemirror_mode": {
    "name": "ipython",
    "version": 3
   },
   "file_extension": ".py",
   "mimetype": "text/x-python",
   "name": "python",
   "nbconvert_exporter": "python",
   "pygments_lexer": "ipython3",
   "version": "3.11.5"
  }
 },
 "nbformat": 4,
 "nbformat_minor": 2
}
