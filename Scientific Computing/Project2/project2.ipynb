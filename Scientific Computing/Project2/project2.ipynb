{
 "cells": [
  {
   "cell_type": "code",
   "execution_count": 1,
   "metadata": {},
   "outputs": [],
   "source": [
    "import numpy as np"
   ]
  },
  {
   "cell_type": "code",
   "execution_count": 6,
   "metadata": {},
   "outputs": [],
   "source": [
    "Kmat = np.load(\"Chladni-Kmat.npy\")"
   ]
  },
  {
   "cell_type": "markdown",
   "metadata": {},
   "source": [
    "Implement centers,radii = gershgorin(A)"
   ]
  },
  {
   "cell_type": "code",
   "execution_count": 7,
   "metadata": {},
   "outputs": [],
   "source": [
    "def gershgorin(A):\n",
    "    n = len(A)\n",
    "    centers = np.diag(A)\n",
    "    radii = np.zeros(n)\n",
    "    for i in range(n):\n",
    "        radii[i] = np.sum(np.abs(A[i,:])) - np.abs(A[i,i])\n",
    "    return centers, radii"
   ]
  },
  {
   "cell_type": "markdown",
   "metadata": {},
   "source": [
    "Localize the eigenvalues of K, and report the disk centers and radii"
   ]
  },
  {
   "cell_type": "code",
   "execution_count": 8,
   "metadata": {},
   "outputs": [
    {
     "data": {
      "text/plain": [
       "(array([1.29292219e+05, 1.03041439e+05, 6.49675787e+04, 4.36124119e+04,\n",
       "        3.62737515e+04, 3.79900994e+04, 2.41669711e+04, 1.16511587e+04,\n",
       "        1.38650805e+04, 5.60054767e+03, 1.17303879e+03, 1.76077135e+03,\n",
       "        2.88423061e+02, 8.68968906e+01, 1.38933458e+01]),\n",
       " array([4.22316467e+04, 5.69275189e+04, 3.11606709e+04, 1.85323487e+04,\n",
       "        7.87051614e+03, 1.78547026e+04, 1.54147167e+04, 2.51204139e+03,\n",
       "        5.50296953e+03, 1.19528329e+03, 3.41990248e+02, 4.01214726e+02,\n",
       "        7.14173194e+01, 2.54029437e+00, 2.59094641e-01]))"
      ]
     },
     "execution_count": 8,
     "metadata": {},
     "output_type": "execute_result"
    }
   ],
   "source": [
    "gershgorin(Kmat)"
   ]
  },
  {
   "cell_type": "markdown",
   "metadata": {},
   "source": [
    "Implement a function lambda = rayleigh_qt(A,x),"
   ]
  },
  {
   "cell_type": "code",
   "execution_count": null,
   "metadata": {},
   "outputs": [],
   "source": [
    "def rayleigh_qt(A,x):\n",
    "    pass"
   ]
  },
  {
   "cell_type": "markdown",
   "metadata": {},
   "source": [
    "Implement a function x, k = power iterate(A,x0) for power iteration. Don’t forget to choose and implement a suitable convergence criterion"
   ]
  },
  {
   "cell_type": "markdown",
   "metadata": {},
   "source": [
    "Test it by finding the largest eigenvalue of the example matrices. Report the eigenvalue found, the Rayleigh residual (the residual of the Raleigh quotient as a least-squares system), and the number k of iterations used. "
   ]
  },
  {
   "cell_type": "markdown",
   "metadata": {},
   "source": [
    "hat is the largest eigenvalue of K? Visualize your eigenfunction using show waves(x,basis set) to see the wave, and show nodes(x,basis set) to see where the sand will gather. The eigenfunction for the largest eigenvalue should have nodes along an 8 x 8 grid. "
   ]
  },
  {
   "cell_type": "markdown",
   "metadata": {},
   "source": [
    "Write a Rayleigh quotient iteration function x, k = rayleigh iterate(A,x0, shift0), which takes a matrix A, an initial vector x0, and an approximate eigenvalue shift0 as arguments and returns an eigenvector x together with the number k of iterations used. The multiplication by the inverse matrix should be implemented using either your own LUfactorization from as x = lu solve(A,y) or QR-factorization from as x = qr solve(A,y). NB: If you did not get either to work in previous weeks, you can use an in-built linear solver and make a small note that you do this."
   ]
  },
  {
   "cell_type": "markdown",
   "metadata": {},
   "source": [
    "Test it with the example matrices, and report the eigenvalues found, Rayleigh residual, and the number k of iterations used. "
   ]
  },
  {
   "cell_type": "markdown",
   "metadata": {},
   "source": []
  }
 ],
 "metadata": {
  "kernelspec": {
   "display_name": "base",
   "language": "python",
   "name": "python3"
  },
  "language_info": {
   "codemirror_mode": {
    "name": "ipython",
    "version": 3
   },
   "file_extension": ".py",
   "mimetype": "text/x-python",
   "name": "python",
   "nbconvert_exporter": "python",
   "pygments_lexer": "ipython3",
   "version": "3.11.5"
  },
  "orig_nbformat": 4
 },
 "nbformat": 4,
 "nbformat_minor": 2
}
