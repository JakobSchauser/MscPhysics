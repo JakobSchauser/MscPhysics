{
 "cells": [
  {
   "cell_type": "code",
   "execution_count": 3,
   "metadata": {},
   "outputs": [],
   "source": [
    "import numpy as np\n",
    "\n",
    "from numpy.linalg import inv\n",
    "\n",
    "from watermatrices import Amat, Bmat, yvec"
   ]
  },
  {
   "cell_type": "code",
   "execution_count": 35,
   "metadata": {},
   "outputs": [],
   "source": [
    "size = Amat.shape[0]\n",
    "\n",
    "E = np.vstack((np.hstack((Amat, Bmat)), np.hstack((Bmat, Amat))))\n",
    "\n",
    "S = np.eye(size*2)\n",
    "S[size:, size:] = -S[size:, size:]\n",
    "\n",
    "z = np.hstack((yvec,-yvec))\n",
    "\n"
   ]
  },
  {
   "cell_type": "code",
   "execution_count": 41,
   "metadata": {},
   "outputs": [
    {
     "name": "stdout",
     "output_type": "stream",
     "text": [
      "Condition number of E:  59.16590717093859\n"
     ]
    }
   ],
   "source": [
    "# maxnorm is the maximum absolute row sum of the matrix.\n",
    "\n",
    "\n",
    "maxnorm = lambda M: np.max(np.sum(np.abs(M), axis=1))\n",
    "\n",
    "cond = lambda M: maxnorm(M) * maxnorm(inv(M))\n",
    "\n",
    "print(\"Condition number of E: \", cond(E))"
   ]
  },
  {
   "cell_type": "code",
   "execution_count": 45,
   "metadata": {},
   "outputs": [],
   "source": [
    "ωs = [0.800, 1.146, 1.400]"
   ]
  },
  {
   "cell_type": "code",
   "execution_count": 46,
   "metadata": {},
   "outputs": [
    {
     "name": "stdout",
     "output_type": "stream",
     "text": [
      "ω =  0.8\n",
      "Condition number of E - ωS:  327.8167042420992\n",
      "ω =  1.146\n",
      "Condition number of E - ωS:  152679.26875233962\n",
      "ω =  1.4\n",
      "Condition number of E - ωS:  227.19443667104443\n"
     ]
    }
   ],
   "source": [
    "for ω in ωs:\n",
    "    print(\"ω = \", ω)\n",
    "    print(\"Condition number of E - ωS: \", cond(E-ω*S))"
   ]
  },
  {
   "cell_type": "markdown",
   "metadata": {},
   "source": [
    "# LU Decomp"
   ]
  },
  {
   "cell_type": "code",
   "execution_count": 59,
   "metadata": {},
   "outputs": [],
   "source": [
    "def pivot(M):\n",
    "    M = M.copy()\n",
    "    I = np.eye(M.shape[0])\n",
    "    best = np.argmax(M[:,0])\n",
    "\n",
    "    I[[0,best]] = I[[best,0]]\n",
    "\n",
    "    return I@M\n",
    "\n",
    "\n",
    "def decomp(M):\n",
    "    M = M.copy()\n",
    "    I = np.eye(M.shape[0])\n",
    "\n",
    "    for i in range(M.shape[0]-1):\n",
    "        M[i:,i:] = pivot(M[i:,i:])\n",
    "\n",
    "        _I = I.copy()\n",
    "        _I[i,(i+1):] = -M[i,(i+1):]/M[i,i]\n",
    "        # wait does this work? \n",
    "        #apparanetly yes, thank you for asking\n",
    "\n",
    "\n",
    "        M = M@_I\n",
    "        #TODO: swap order\n",
    "    return M"
   ]
  },
  {
   "cell_type": "code",
   "execution_count": 53,
   "metadata": {},
   "outputs": [
    {
     "name": "stdout",
     "output_type": "stream",
     "text": [
      "[[ 1  5  2  6]\n",
      " [11  9 24  2]\n",
      " [ 3 17 18  1]\n",
      " [ 2  5  7  1]]\n",
      "[[11.  9. 24.  2.]\n",
      " [ 1.  5.  2.  6.]\n",
      " [ 3. 17. 18.  1.]\n",
      " [ 2.  5.  7.  1.]]\n"
     ]
    }
   ],
   "source": [
    "print(M)\n",
    "\n",
    "print(pivot(M))"
   ]
  },
  {
   "cell_type": "code",
   "execution_count": 60,
   "metadata": {},
   "outputs": [
    {
     "name": "stdout",
     "output_type": "stream",
     "text": [
      "[[ 1  5  2  6]\n",
      " [11  9 24  2]\n",
      " [ 3 17 18  1]\n",
      " [ 2  5  7  1]]\n",
      "I [[ 1. -5. -2. -6.]\n",
      " [ 0.  1.  0.  0.]\n",
      " [ 0.  0.  1.  0.]\n",
      " [ 0.  0.  0.  1.]]\n",
      "I [[ 1.          0.          0.          0.        ]\n",
      " [ 0.          1.          0.04347826 -1.39130435]\n",
      " [ 0.          0.          1.          0.        ]\n",
      " [ 0.          0.          0.          1.        ]]\n",
      "I [[1.         0.         0.         0.        ]\n",
      " [0.         1.         0.         0.        ]\n",
      " [0.         0.         1.         1.63669065]\n",
      " [0.         0.         0.         1.        ]]\n"
     ]
    },
    {
     "data": {
      "text/plain": [
       "array([[  1,   0,   0,   0],\n",
       "       [ 11, -46,   0,   0],\n",
       "       [  3,   2,  12,   0],\n",
       "       [  2,  -5,   2,   0]])"
      ]
     },
     "execution_count": 60,
     "metadata": {},
     "output_type": "execute_result"
    }
   ],
   "source": [
    "M = np.array([1, 5, 2, 6,11, 9, 24, 2, 3, 17, 18, 1, 2, 5, 7, 1])\n",
    "M = M.reshape((4,4))\n",
    "\n",
    "decomp(M).astype(int)"
   ]
  }
 ],
 "metadata": {
  "kernelspec": {
   "display_name": "base",
   "language": "python",
   "name": "python3"
  },
  "language_info": {
   "codemirror_mode": {
    "name": "ipython",
    "version": 3
   },
   "file_extension": ".py",
   "mimetype": "text/x-python",
   "name": "python",
   "nbconvert_exporter": "python",
   "pygments_lexer": "ipython3",
   "version": "3.11.4"
  },
  "orig_nbformat": 4
 },
 "nbformat": 4,
 "nbformat_minor": 2
}
