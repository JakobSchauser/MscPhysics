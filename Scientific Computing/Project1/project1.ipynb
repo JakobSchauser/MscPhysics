{
 "cells": [
  {
   "cell_type": "code",
   "execution_count": 3,
   "metadata": {},
   "outputs": [],
   "source": [
    "import numpy as np\n",
    "\n",
    "from numpy.linalg import inv\n",
    "\n",
    "from watermatrices import Amat, Bmat, yvec"
   ]
  },
  {
   "cell_type": "code",
   "execution_count": 348,
   "metadata": {},
   "outputs": [],
   "source": [
    "size = Amat.shape[0]\n",
    "\n",
    "E = np.vstack((np.hstack((Amat, Bmat)), np.hstack((Bmat, Amat))))\n",
    "\n",
    "S = np.eye(size*2)\n",
    "S[size:, size:] = -S[size:, size:]\n",
    "\n",
    "z = np.hstack((yvec,-yvec))\n",
    "\n"
   ]
  },
  {
   "cell_type": "code",
   "execution_count": 342,
   "metadata": {},
   "outputs": [
    {
     "name": "stdout",
     "output_type": "stream",
     "text": [
      "Condition number of E:  59.16590717093859\n"
     ]
    }
   ],
   "source": [
    "# maxnorm is the maximum absolute row sum of the matrix.\n",
    "\n",
    "\n",
    "maxnorm = lambda M: np.abs(M).sum(axis=1).max()\n",
    "\n",
    "cond = lambda M: maxnorm(M) * maxnorm(inv(M))\n",
    "\n",
    "print(\"Condition number of E: \", cond(E))"
   ]
  },
  {
   "cell_type": "code",
   "execution_count": 357,
   "metadata": {},
   "outputs": [],
   "source": [
    "ωs = [0.800, 1.146, 1.400]\n"
   ]
  },
  {
   "cell_type": "code",
   "execution_count": 46,
   "metadata": {},
   "outputs": [
    {
     "name": "stdout",
     "output_type": "stream",
     "text": [
      "ω =  0.8\n",
      "Condition number of E - ωS:  327.8167042420992\n",
      "ω =  1.146\n",
      "Condition number of E - ωS:  152679.26875233962\n",
      "ω =  1.4\n",
      "Condition number of E - ωS:  227.19443667104443\n"
     ]
    }
   ],
   "source": [
    "for ω in ωs:\n",
    "    print(\"ω = \", ω)\n",
    "    print(\"Condition number of E - ωS: \", cond(E-ω*S))"
   ]
  },
  {
   "cell_type": "markdown",
   "metadata": {},
   "source": [
    "# LU Decomp"
   ]
  },
  {
   "cell_type": "code",
   "execution_count": 400,
   "metadata": {},
   "outputs": [
    {
     "name": "stdout",
     "output_type": "stream",
     "text": [
      "[[ 2  1  1]\n",
      " [ 4  1  4]\n",
      " [-6 -5  3]]\n",
      "\n",
      "[[ 2.  1.  1.]\n",
      " [ 0. -1.  2.]\n",
      " [ 0.  0.  2.]]\n",
      "[[ 1.  0.  0.]\n",
      " [ 2.  1.  0.]\n",
      " [-3.  2.  1.]]\n"
     ]
    }
   ],
   "source": [
    "def same(a,b):\n",
    "    return np.isclose(a,b).all()\n",
    "\n",
    "def pivot(M):\n",
    "    I = np.eye(M.shape[0])\n",
    "    best = np.argmax(M[:,0])\n",
    "\n",
    "    I[[0,best]] = I[[best,0]]\n",
    "\n",
    "    return I\n",
    "\n",
    "\n",
    "def decomp(M):\n",
    "    assert M.shape[0] == M.shape[1], \"Matrix should be square\"\n",
    "    I = lambda: np.eye(M.shape[0])\n",
    "\n",
    "    U = M.copy()\n",
    "    L = I()\n",
    "    \n",
    "    for i in range(M.shape[0]-1):\n",
    "        # P = I()\n",
    "        # P[i:,i:] = pivot(M[i:,i:])\n",
    "        # M = M@P\n",
    "\n",
    "        coeff = I()\n",
    "\n",
    "        coeff[(i+1):,i] = -U[(i+1):,i]/U[i,i]\n",
    "\n",
    "        L[(i+1):,i] = -coeff[(i+1):,i]\n",
    "        U = coeff@U\n",
    "\n",
    "    assert same(L@U, M), \"Decomposition did not work\"\n",
    "\n",
    "    return U, L\n",
    "\n",
    "\n",
    "\n",
    "M = np.array([2, 1, 1, 4, 1, 4, -6, -5, 3])\n",
    "M = M.reshape((3,3))\n",
    "z = [4,11,4]\n",
    "\n",
    "print(M, end= \"\\n\\n\")\n",
    "    \n",
    "d = decomp(M)\n",
    "\n",
    "print(*d,sep=\"\\n\")\n"
   ]
  },
  {
   "cell_type": "code",
   "execution_count": 401,
   "metadata": {},
   "outputs": [
    {
     "name": "stdout",
     "output_type": "stream",
     "text": [
      "True\n",
      "True\n"
     ]
    }
   ],
   "source": [
    "def forward_substitute(L, z):\n",
    "    y = np.empty_like(z)#.astype(float)\n",
    "\n",
    "    for k in range(L.shape[0]):\n",
    "        y[k] = z[k] - (L[k, 0:k] * y[0:k]).sum()\n",
    "\n",
    "    return y\n",
    "\n",
    "\n",
    "def backward_substitute(U, y):\n",
    "    x = np.empty_like(y)#.astype(float)\n",
    "    N = U.shape[0]\n",
    "    for k in range(N)[::-1]:\n",
    "        x[k] = (y[k] - (U[k, (k+1):N] * x[(k+1):N]).sum()) / U[k,k]\n",
    "    return x\n",
    "\n",
    "fw = forward_substitute(d[1],z)\n",
    "\n",
    "\n",
    "print(same(fw, np.linalg.solve(d[1],z)))\n",
    "\n",
    "bw = backward_substitute(d[0],fw)\n",
    "\n",
    "print(same(bw, np.linalg.solve(M,z)))\n"
   ]
  },
  {
   "cell_type": "code",
   "execution_count": 402,
   "metadata": {},
   "outputs": [],
   "source": [
    "def solve_alpha(E, S, z, omega):\n",
    "    M = E-omega*S\n",
    "    L, U = decomp(M)\n",
    "    forward = forward_substitute(L, z)\n",
    "    \n",
    "    x = backward_substitute(U, forward)\n",
    "    alpha = (z*x).sum()\n",
    "    return alpha"
   ]
  },
  {
   "cell_type": "code",
   "execution_count": 403,
   "metadata": {},
   "outputs": [
    {
     "name": "stdout",
     "output_type": "stream",
     "text": [
      "0.8 -0.0005\n",
      "2.6490514214431427\n",
      "0.8 0.0005\n",
      "2.6490514214431427\n",
      "1.146 -0.0005\n",
      "2.6490514214431427\n",
      "1.146 0.0005\n",
      "2.6490514214431427\n",
      "1.4 -0.0005\n",
      "2.6490514214431427\n",
      "1.4 0.0005\n",
      "2.6490514214431427\n"
     ]
    }
   ],
   "source": [
    "size = Amat.shape[0]\n",
    "\n",
    "E = np.vstack((np.hstack((Amat, Bmat)), np.hstack((Bmat, Amat))))\n",
    "\n",
    "S = np.eye(size*2)\n",
    "S[size:, size:] = -S[size:, size:]\n",
    "\n",
    "z = np.hstack((yvec,-yvec))\n",
    "\n",
    "\n",
    "ωs = [0.800, 1.146, 1.400]\n",
    "dω = 0.5e-3\n",
    "\n",
    "for ω in ωs:\n",
    "    for d in [-dω, dω]:\n",
    "        print(ω, d)\n",
    "        print(solve_alpha(E, S, z, ω + d))\n",
    "\n",
    "\n"
   ]
  }
 ],
 "metadata": {
  "kernelspec": {
   "display_name": "base",
   "language": "python",
   "name": "python3"
  },
  "language_info": {
   "codemirror_mode": {
    "name": "ipython",
    "version": 3
   },
   "file_extension": ".py",
   "mimetype": "text/x-python",
   "name": "python",
   "nbconvert_exporter": "python",
   "pygments_lexer": "ipython3",
   "version": "3.11.4"
  },
  "orig_nbformat": 4
 },
 "nbformat": 4,
 "nbformat_minor": 2
}
